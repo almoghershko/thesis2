{
 "cells": [
  {
   "cell_type": "markdown",
   "id": "167381ce-2cac-44a5-a8c4-adcdf117fb07",
   "metadata": {},
   "source": [
    "# Pip Install"
   ]
  },
  {
   "cell_type": "code",
   "execution_count": 1,
   "id": "085ee8e3-092a-468a-8fbf-8370a9621c0a",
   "metadata": {},
   "outputs": [
    {
     "name": "stdout",
     "output_type": "stream",
     "text": [
      "Requirement already satisfied: boto3 in /opt/conda/lib/python3.10/site-packages (1.26.104)\n",
      "Requirement already satisfied: botocore<1.30.0,>=1.29.104 in /opt/conda/lib/python3.10/site-packages (from boto3) (1.29.104)\n",
      "Requirement already satisfied: jmespath<2.0.0,>=0.7.1 in /opt/conda/lib/python3.10/site-packages (from boto3) (1.0.1)\n",
      "Requirement already satisfied: s3transfer<0.7.0,>=0.6.0 in /opt/conda/lib/python3.10/site-packages (from boto3) (0.6.0)\n",
      "Requirement already satisfied: urllib3<1.27,>=1.25.4 in /opt/conda/lib/python3.10/site-packages (from botocore<1.30.0,>=1.29.104->boto3) (1.26.15)\n",
      "Requirement already satisfied: python-dateutil<3.0.0,>=2.1 in /opt/conda/lib/python3.10/site-packages (from botocore<1.30.0,>=1.29.104->boto3) (2.8.2)\n",
      "Requirement already satisfied: six>=1.5 in /opt/conda/lib/python3.10/site-packages (from python-dateutil<3.0.0,>=2.1->botocore<1.30.0,>=1.29.104->boto3) (1.16.0)\n"
     ]
    }
   ],
   "source": [
    "!pip install boto3"
   ]
  },
  {
   "cell_type": "code",
   "execution_count": 2,
   "id": "9b11becc-45e6-451a-a877-1326ea6251ce",
   "metadata": {},
   "outputs": [
    {
     "name": "stdout",
     "output_type": "stream",
     "text": [
      "Requirement already satisfied: astropy in /opt/conda/lib/python3.10/site-packages (5.2.1)\n",
      "Requirement already satisfied: numpy>=1.20 in /opt/conda/lib/python3.10/site-packages (from astropy) (1.23.5)\n",
      "Requirement already satisfied: packaging>=19.0 in /opt/conda/lib/python3.10/site-packages (from astropy) (23.0)\n",
      "Requirement already satisfied: PyYAML>=3.13 in /opt/conda/lib/python3.10/site-packages (from astropy) (6.0)\n",
      "Requirement already satisfied: pyerfa>=2.0 in /opt/conda/lib/python3.10/site-packages (from astropy) (2.0.0.2)\n"
     ]
    }
   ],
   "source": [
    "!pip install astropy"
   ]
  },
  {
   "cell_type": "code",
   "execution_count": 3,
   "id": "4b768d59-b2df-4f18-a6f2-1daba80a1221",
   "metadata": {},
   "outputs": [
    {
     "name": "stdout",
     "output_type": "stream",
     "text": [
      "Requirement already satisfied: sfdmap in /opt/conda/lib/python3.10/site-packages (0.1.1)\n",
      "Requirement already satisfied: numpy in /opt/conda/lib/python3.10/site-packages (from sfdmap) (1.23.5)\n"
     ]
    }
   ],
   "source": [
    "!pip install sfdmap"
   ]
  },
  {
   "cell_type": "code",
   "execution_count": 4,
   "id": "2567be73-3848-434b-842a-e780e5bb76f3",
   "metadata": {},
   "outputs": [
    {
     "name": "stdout",
     "output_type": "stream",
     "text": [
      "Requirement already satisfied: progressbar2 in /opt/conda/lib/python3.10/site-packages (4.2.0)\n",
      "Requirement already satisfied: python-utils>=3.0.0 in /opt/conda/lib/python3.10/site-packages (from progressbar2) (3.5.2)\n"
     ]
    }
   ],
   "source": [
    "!pip install progressbar2"
   ]
  },
  {
   "cell_type": "markdown",
   "id": "a5616205-f61e-4712-bee6-abb8a0e12602",
   "metadata": {},
   "source": [
    "# Initialization"
   ]
  },
  {
   "cell_type": "code",
   "execution_count": 5,
   "id": "5de659b6-211c-4e23-85b5-7c8cd13f3dfa",
   "metadata": {},
   "outputs": [
    {
     "name": "stderr",
     "output_type": "stream",
     "text": [
      "2023-04-01 14:16:55.417154: I tensorflow/core/platform/cpu_feature_guard.cc:193] This TensorFlow binary is optimized with oneAPI Deep Neural Network Library (oneDNN) to use the following CPU instructions in performance-critical operations:  AVX2 AVX512F FMA\n",
      "To enable them in other operations, rebuild TensorFlow with the appropriate compiler flags.\n",
      "2023-04-01 14:16:56.694613: W tensorflow/compiler/xla/stream_executor/platform/default/dso_loader.cc:64] Could not load dynamic library 'libnvinfer.so.7'; dlerror: libnvinfer.so.7: cannot open shared object file: No such file or directory; LD_LIBRARY_PATH: /usr/local/nvidia/lib:/usr/local/nvidia/lib64\n",
      "2023-04-01 14:16:56.694710: W tensorflow/compiler/xla/stream_executor/platform/default/dso_loader.cc:64] Could not load dynamic library 'libnvinfer_plugin.so.7'; dlerror: libnvinfer_plugin.so.7: cannot open shared object file: No such file or directory; LD_LIBRARY_PATH: /usr/local/nvidia/lib:/usr/local/nvidia/lib64\n",
      "2023-04-01 14:16:56.694723: W tensorflow/compiler/tf2tensorrt/utils/py_utils.cc:38] TF-TRT Warning: Cannot dlopen some TensorRT libraries. If you would like to use Nvidia GPU with TensorRT, please make sure the missing libraries mentioned above are installed properly.\n"
     ]
    }
   ],
   "source": [
    "# imports\n",
    "import pandas as pd\n",
    "import numpy as np\n",
    "import os\n",
    "import sys\n",
    "import pickle\n",
    "import boto3\n",
    "from matplotlib import pyplot as plt\n",
    "\n",
    "# random seed\n",
    "seed = 42\n",
    "np.random.seed(seed)\n",
    "\n",
    "# local files paths\n",
    "local_home_dir_path = os.path.expanduser(\"~\")\n",
    "local_work_dir_path = os.path.join(local_home_dir_path, 'thesis2')\n",
    "local_code_dir_path = os.path.join(local_work_dir_path , 'code')\n",
    "\n",
    "# S3 file paths\n",
    "endpoint_url = 'https://s3-west.nrp-nautilus.io'\n",
    "bucket_name = 'tau-astro'\n",
    "prefix = 'almogh'\n",
    "s3_work_dir_path = os.path.join(prefix, 'thesis2')\n",
    "s3_data_dir_path = os.path.join(s3_work_dir_path , 'data')\n",
    "s3_final_table_csv_path = os.path.join(s3_data_dir_path, 'SDSS_DR16_all.csv')\n",
    "\n",
    "s3_client = boto3.client(\"s3\", endpoint_url=endpoint_url)\n",
    "\n",
    "# adding code folder to path\n",
    "sys.path.insert(1, local_code_dir_path)\n",
    "from s3 import to_s3_npy, to_s3_pkl, from_s3_npy, from_s3_pkl, to_s3_fig, from_s3_csv"
   ]
  },
  {
   "cell_type": "markdown",
   "id": "5fc8bd23-37ba-4d41-97e9-3a6a40f2fd0b",
   "metadata": {},
   "source": [
    "# Load the Dataset Info"
   ]
  },
  {
   "cell_type": "code",
   "execution_count": 6,
   "id": "b7c40b99-91d5-421c-add5-b02bc660a1a5",
   "metadata": {},
   "outputs": [
    {
     "name": "stdout",
     "output_type": "stream",
     "text": [
      "Total galaxies in DR16: 3234563\n"
     ]
    }
   ],
   "source": [
    "# loading the table\n",
    "final_table_csv_path = os.path.join(endpoint_url,bucket_name,s3_final_table_csv_path)\n",
    "gs = pd.read_csv(final_table_csv_path, header = 0, dtype = {\n",
    "    'specobjid' : str,\n",
    "    'z' : float,\n",
    "    'z_noqso' : float,\n",
    "    'snMedian' : float,\n",
    "    'run2d' : str,\n",
    "    'ra' : float,\n",
    "    'dec' : float,\n",
    "    'plate' : int,\n",
    "    'mjd' : int,\n",
    "    'fiberid' : int,\n",
    "    'waveMin' : float,\n",
    "    'waveMax' : float\n",
    "    })\n",
    "print('Total galaxies in DR16: %d' % len(gs))"
   ]
  },
  {
   "cell_type": "code",
   "execution_count": 7,
   "id": "8a3684de-4565-42c8-93e1-d27440b78811",
   "metadata": {
    "tags": []
   },
   "outputs": [],
   "source": [
    "gs['key'] = ['{0}_{1}_{2}'.format(p,m,f) for p,m,f in zip(gs['plate'], gs['mjd'], gs['fiberid'])]"
   ]
  },
  {
   "cell_type": "markdown",
   "id": "69353b07-e2e7-4631-8249-9a0488c884bd",
   "metadata": {},
   "source": [
    "## Load Dalya's Outliers"
   ]
  },
  {
   "cell_type": "code",
   "execution_count": 8,
   "id": "3e39a990-bbcc-4f91-9d2b-615361ed67a3",
   "metadata": {
    "tags": []
   },
   "outputs": [
    {
     "name": "stdout",
     "output_type": "stream",
     "text": [
      "loading from uri: s3://tau-astro/almogh/thesis2/data/Dalya_outlier_classes.csv\n",
      "total outliers: 360. total tags: 394\n"
     ]
    }
   ],
   "source": [
    "# load the table\n",
    "dalya_outliers = from_s3_csv(s3_client, bucket_name, 'almogh/thesis2/data/Dalya_outlier_classes.csv')\n",
    "dalya_outliers['key'] = ['{0}_{1}_{2}'.format(p,m,f) for p,m,f in zip(dalya_outliers['plate'], dalya_outliers['mjd'], dalya_outliers['fiberid'])]\n",
    "\n",
    "# remove non-galaxy\n",
    "dalya_outliers = dalya_outliers[dalya_outliers['class']=='GALAXY']\n",
    "\n",
    "# get ourliers from the full table\n",
    "gs_outliers = gs[gs['key'].isin(dalya_outliers['key'].unique())]\n",
    "\n",
    "# make sure no outlier was missed\n",
    "assert len(gs_outliers)==len(dalya_outliers['key'].unique()), \"some of Dalya's outliers are not listed!\"\n",
    "\n",
    "print('total outliers: {0}. total tags: {1}'.format(len(dalya_outliers['key'].unique()), len(dalya_outliers)))"
   ]
  },
  {
   "cell_type": "markdown",
   "id": "b95d0f45-ddf6-4188-ae1e-dea157fd97d8",
   "metadata": {},
   "source": [
    "# Filter and Merge with other Data Sources"
   ]
  },
  {
   "cell_type": "markdown",
   "id": "320fe719-90db-49a7-9b4f-8579f98cdac0",
   "metadata": {},
   "source": [
    "## Filter by SNR and Z"
   ]
  },
  {
   "cell_type": "code",
   "execution_count": 9,
   "id": "e5d8deba-288f-4802-b53c-7526b0721ec5",
   "metadata": {},
   "outputs": [],
   "source": [
    "# parameters\n",
    "snr_th = 0.6\n",
    "z_th = 0.03"
   ]
  },
  {
   "cell_type": "code",
   "execution_count": 10,
   "id": "20f51552-0c70-49c2-9fe5-38b0792ab805",
   "metadata": {
    "tags": []
   },
   "outputs": [
    {
     "name": "stdout",
     "output_type": "stream",
     "text": [
      "Total galaxies filtered with low z values: 120\n",
      "Total galaxies filtered with low snr values: 0\n"
     ]
    }
   ],
   "source": [
    "# init counter\n",
    "outliers_cnt = len(gs_outliers)\n",
    "outliers_total_filtered = 0\n",
    "\n",
    "# Remove galaxies with low redshift\n",
    "gs_outliers = gs_outliers[gs_outliers.z > z_th]\n",
    "gs_outliers.index = np.arange(len(gs_outliers))\n",
    "outliers_filtered = outliers_cnt-len(gs_outliers)\n",
    "print('Total galaxies filtered with low z values: %d' % outliers_filtered)\n",
    "outliers_cnt = len(gs_outliers)\n",
    "outliers_total_filtered += outliers_filtered\n",
    "\n",
    "# Remove galaxies with low SNR\n",
    "gs_outliers = gs_outliers[gs_outliers.snMedian > snr_th]\n",
    "gs_outliers.index = np.arange(len(gs_outliers))\n",
    "outliers_filtered = outliers_cnt-len(gs_outliers)\n",
    "print('Total galaxies filtered with low snr values: %d' % outliers_filtered)\n",
    "outliers_cnt = len(gs_outliers)\n",
    "outliers_total_filtered += outliers_filtered"
   ]
  },
  {
   "cell_type": "markdown",
   "id": "9c89e2e1-dcf6-45aa-9538-e16590d7be46",
   "metadata": {},
   "source": [
    "## Merge with Dalya's Scores"
   ]
  },
  {
   "cell_type": "code",
   "execution_count": 11,
   "id": "813e4c96-d403-48b1-a940-e62850e3bd24",
   "metadata": {},
   "outputs": [],
   "source": [
    "# adding Dalya's scores\n",
    "dalya_scores_URL = 'http://wise-obs.tau.ac.il/~dovip/weird-galaxies/full.csv'\n",
    "dalya_df = pd.read_csv(dalya_scores_URL)\n",
    "dalya_df = dalya_df.rename(columns={\" mjd\":\"mjd\",\" fiber\":\"fiberid\", \" weirdness\":\"weirdness\"})"
   ]
  },
  {
   "cell_type": "code",
   "execution_count": 12,
   "id": "5f6937f4-0c2c-4b0d-bc31-6c606e86e6b6",
   "metadata": {
    "tags": []
   },
   "outputs": [
    {
     "name": "stdout",
     "output_type": "stream",
     "text": [
      "Total galaxies filtered after merging with Dalya's scores: 13\n"
     ]
    }
   ],
   "source": [
    "gs_outliers = gs_outliers.merge(dalya_df, how='inner', on=['plate', 'mjd', 'fiberid'])\n",
    "gs_outliers.index = np.arange(len(gs_outliers))\n",
    "outliers_filtered = outliers_cnt-len(gs_outliers)\n",
    "print(\"Total galaxies filtered after merging with Dalya's scores: %d\" % outliers_filtered)\n",
    "outliers_cnt = len(gs_outliers)\n",
    "outliers_total_filtered += outliers_filtered"
   ]
  },
  {
   "cell_type": "markdown",
   "id": "cba43427-285d-45e9-84ec-8a01031ad2ff",
   "metadata": {},
   "source": [
    "## Merge with galSpecLine and galSpecInfo"
   ]
  },
  {
   "cell_type": "code",
   "execution_count": 16,
   "id": "1b05e202-093e-4c78-8f77-42c0cb80fd14",
   "metadata": {},
   "outputs": [],
   "source": [
    "# Merge with galSpecInfo\n",
    "\n",
    "galSpecInfo = pd.read_csv(os.path.join(endpoint_url, bucket_name, s3_data_dir_path, 'galSpecInfo.csv'), header = 0, dtype = {\n",
    "    'specobjid' : str,\n",
    "    'plateid' : int,\n",
    "    'mjd' : int,\n",
    "    'fiberid' : int,\n",
    "    'spectrotype' : str,\n",
    "    'subclass' : str\n",
    "    })\n",
    "galSpecInfo = galSpecInfo.rename(columns={\"plateid\":\"plate\"})"
   ]
  },
  {
   "cell_type": "code",
   "execution_count": 14,
   "id": "3b18055f-20bc-48a7-9b37-115dffbbde43",
   "metadata": {},
   "outputs": [],
   "source": [
    "# Merge with galSpecLine\n",
    "\n",
    "galSpecLine = pd.read_csv(os.path.join(endpoint_url, bucket_name, s3_data_dir_path, 'galSpecLine.csv'), header = 0, dtype = {\n",
    "    'specobjid' : str,\n",
    "    'oii_3726_eqw' : float,\n",
    "    'oii_3729_eqw' : float,\n",
    "    'neiii_3869_eqw' : float,\n",
    "    'h_delta_eqw' : float,\n",
    "    'h_gamma_eqw' : float,\n",
    "    'oiii_4363_eqw' : float,\n",
    "    'h_beta_eqw' : float,\n",
    "    'oiii_4959_eqw' : float,\n",
    "    'oiii_5007_eqw' : float,\n",
    "    'hei_5876_eqw' : float,\n",
    "    'oi_6300_eqw' : float,\n",
    "    'nii_6548_eqw' : float,\n",
    "    'h_alpha_eqw' : float,\n",
    "    'nii_6584_eqw' : float,\n",
    "    'sii_6717_eqw' : float,\n",
    "    'sii_6731_eqw' : float,\n",
    "    'ariii7135_eqw' : float\n",
    "    })"
   ]
  },
  {
   "cell_type": "code",
   "execution_count": 17,
   "id": "b039931b-8c67-4a13-976a-3d2e08bcc7fd",
   "metadata": {},
   "outputs": [
    {
     "name": "stdout",
     "output_type": "stream",
     "text": [
      "Total galaxies filtered after merging with galSpecInfo: 55\n"
     ]
    }
   ],
   "source": [
    "gs_outliers = gs_outliers.merge(galSpecInfo, how='inner', on=['specobjid', 'plate', 'mjd', 'fiberid'])\n",
    "gs_outliers.index = np.arange(len(gs_outliers))\n",
    "outliers_filtered = outliers_cnt-len(gs_outliers)\n",
    "print(\"Total galaxies filtered after merging with galSpecInfo: %d\" % outliers_filtered)\n",
    "outliers_cnt = len(gs_outliers)\n",
    "outliers_total_filtered += outliers_filtered"
   ]
  },
  {
   "cell_type": "code",
   "execution_count": 18,
   "id": "a5d5e412-6ea8-4474-9b6e-c3218923b907",
   "metadata": {
    "tags": []
   },
   "outputs": [
    {
     "name": "stdout",
     "output_type": "stream",
     "text": [
      "Total galaxies filtered after merging with galSpecLine: 0\n"
     ]
    }
   ],
   "source": [
    "gs_outliers = gs_outliers.merge(galSpecLine, how='inner', on=['specobjid'])\n",
    "gs_outliers.index = np.arange(len(gs_outliers))\n",
    "outliers_filtered = outliers_cnt-len(gs_outliers)\n",
    "print(\"Total galaxies filtered after merging with galSpecLine: %d\" % outliers_filtered)\n",
    "outliers_cnt = len(gs_outliers)\n",
    "outliers_total_filtered += outliers_filtered"
   ]
  },
  {
   "cell_type": "markdown",
   "id": "ae4fb92a-4629-43c0-b901-c8d224126b24",
   "metadata": {},
   "source": [
    "## Filter by wavelength"
   ]
  },
  {
   "cell_type": "code",
   "execution_count": 19,
   "id": "24d10d68-74b6-4943-ac05-eb2525d46de0",
   "metadata": {},
   "outputs": [],
   "source": [
    "wl_grid = np.arange(3800, 8000, 0.5)"
   ]
  },
  {
   "cell_type": "code",
   "execution_count": 20,
   "id": "a93f1a5e-8b3c-4e74-9ed4-b9654d7c62db",
   "metadata": {
    "tags": []
   },
   "outputs": [
    {
     "name": "stdout",
     "output_type": "stream",
     "text": [
      "Total number of galaxies left: 114\n"
     ]
    }
   ],
   "source": [
    "gs_outliers['waveMin_rest'] = np.divide(gs_outliers.waveMin,1+gs_outliers.z)\n",
    "gs_outliers['waveMax_rest'] = np.divide(gs_outliers.waveMax,1+gs_outliers.z)\n",
    "gs_outliers_filtered = gs_outliers[(gs_outliers['waveMin_rest']<wl_grid[0])&(gs_outliers['waveMax_rest']>wl_grid[-1])]\n",
    "gs_outliers_filtered.index = np.arange(len(gs_outliers_filtered))\n",
    "print('Total number of galaxies left: %d' % len(gs_outliers_filtered))"
   ]
  },
  {
   "cell_type": "markdown",
   "id": "ef0e0506-864e-4156-9c99-0be9e89ec6f8",
   "metadata": {},
   "source": [
    "# Create the outliers datasets for the models"
   ]
  },
  {
   "cell_type": "code",
   "execution_count": 21,
   "id": "0319a85e-1a9e-41f9-99e7-fb7a566826f4",
   "metadata": {},
   "outputs": [
    {
     "name": "stdout",
     "output_type": "stream",
     "text": [
      "loading from uri: s3://tau-astro/almogh/thesis2/data/NN/train/gs.pkl\n",
      "loading from uri: s3://tau-astro/almogh/thesis2/data/SmallRF/train/gs.pkl\n",
      "loading from uri: s3://tau-astro/almogh/thesis2/data/BigRF/train/gs.pkl\n"
     ]
    }
   ],
   "source": [
    "gs_NN_train = from_s3_pkl(s3_client = s3_client, bucket_name = bucket_name, path_in_bucket = 'almogh/thesis2/data/NN/train/gs.pkl')\n",
    "gs_SmallRF_train = from_s3_pkl(s3_client = s3_client, bucket_name = bucket_name, path_in_bucket = 'almogh/thesis2/data/SmallRF/train/gs.pkl')\n",
    "gs_BigRF_train = from_s3_pkl(s3_client = s3_client, bucket_name = bucket_name, path_in_bucket = 'almogh/thesis2/data/BigRF/train/gs.pkl')"
   ]
  },
  {
   "cell_type": "code",
   "execution_count": 24,
   "id": "f7372421-9b79-4171-bdfa-5eda27be0512",
   "metadata": {
    "tags": []
   },
   "outputs": [
    {
     "name": "stderr",
     "output_type": "stream",
     "text": [
      "/tmp/ipykernel_218/956641818.py:1: SettingWithCopyWarning: \n",
      "A value is trying to be set on a copy of a slice from a DataFrame.\n",
      "Try using .loc[row_indexer,col_indexer] = value instead\n",
      "\n",
      "See the caveats in the documentation: https://pandas.pydata.org/pandas-docs/stable/user_guide/indexing.html#returning-a-view-versus-a-copy\n",
      "  gs_outliers_filtered['in NN train'] = gs_outliers_filtered.specobjid.isin(gs_NN_train.specobjid)\n",
      "/tmp/ipykernel_218/956641818.py:2: SettingWithCopyWarning: \n",
      "A value is trying to be set on a copy of a slice from a DataFrame.\n",
      "Try using .loc[row_indexer,col_indexer] = value instead\n",
      "\n",
      "See the caveats in the documentation: https://pandas.pydata.org/pandas-docs/stable/user_guide/indexing.html#returning-a-view-versus-a-copy\n",
      "  gs_outliers_filtered['in SmallRF train'] = gs_outliers_filtered.specobjid.isin(gs_SmallRF_train.specobjid)\n",
      "/tmp/ipykernel_218/956641818.py:3: SettingWithCopyWarning: \n",
      "A value is trying to be set on a copy of a slice from a DataFrame.\n",
      "Try using .loc[row_indexer,col_indexer] = value instead\n",
      "\n",
      "See the caveats in the documentation: https://pandas.pydata.org/pandas-docs/stable/user_guide/indexing.html#returning-a-view-versus-a-copy\n",
      "  gs_outliers_filtered['in BigRF train'] = gs_outliers_filtered.specobjid.isin(gs_BigRF_train.specobjid)\n"
     ]
    }
   ],
   "source": [
    "gs_outliers_filtered['in NN train'] = gs_outliers_filtered.specobjid.isin(gs_NN_train.specobjid)\n",
    "gs_outliers_filtered['in SmallRF train'] = gs_outliers_filtered.specobjid.isin(gs_SmallRF_train.specobjid)\n",
    "gs_outliers_filtered['in BigRF train'] = gs_outliers_filtered.specobjid.isin(gs_BigRF_train.specobjid)"
   ]
  },
  {
   "cell_type": "code",
   "execution_count": 28,
   "id": "e0809448-f2ac-4d84-a3b2-2c32439be667",
   "metadata": {
    "tags": []
   },
   "outputs": [
    {
     "name": "stdout",
     "output_type": "stream",
     "text": [
      "out of 114 filtered outliers, 30 are in BigRF train set, 8 are in SmallRF train set, 8 are in NN train set\n"
     ]
    }
   ],
   "source": [
    "print('out of {0} filtered outliers, {1} are in BigRF train set, {2} are in SmallRF train set, {3} are in NN train set'.format(len(gs_outliers_filtered), sum(gs_outliers_filtered['in BigRF train']),sum(gs_outliers_filtered['in SmallRF train']),sum(gs_outliers_filtered['in NN train'])))"
   ]
  },
  {
   "cell_type": "markdown",
   "id": "b1eed170-5885-48a0-8fe3-4b6145f88271",
   "metadata": {},
   "source": [
    "# Download and pre-process the data"
   ]
  },
  {
   "cell_type": "code",
   "execution_count": 29,
   "id": "96846836-274a-44d3-903b-7e61bfec7c55",
   "metadata": {},
   "outputs": [],
   "source": [
    "# create a wrapper that returns the index also\n",
    "from pre_processing import download_spectrum\n",
    "def download_spectrum_wrapper(i):\n",
    "    spec, _, ivar = download_spectrum(gs_outliers_filtered.iloc[i], pre_proc=True, wl_grid=wl_grid)\n",
    "    return i, spec, ivar"
   ]
  },
  {
   "cell_type": "code",
   "execution_count": 30,
   "id": "a098ec42-199e-40e0-adbe-7947009448b9",
   "metadata": {},
   "outputs": [
    {
     "name": "stderr",
     "output_type": "stream",
     "text": [
      "[Parallel(n_jobs=-1)]: Using backend ThreadingBackend with 32 concurrent workers.\n",
      "[Parallel(n_jobs=-1)]: Done   8 tasks      | elapsed:   26.4s\n",
      "[Parallel(n_jobs=-1)]: Done  74 out of 114 | elapsed:   30.3s remaining:   16.4s\n",
      "[Parallel(n_jobs=-1)]: Done  97 out of 114 | elapsed:   31.1s remaining:    5.5s\n",
      "[Parallel(n_jobs=-1)]: Done 114 out of 114 | elapsed:   31.7s finished\n"
     ]
    }
   ],
   "source": [
    "# create jobs to download and preprocess\n",
    "from joblib import Parallel, delayed\n",
    "res = Parallel(n_jobs=-1, verbose=5, prefer=\"threads\")(delayed(download_spectrum_wrapper)(i) for i in range(len(gs_outliers_filtered)))"
   ]
  },
  {
   "cell_type": "code",
   "execution_count": 31,
   "id": "793c6c50-1fa3-4bd8-996f-a92f6b611d92",
   "metadata": {},
   "outputs": [],
   "source": [
    "# make sure all the data was successfully downloaded (exception encountered during download will return empty arrays)\n",
    "assert all([len(val[1]) > 0 for val in res])"
   ]
  },
  {
   "cell_type": "code",
   "execution_count": 32,
   "id": "6c5e98cf-4d33-4cea-8905-36df6f68d468",
   "metadata": {},
   "outputs": [],
   "source": [
    "# organize the results to matrices\n",
    "res = sorted(res, key=lambda x: x[0])\n",
    "spec = np.stack([x[1] for x in res], axis=0)\n",
    "ivar = np.stack([x[2] for x in res], axis=0)"
   ]
  },
  {
   "cell_type": "markdown",
   "id": "828402da-7cdb-43d9-a739-20bea2740517",
   "metadata": {},
   "source": [
    "# Save dataset"
   ]
  },
  {
   "cell_type": "code",
   "execution_count": 33,
   "id": "585dacbb-3f8b-40bb-b3cd-a0c7200e8799",
   "metadata": {},
   "outputs": [
    {
     "name": "stdout",
     "output_type": "stream",
     "text": [
      "saving to uri: s3://tau-astro/almogh/thesis2/data/Outliers/gs.pkl\n",
      "saving to uri: s3://tau-astro/almogh/thesis2/data/Outliers/spec.npy\n",
      "saving to uri: s3://tau-astro/almogh/thesis2/data/Outliers/ivar.npy\n",
      "saving to uri: s3://tau-astro/almogh/thesis2/data/Outliers/wl_grid.npy\n"
     ]
    },
    {
     "data": {
      "text/plain": [
       "True"
      ]
     },
     "execution_count": 33,
     "metadata": {},
     "output_type": "execute_result"
    }
   ],
   "source": [
    "to_s3_pkl(gs_outliers_filtered, s3_client, bucket_name, os.path.join(s3_data_dir_path,'Outliers','gs.pkl'))\n",
    "to_s3_npy(spec, s3_client, bucket_name, os.path.join(s3_data_dir_path,'Outliers','spec.npy'))\n",
    "to_s3_npy(ivar, s3_client, bucket_name, os.path.join(s3_data_dir_path,'Outliers','ivar.npy'))\n",
    "to_s3_npy(wl_grid, s3_client, bucket_name, os.path.join(s3_data_dir_path,'Outliers','wl_grid.npy'))"
   ]
  }
 ],
 "metadata": {
  "kernelspec": {
   "display_name": "Python 3 (ipykernel)",
   "language": "python",
   "name": "python3"
  },
  "language_info": {
   "codemirror_mode": {
    "name": "ipython",
    "version": 3
   },
   "file_extension": ".py",
   "mimetype": "text/x-python",
   "name": "python",
   "nbconvert_exporter": "python",
   "pygments_lexer": "ipython3",
   "version": "3.10.9"
  }
 },
 "nbformat": 4,
 "nbformat_minor": 5
}
