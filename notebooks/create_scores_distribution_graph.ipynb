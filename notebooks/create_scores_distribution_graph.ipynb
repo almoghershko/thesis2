{
 "cells": [
  {
   "cell_type": "code",
   "execution_count": 1,
   "id": "b0191cb3-ae66-471f-99c8-9988574e34ae",
   "metadata": {
    "tags": []
   },
   "outputs": [
    {
     "name": "stdout",
     "output_type": "stream",
     "text": [
      "Collecting boto3\n",
      "  Using cached boto3-1.28.1-py3-none-any.whl (135 kB)\n",
      "Collecting astropy\n",
      "  Using cached astropy-5.3.1-cp310-cp310-manylinux_2_5_x86_64.manylinux1_x86_64.manylinux_2_12_x86_64.manylinux2010_x86_64.whl (10.1 MB)\n",
      "Collecting sfdmap\n",
      "  Using cached sfdmap-0.1.1-py3-none-any.whl\n",
      "Collecting progressbar2\n",
      "  Using cached progressbar2-4.2.0-py2.py3-none-any.whl (27 kB)\n",
      "Collecting GPUtil\n",
      "  Using cached GPUtil-1.4.0-py3-none-any.whl\n",
      "Collecting parse\n",
      "  Using cached parse-1.19.1-py2.py3-none-any.whl (18 kB)\n",
      "Collecting jmespath<2.0.0,>=0.7.1\n",
      "  Using cached jmespath-1.0.1-py3-none-any.whl (20 kB)\n",
      "Collecting botocore<1.32.0,>=1.31.1\n",
      "  Using cached botocore-1.31.1-py3-none-any.whl (11.0 MB)\n",
      "Collecting s3transfer<0.7.0,>=0.6.0\n",
      "  Using cached s3transfer-0.6.1-py3-none-any.whl (79 kB)\n",
      "Collecting pyerfa>=2.0\n",
      "  Using cached pyerfa-2.0.0.3-cp310-cp310-manylinux_2_17_x86_64.manylinux2014_x86_64.whl (741 kB)\n",
      "Requirement already satisfied: numpy>=1.21 in /opt/conda/lib/python3.10/site-packages (from astropy) (1.23.5)\n",
      "Requirement already satisfied: packaging>=19.0 in /opt/conda/lib/python3.10/site-packages (from astropy) (23.0)\n",
      "Requirement already satisfied: PyYAML>=3.13 in /opt/conda/lib/python3.10/site-packages (from astropy) (6.0)\n",
      "Collecting python-utils>=3.0.0\n",
      "  Using cached python_utils-3.7.0-py2.py3-none-any.whl (26 kB)\n",
      "Requirement already satisfied: python-dateutil<3.0.0,>=2.1 in /opt/conda/lib/python3.10/site-packages (from botocore<1.32.0,>=1.31.1->boto3) (2.8.2)\n",
      "Requirement already satisfied: urllib3<1.27,>=1.25.4 in /opt/conda/lib/python3.10/site-packages (from botocore<1.32.0,>=1.31.1->boto3) (1.26.15)\n",
      "Requirement already satisfied: typing-extensions>3.10.0.2 in /opt/conda/lib/python3.10/site-packages (from python-utils>=3.0.0->progressbar2) (4.5.0)\n",
      "Requirement already satisfied: six>=1.5 in /opt/conda/lib/python3.10/site-packages (from python-dateutil<3.0.0,>=2.1->botocore<1.32.0,>=1.31.1->boto3) (1.16.0)\n",
      "Installing collected packages: parse, GPUtil, sfdmap, python-utils, pyerfa, jmespath, progressbar2, botocore, astropy, s3transfer, boto3\n",
      "Successfully installed GPUtil-1.4.0 astropy-5.3.1 boto3-1.28.1 botocore-1.31.1 jmespath-1.0.1 parse-1.19.1 progressbar2-4.2.0 pyerfa-2.0.0.3 python-utils-3.7.0 s3transfer-0.6.1 sfdmap-0.1.1\n"
     ]
    }
   ],
   "source": [
    "!pip install boto3 astropy sfdmap progressbar2 GPUtil parse"
   ]
  },
  {
   "cell_type": "code",
   "execution_count": 4,
   "id": "f64a76ee-f27f-445c-b592-2a6ed1cb4c2f",
   "metadata": {
    "tags": []
   },
   "outputs": [],
   "source": [
    "# imports\n",
    "import pandas as pd\n",
    "import numpy as np\n",
    "import os\n",
    "import sys\n",
    "import pickle\n",
    "import boto3\n",
    "from matplotlib import pyplot as plt\n",
    "import time\n",
    "\n",
    "# random seed\n",
    "seed = 42\n",
    "np.random.seed(seed)\n",
    "\n",
    "# local files paths\n",
    "local_home_dir_path = os.path.expanduser(\"~\")\n",
    "local_work_dir_path = os.path.join(local_home_dir_path, 'thesis2')\n",
    "local_code_dir_path = os.path.join(local_work_dir_path , 'code')\n",
    "\n",
    "# S3 file paths\n",
    "endpoint_url = 'https://s3-west.nrp-nautilus.io'\n",
    "bucket_name = 'tau-astro'\n",
    "prefix = 'almogh'\n",
    "s3_work_dir_path = os.path.join(prefix, 'thesis2')\n",
    "s3_data_dir_path = os.path.join(s3_work_dir_path , 'data')\n",
    "s3_models_dir_path = os.path.join(s3_work_dir_path , 'models')\n",
    "s3_final_table_csv_path = os.path.join(s3_data_dir_path, 'SDSS_DR16_all.csv')\n",
    "\n",
    "s3_client = boto3.client(\"s3\", endpoint_url=endpoint_url)\n",
    "\n",
    "# adding code folder to path\n",
    "sys.path.insert(1, local_code_dir_path)\n",
    "from s3 import to_s3_npy, to_s3_pkl, from_s3_npy, from_s3_pkl, to_s3_fig"
   ]
  },
  {
   "cell_type": "code",
   "execution_count": 5,
   "id": "6b3a2851-3309-40e9-8cdc-2d91b6093341",
   "metadata": {
    "tags": []
   },
   "outputs": [
    {
     "name": "stdout",
     "output_type": "stream",
     "text": [
      "loading from uri: s3://tau-astro/almogh/thesis2/eval/gs_outliers_with_scores.pkl\n"
     ]
    }
   ],
   "source": [
    "gs_outliers = from_s3_pkl(s3_client, bucket_name, 'almogh/thesis2/eval/gs_outliers_with_scores.pkl')"
   ]
  },
  {
   "cell_type": "code",
   "execution_count": 7,
   "id": "b288e17b-5f2c-4d17-b547-70e2702ab444",
   "metadata": {
    "tags": []
   },
   "outputs": [
    {
     "data": {
      "text/plain": [
       "specobjid           2255301266211104768\n",
       "snMedian                       13.32238\n",
       "run2d                                26\n",
       "ra                            186.15299\n",
       "dec                           37.410154\n",
       "plate                              2003\n",
       "mjd                               53442\n",
       "fiberid                             450\n",
       "waveMin                        3811.536\n",
       "waveMax                        9215.099\n",
       "z                               0.04038\n",
       "key                      2003_53442_450\n",
       "weirdness                          0.69\n",
       "spectrotype                      GALAXY\n",
       "subclass                      STARBURST\n",
       "oii_3726_eqw                  -54.74792\n",
       "oii_3729_eqw                  -54.74792\n",
       "neiii_3869_eqw                -26.28569\n",
       "h_delta_eqw                   -18.99245\n",
       "h_gamma_eqw                   -37.46724\n",
       "oiii_4363_eqw                 -9.999014\n",
       "h_beta_eqw                    -104.2134\n",
       "oiii_4959_eqw                 -188.1588\n",
       "oiii_5007_eqw                 -583.3107\n",
       "hei_5876_eqw                  -16.69367\n",
       "oi_6300_eqw                   -4.717315\n",
       "nii_6548_eqw                  -5.300008\n",
       "h_alpha_eqw                   -548.7737\n",
       "nii_6584_eqw                  -11.13975\n",
       "sii_6717_eqw                    -17.286\n",
       "sii_6731_eqw                  -13.52249\n",
       "ariii7135_eqw                 -12.15343\n",
       "waveMin_rest                3663.600332\n",
       "waveMax_rest                8857.436937\n",
       "in NN train                       False\n",
       "in SmallRF train                  False\n",
       "in BigRF train                    False\n",
       "NN_score                        0.77667\n",
       "BigRF_score                    0.368318\n",
       "Name: 83, dtype: object"
      ]
     },
     "execution_count": 7,
     "metadata": {},
     "output_type": "execute_result"
    }
   ],
   "source": [
    "gs_outliers.sort_values(by='NN_score',ascending=False).iloc[0]"
   ]
  },
  {
   "cell_type": "code",
   "execution_count": 8,
   "id": "afbfc4d3-954f-4167-95fd-4e851d082ef6",
   "metadata": {
    "tags": []
   },
   "outputs": [
    {
     "name": "stdout",
     "output_type": "stream",
     "text": [
      "loading from uri: s3://tau-astro/almogh/thesis2/eval/inference/D_NN2.npy\n"
     ]
    }
   ],
   "source": [
    "D_NN = from_s3_npy(s3_client = s3_client, bucket_name = bucket_name, path_in_bucket = 'almogh/thesis2/eval/inference/D_NN2.npy')"
   ]
  },
  {
   "cell_type": "code",
   "execution_count": 10,
   "id": "e7518415-0eaa-410b-a4aa-c08535791ae9",
   "metadata": {
    "tags": []
   },
   "outputs": [],
   "source": [
    "NN_scores = np.mean(D_NN,axis=1)"
   ]
  },
  {
   "cell_type": "code",
   "execution_count": 22,
   "id": "b53071df-3ebe-495a-86e3-91284c78d1ea",
   "metadata": {
    "tags": []
   },
   "outputs": [],
   "source": [
    "NN_all_scores = np.concatenate([NN_scores,gs_outliers.NN_score])"
   ]
  },
  {
   "cell_type": "code",
   "execution_count": 85,
   "id": "1a7b4a2a-0618-47a8-b9d3-1d2701ccdae0",
   "metadata": {
    "tags": []
   },
   "outputs": [],
   "source": [
    "hist_all, bin_edges_all = np.histogram(NN_all_scores, bins=100)\n",
    "bin_centers_all = (bin_edges_all[:-1]+bin_edges_all[1:])/2\n",
    "bin_width_all = bin_edges_all[1]-bin_edges_all[0]"
   ]
  },
  {
   "cell_type": "code",
   "execution_count": 86,
   "id": "a2bbfe24-9eb5-484d-9f3f-bf976f4ccf81",
   "metadata": {
    "tags": []
   },
   "outputs": [],
   "source": [
    "hist_outliers, bin_edges_outliers = np.histogram(gs_outliers.NN_score, bins=8)\n",
    "bin_centers_outliers = (bin_edges_outliers[:-1]+bin_edges_outliers[1:])/2\n",
    "bin_width_outliers = bin_edges_outliers[1]-bin_edges_outliers[0]"
   ]
  },
  {
   "cell_type": "code",
   "execution_count": 87,
   "id": "86eef804-3d20-4b8d-b249-6a27ce1e14b5",
   "metadata": {
    "tags": []
   },
   "outputs": [
    {
     "data": {
      "text/plain": [
       "<matplotlib.legend.Legend at 0x7fc4db98b550>"
      ]
     },
     "execution_count": 87,
     "metadata": {},
     "output_type": "execute_result"
    },
    {
     "data": {
      "image/png": "[encoded data removed]",
      "text/plain": [
       "<Figure size 640x480 with 1 Axes>"
      ]
     },
     "metadata": {},
     "output_type": "display_data"
    }
   ],
   "source": [
    "fig, ax = plt.subplots()\n",
    "ax.bar(bin_centers_all, hist_all/max(hist_all), width=bin_width_all, label='all')\n",
    "ax.bar(bin_centers_outliers, hist_outliers/max(hist_outliers), width=bin_width_outliers, alpha=0.5, label='outliers')\n",
    "ax.set_xlim([0,1])\n",
    "ax.set_title('NN scores histogram')\n",
    "ax.set_xlabel('score')\n",
    "ax.set_ylabel('count (normalized)')\n",
    "ax.legend()"
   ]
  },
  {
   "cell_type": "code",
   "execution_count": 47,
   "id": "15102fd2-2012-4a42-932c-5f9ad36de5dd",
   "metadata": {
    "tags": []
   },
   "outputs": [
    {
     "name": "stdout",
     "output_type": "stream",
     "text": [
      "loading from uri: s3://tau-astro/almogh/thesis2/eval/inference/D_BigRF.npy\n"
     ]
    }
   ],
   "source": [
    "D_BigRF = from_s3_npy(s3_client = s3_client, bucket_name = bucket_name, path_in_bucket = 'almogh/thesis2/eval/inference/D_BigRF.npy')"
   ]
  },
  {
   "cell_type": "code",
   "execution_count": 48,
   "id": "988791f5-95aa-43e1-b7a2-ebbbedb8addc",
   "metadata": {
    "tags": []
   },
   "outputs": [],
   "source": [
    "BigRF_scores = np.mean(D_BigRF,axis=1)"
   ]
  },
  {
   "cell_type": "code",
   "execution_count": 49,
   "id": "c8700e0d-82c8-42b7-833c-18b98ad18640",
   "metadata": {
    "tags": []
   },
   "outputs": [],
   "source": [
    "BigRF_all_scores = np.concatenate([BigRF_scores,gs_outliers.BigRF_score])"
   ]
  },
  {
   "cell_type": "code",
   "execution_count": 80,
   "id": "5c38c1c2-c1f2-436e-a9aa-86685d628130",
   "metadata": {
    "tags": []
   },
   "outputs": [],
   "source": [
    "hist_all, bin_edges_all = np.histogram(BigRF_all_scores, bins=100)\n",
    "bin_centers_all = (bin_edges_all[:-1]+bin_edges_all[1:])/2\n",
    "bin_width_all = bin_edges_all[1]-bin_edges_all[0]"
   ]
  },
  {
   "cell_type": "code",
   "execution_count": 81,
   "id": "c426b0a3-413f-4f88-8ff2-f2c5fc108293",
   "metadata": {
    "tags": []
   },
   "outputs": [],
   "source": [
    "hist_outliers, bin_edges_outliers = np.histogram(gs_outliers.BigRF_score, bins=8)\n",
    "bin_centers_outliers = (bin_edges_outliers[:-1]+bin_edges_outliers[1:])/2\n",
    "bin_width_outliers = bin_edges_outliers[1]-bin_edges_outliers[0]"
   ]
  },
  {
   "cell_type": "code",
   "execution_count": 83,
   "id": "73ce23f3-53ba-4746-944a-fd791edd6232",
   "metadata": {
    "tags": []
   },
   "outputs": [
    {
     "data": {
      "text/plain": [
       "<matplotlib.legend.Legend at 0x7fc4dbea27d0>"
      ]
     },
     "execution_count": 83,
     "metadata": {},
     "output_type": "execute_result"
    },
    {
     "data": {
      "image/png": "[encoded data removed]",
      "text/plain": [
       "<Figure size 640x480 with 1 Axes>"
      ]
     },
     "metadata": {},
     "output_type": "display_data"
    }
   ],
   "source": [
    "fig, ax = plt.subplots()\n",
    "ax.bar(bin_centers_all, hist_all/max(hist_all), width=bin_width_all, label='all')\n",
    "ax.bar(bin_centers_outliers, hist_outliers/max(hist_outliers), width=bin_width_outliers, alpha=0.5, label='outliers')\n",
    "ax.set_xlim([0,1])\n",
    "ax.set_title('RF scores histogram')\n",
    "ax.set_xlabel('score')\n",
    "ax.set_ylabel('count (normalized)')\n",
    "ax.legend()"
   ]
  },
  {
   "cell_type": "code",
   "execution_count": 88,
   "id": "a754772d-25f8-44be-befa-9022c17697dc",
   "metadata": {
    "tags": []
   },
   "outputs": [
    {
     "data": {
      "text/plain": [
       "0.5563305849119595"
      ]
     },
     "execution_count": 88,
     "metadata": {},
     "output_type": "execute_result"
    }
   ],
   "source": [
    "np.mean(gs_outliers.BigRF_score)"
   ]
  },
  {
   "cell_type": "code",
   "execution_count": 90,
   "id": "5ef63902-49e6-432e-addb-f530a90297d3",
   "metadata": {
    "tags": []
   },
   "outputs": [
    {
     "data": {
      "text/plain": [
       "0.33476932292982625"
      ]
     },
     "execution_count": 90,
     "metadata": {},
     "output_type": "execute_result"
    }
   ],
   "source": [
    "np.mean(BigRF_all_scores)"
   ]
  },
  {
   "cell_type": "code",
   "execution_count": 89,
   "id": "54e37352-5aeb-4c0b-928f-b31e939025a2",
   "metadata": {
    "tags": []
   },
   "outputs": [
    {
     "data": {
      "text/plain": [
       "0.368182492854904"
      ]
     },
     "execution_count": 89,
     "metadata": {},
     "output_type": "execute_result"
    }
   ],
   "source": [
    "np.mean(gs_outliers.NN_score)"
   ]
  },
  {
   "cell_type": "code",
   "execution_count": 91,
   "id": "07f50286-f2fb-4506-bee6-fcab8c291ffd",
   "metadata": {
    "tags": []
   },
   "outputs": [
    {
     "data": {
      "text/plain": [
       "0.25868448896065066"
      ]
     },
     "execution_count": 91,
     "metadata": {},
     "output_type": "execute_result"
    }
   ],
   "source": [
    "np.mean(NN_all_scores)"
   ]
  }
 ],
 "metadata": {
  "kernelspec": {
   "display_name": "Python 3 (ipykernel)",
   "language": "python",
   "name": "python3"
  },
  "language_info": {
   "codemirror_mode": {
    "name": "ipython",
    "version": 3
   },
   "file_extension": ".py",
   "mimetype": "text/x-python",
   "name": "python",
   "nbconvert_exporter": "python",
   "pygments_lexer": "ipython3",
   "version": "3.10.10"
  }
 },
 "nbformat": 4,
 "nbformat_minor": 5
}
