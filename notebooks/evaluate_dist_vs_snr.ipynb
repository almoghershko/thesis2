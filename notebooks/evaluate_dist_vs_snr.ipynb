{
 "cells": [
  {
   "cell_type": "code",
   "execution_count": 1,
   "id": "86954f80-d037-4df7-b932-b77a5da00553",
   "metadata": {},
   "outputs": [
    {
     "name": "stdout",
     "output_type": "stream",
     "text": [
      "Notebook mode\n"
     ]
    }
   ],
   "source": [
    "try:\n",
    "    __IPYTHON__\n",
    "    is_notebook = True\n",
    "    print('Notebook mode')\n",
    "except NameError:\n",
    "    is_notebook = False\n",
    "    print('Script mode')"
   ]
  },
  {
   "cell_type": "markdown",
   "id": "f78efada-76f9-4d68-be75-3ebb73036217",
   "metadata": {},
   "source": [
    "# Pip Install"
   ]
  },
  {
   "cell_type": "code",
   "execution_count": 2,
   "id": "b1fbf8ce-0447-4cf0-973e-e3d590429cb7",
   "metadata": {},
   "outputs": [
    {
     "name": "stdout",
     "output_type": "stream",
     "text": [
      "Requirement already satisfied: boto3 in /opt/conda/lib/python3.10/site-packages (1.26.74)\n",
      "Requirement already satisfied: astropy in /opt/conda/lib/python3.10/site-packages (5.2.1)\n",
      "Requirement already satisfied: sfdmap in /opt/conda/lib/python3.10/site-packages (0.1.1)\n",
      "Requirement already satisfied: progressbar2 in /opt/conda/lib/python3.10/site-packages (4.2.0)\n",
      "Requirement already satisfied: GPUtil in /opt/conda/lib/python3.10/site-packages (1.4.0)\n",
      "Requirement already satisfied: parse in /opt/conda/lib/python3.10/site-packages (1.19.0)\n",
      "Requirement already satisfied: s3transfer<0.7.0,>=0.6.0 in /opt/conda/lib/python3.10/site-packages (from boto3) (0.6.0)\n",
      "Requirement already satisfied: jmespath<2.0.0,>=0.7.1 in /opt/conda/lib/python3.10/site-packages (from boto3) (1.0.1)\n",
      "Requirement already satisfied: botocore<1.30.0,>=1.29.74 in /opt/conda/lib/python3.10/site-packages (from boto3) (1.29.74)\n",
      "Requirement already satisfied: pyerfa>=2.0 in /opt/conda/lib/python3.10/site-packages (from astropy) (2.0.0.1)\n",
      "Requirement already satisfied: PyYAML>=3.13 in /opt/conda/lib/python3.10/site-packages (from astropy) (6.0)\n",
      "Requirement already satisfied: packaging>=19.0 in /opt/conda/lib/python3.10/site-packages (from astropy) (21.3)\n",
      "Requirement already satisfied: numpy>=1.20 in /opt/conda/lib/python3.10/site-packages (from astropy) (1.23.5)\n",
      "Requirement already satisfied: python-utils>=3.0.0 in /opt/conda/lib/python3.10/site-packages (from progressbar2) (3.5.2)\n",
      "Requirement already satisfied: urllib3<1.27,>=1.25.4 in /opt/conda/lib/python3.10/site-packages (from botocore<1.30.0,>=1.29.74->boto3) (1.26.11)\n",
      "Requirement already satisfied: python-dateutil<3.0.0,>=2.1 in /opt/conda/lib/python3.10/site-packages (from botocore<1.30.0,>=1.29.74->boto3) (2.8.2)\n",
      "Requirement already satisfied: pyparsing!=3.0.5,>=2.0.2 in /opt/conda/lib/python3.10/site-packages (from packaging>=19.0->astropy) (3.0.9)\n",
      "Requirement already satisfied: six>=1.5 in /opt/conda/lib/python3.10/site-packages (from python-dateutil<3.0.0,>=2.1->botocore<1.30.0,>=1.29.74->boto3) (1.16.0)\n"
     ]
    }
   ],
   "source": [
    "if is_notebook:\n",
    "    !pip install boto3 astropy sfdmap progressbar2 GPUtil parse"
   ]
  },
  {
   "cell_type": "markdown",
   "id": "630c7e62-0177-4b1d-8359-28926b46695f",
   "metadata": {},
   "source": [
    "# Initialization"
   ]
  },
  {
   "cell_type": "code",
   "execution_count": 3,
   "id": "0158bd42-fd1a-48d0-bc28-d76a9570ae27",
   "metadata": {},
   "outputs": [
    {
     "name": "stdout",
     "output_type": "stream",
     "text": [
      "GPUs:\n",
      "(1)\tTesla V100-SXM2-32GB\t-\t32.51GB\n"
     ]
    },
    {
     "name": "stderr",
     "output_type": "stream",
     "text": [
      "2023-02-18 21:09:54.703834: I tensorflow/core/platform/cpu_feature_guard.cc:193] This TensorFlow binary is optimized with oneAPI Deep Neural Network Library (oneDNN) to use the following CPU instructions in performance-critical operations:  AVX2 AVX512F AVX512_VNNI FMA\n",
      "To enable them in other operations, rebuild TensorFlow with the appropriate compiler flags.\n",
      "2023-02-18 21:09:55.151871: I tensorflow/core/util/port.cc:104] oneDNN custom operations are on. You may see slightly different numerical results due to floating-point round-off errors from different computation orders. To turn them off, set the environment variable `TF_ENABLE_ONEDNN_OPTS=0`.\n",
      "2023-02-18 21:09:57.366312: W tensorflow/compiler/xla/stream_executor/platform/default/dso_loader.cc:64] Could not load dynamic library 'libnvinfer.so.7'; dlerror: libnvinfer.so.7: cannot open shared object file: No such file or directory; LD_LIBRARY_PATH: /usr/local/nvidia/lib:/usr/local/nvidia/lib64\n",
      "2023-02-18 21:09:57.397594: W tensorflow/compiler/xla/stream_executor/platform/default/dso_loader.cc:64] Could not load dynamic library 'libnvinfer_plugin.so.7'; dlerror: libnvinfer_plugin.so.7: cannot open shared object file: No such file or directory; LD_LIBRARY_PATH: /usr/local/nvidia/lib:/usr/local/nvidia/lib64\n",
      "2023-02-18 21:09:57.397618: W tensorflow/compiler/tf2tensorrt/utils/py_utils.cc:38] TF-TRT Warning: Cannot dlopen some TensorRT libraries. If you would like to use Nvidia GPU with TensorRT, please make sure the missing libraries mentioned above are installed properly.\n"
     ]
    }
   ],
   "source": [
    "import GPUtil\n",
    "print('GPUs:\\n{0}'.format('\\n'.join(['('+str(i+1)+')\\t'+gpu.name+'\\t-\\t{:.2f}GB'.format(gpu.memoryFree/1e3) for i,gpu in enumerate(GPUtil.getGPUs())])))\n",
    "N_GPUs = len(GPUtil.getGPUs())\n",
    "\n",
    "# setting environ variables using !\n",
    "if is_notebook:\n",
    "    !export TF_GPU_THREAD_MODE=\"gpu_private\"\n",
    "    if N_GPUs>1:\n",
    "        if N_GPUs==2:\n",
    "            !export TF_MIN_GPU_MULTIPROCESSOR_COUNT=2\n",
    "            !export CUDA_VISIBLE_DEVICES=\"0,1\"\n",
    "        if N_GPUs==3:\n",
    "            !export TF_MIN_GPU_MULTIPROCESSOR_COUNT=3\n",
    "            !export CUDA_VISIBLE_DEVICES=\"0,1,2\"\n",
    "        if N_GPUs==4:\n",
    "            !export TF_MIN_GPU_MULTIPROCESSOR_COUNT=4\n",
    "            !export CUDA_VISIBLE_DEVICES=\"0,1,2,3\"\n",
    "        if N_GPUs==5:\n",
    "            !export TF_MIN_GPU_MULTIPROCESSOR_COUNT=5\n",
    "            !export CUDA_VISIBLE_DEVICES=\"0,1,2,3,4\"\n",
    "        if N_GPUs==6:\n",
    "            !export TF_MIN_GPU_MULTIPROCESSOR_COUNT=6\n",
    "            !export CUDA_VISIBLE_DEVICES=\"0,1,2,3,4,5\"\n",
    "        if N_GPUs==7:\n",
    "            !export TF_MIN_GPU_MULTIPROCESSOR_COUNT=7\n",
    "            !export CUDA_VISIBLE_DEVICES=\"0,1,2,3,4,5,6\"\n",
    "        if N_GPUs==8:\n",
    "            !export TF_MIN_GPU_MULTIPROCESSOR_COUNT=8\n",
    "            !export CUDA_VISIBLE_DEVICES=\"0,1,2,3,4,5,6,7\"\n",
    "\n",
    "# set environ variables using os.environ\n",
    "import os \n",
    "if N_GPUs>1:\n",
    "    os.environ[\"TF_MIN_GPU_MULTIPROCESSOR_COUNT\"]=str(N_GPUs)\n",
    "    os.environ[\"CUDA_VISIBLE_DEVICES\"]=','.join([str(i) for i in range(N_GPUs)])\n",
    "os.environ[\"TF_GPU_THREAD_MODE\"]=\"gpu_private\"\n",
    "\n",
    "# make sure tensorflow detect the GPUs\n",
    "import tensorflow as tf\n",
    "assert len(tf.config.list_physical_devices('GPU'))==N_GPUs, 'Not all GPUs are available!'"
   ]
  },
  {
   "cell_type": "code",
   "execution_count": 4,
   "id": "67d54be1-b1ff-45cd-8983-6ab5f0e9ad1f",
   "metadata": {},
   "outputs": [],
   "source": [
    "# imports\n",
    "import pandas as pd\n",
    "import numpy as np\n",
    "import os\n",
    "import sys\n",
    "import pickle\n",
    "import boto3\n",
    "from matplotlib import pyplot as plt\n",
    "import time\n",
    "\n",
    "# random seed\n",
    "seed = 42\n",
    "np.random.seed(seed)\n",
    "\n",
    "# local files paths\n",
    "local_home_dir_path = os.path.expanduser(\"~\")\n",
    "local_work_dir_path = os.path.join(local_home_dir_path, 'thesis2')\n",
    "local_code_dir_path = os.path.join(local_work_dir_path , 'code')\n",
    "\n",
    "# S3 file paths\n",
    "endpoint_url = 'https://s3-west.nrp-nautilus.io'\n",
    "bucket_name = 'tau-astro'\n",
    "prefix = 'almogh'\n",
    "s3_work_dir_path = os.path.join(prefix, 'thesis2')\n",
    "s3_data_dir_path = os.path.join(s3_work_dir_path , 'data')\n",
    "s3_models_dir_path = os.path.join(s3_work_dir_path , 'models')\n",
    "s3_final_table_csv_path = os.path.join(s3_data_dir_path, 'SDSS_DR16_all.csv')\n",
    "\n",
    "s3_client = boto3.client(\"s3\", endpoint_url=endpoint_url)\n",
    "\n",
    "# adding code folder to path\n",
    "sys.path.insert(1, local_code_dir_path)\n",
    "from s3 import to_s3_npy, to_s3_pkl, from_s3_npy, from_s3_pkl, to_s3_fig\n",
    "from s3 import log_s3, s3_save_TF_model, s3_load_TF_model\n",
    "from NN import DistanceLayer, SiameseModel, DistillationDataGenerator, L1, L2"
   ]
  },
  {
   "cell_type": "markdown",
   "id": "4da6e618-a166-46dd-a584-4caed7cadf97",
   "metadata": {},
   "source": [
    "# Load Models"
   ]
  },
  {
   "cell_type": "code",
   "execution_count": 5,
   "id": "4f253c84-c838-423f-9a9b-094159e3eccd",
   "metadata": {},
   "outputs": [
    {
     "name": "stdout",
     "output_type": "stream",
     "text": [
      "loading from uri: s3://tau-astro/almogh/thesis2/models/NN/train/after_50_epochs/model\n",
      "INFO:tensorflow:Mixed precision compatibility check (mixed_float16): OK\n",
      "Your GPU will likely run quickly with dtype policy mixed_float16 as it has compute capability of at least 7.0. Your GPU: Tesla V100-SXM2-32GB, compute capability 7.0\n"
     ]
    },
    {
     "name": "stderr",
     "output_type": "stream",
     "text": [
      "2023-02-18 21:10:02.626732: I tensorflow/core/platform/cpu_feature_guard.cc:193] This TensorFlow binary is optimized with oneAPI Deep Neural Network Library (oneDNN) to use the following CPU instructions in performance-critical operations:  AVX2 AVX512F AVX512_VNNI FMA\n",
      "To enable them in other operations, rebuild TensorFlow with the appropriate compiler flags.\n",
      "2023-02-18 21:10:04.060334: I tensorflow/core/common_runtime/gpu/gpu_device.cc:1613] Created device /job:localhost/replica:0/task:0/device:GPU:0 with 30972 MB memory:  -> device: 0, name: Tesla V100-SXM2-32GB, pci bus id: 0000:89:00.0, compute capability: 7.0\n"
     ]
    }
   ],
   "source": [
    "# Load NN\n",
    "batch_size = 128\n",
    "NN = s3_load_TF_model(s3_client = s3_client,\n",
    "                      bucket_name = bucket_name,\n",
    "                      path_in_bucket = 'almogh/thesis2/models/NN/train/after_50_epochs/model',\n",
    "                      model_name = 'model',\n",
    "                      custom_objects = {'DistanceLayer': DistanceLayer, 'L1':L1, 'L2':L2, 'SiameseModel':SiameseModel})"
   ]
  },
  {
   "cell_type": "code",
   "execution_count": 6,
   "id": "4daced2b-ba71-45c3-af32-8b08310617c6",
   "metadata": {},
   "outputs": [
    {
     "name": "stdout",
     "output_type": "stream",
     "text": [
      "loading from uri: s3://tau-astro/almogh/thesis2/models/SmallRF/train/rf.pkl\n"
     ]
    },
    {
     "name": "stderr",
     "output_type": "stream",
     "text": [
      "/opt/conda/lib/python3.10/site-packages/sklearn/base.py:288: UserWarning: Trying to unpickle estimator DecisionTreeClassifier from version 1.1.2 when using version 1.2.0. This might lead to breaking code or invalid results. Use at your own risk. For more info please refer to:\n",
      "https://scikit-learn.org/stable/model_persistence.html#security-maintainability-limitations\n",
      "  warnings.warn(\n",
      "/opt/conda/lib/python3.10/site-packages/sklearn/base.py:288: UserWarning: Trying to unpickle estimator RandomForestClassifier from version 1.1.2 when using version 1.2.0. This might lead to breaking code or invalid results. Use at your own risk. For more info please refer to:\n",
      "https://scikit-learn.org/stable/model_persistence.html#security-maintainability-limitations\n",
      "  warnings.warn(\n"
     ]
    }
   ],
   "source": [
    "# Load SmallRF\n",
    "SmallRF = from_s3_pkl(s3_client = s3_client,\n",
    "                      bucket_name = bucket_name,\n",
    "                      path_in_bucket = 'almogh/thesis2/models/SmallRF/train/rf.pkl')"
   ]
  },
  {
   "cell_type": "code",
   "execution_count": 7,
   "id": "2b2bcc82-ee91-4073-b4b5-8863e66b55a3",
   "metadata": {},
   "outputs": [
    {
     "name": "stdout",
     "output_type": "stream",
     "text": [
      "loading from uri: s3://tau-astro/almogh/thesis2/models/BigRF/train/rf.pkl\n"
     ]
    }
   ],
   "source": [
    "# Load BigRF\n",
    "BigRF = from_s3_pkl(s3_client = s3_client,\n",
    "                      bucket_name = bucket_name,\n",
    "                      path_in_bucket = 'almogh/thesis2/models/BigRF/train/rf.pkl')"
   ]
  },
  {
   "cell_type": "markdown",
   "id": "f6890abf-23a4-42da-a502-125a557862d6",
   "metadata": {},
   "source": [
    "# Infer"
   ]
  },
  {
   "cell_type": "code",
   "execution_count": 8,
   "id": "8478840f-bc5a-42e9-a7f7-b19cd6ebd335",
   "metadata": {},
   "outputs": [],
   "source": [
    "data = {\n",
    "    'NN_val':'almogh/thesis2/data/NN/val',\n",
    "    'SmallRF_val':'almogh/thesis2/data/SmallRF/val',\n",
    "    'SmallRF_test':'almogh/thesis2/data/SmallRF/test-topSNR'\n",
    "       }\n",
    "SNRs = np.array([2,4,6,8,10,15,20,25,30,40,100,np.inf])"
   ]
  },
  {
   "cell_type": "code",
   "execution_count": 9,
   "id": "82410fa5-c23e-473d-8aea-ff7815e700ad",
   "metadata": {},
   "outputs": [
    {
     "name": "stdout",
     "output_type": "stream",
     "text": [
      "====== data:NN_val =====\n",
      "loading from uri: s3://tau-astro/almogh/thesis2/data/NN/val/spec.npy\n",
      "----- SNR:2.0 -----\n",
      "creating a noisy copy\n",
      "Calculating distance vector for NN\n"
     ]
    },
    {
     "name": "stderr",
     "output_type": "stream",
     "text": [
      "2023-02-18 21:10:21.548001: I tensorflow/compiler/xla/stream_executor/cuda/cuda_dnn.cc:428] Loaded cuDNN version 8204\n"
     ]
    },
    {
     "name": "stdout",
     "output_type": "stream",
     "text": [
      "8/8 [==============================] - 5s 62ms/step\n",
      "Calculating distance vector for SmallRF\n",
      "  Applying forest to results... \n"
     ]
    },
    {
     "name": "stderr",
     "output_type": "stream",
     "text": [
      "[Parallel(n_jobs=-1)]: Using backend ThreadingBackend with 32 concurrent workers.\n",
      "[Parallel(n_jobs=-1)]: Done 136 tasks      | elapsed:    0.1s\n"
     ]
    },
    {
     "name": "stdout",
     "output_type": "stream",
     "text": [
      "  Max leaf index: \n",
      "74\n",
      "  Calculating real leafs... \n"
     ]
    },
    {
     "name": "stderr",
     "output_type": "stream",
     "text": [
      "[Parallel(n_jobs=-1)]: Done 386 tasks      | elapsed:    0.2s\n",
      "[Parallel(n_jobs=-1)]: Done 500 out of 500 | elapsed:    0.2s finished\n",
      "[Parallel(n_jobs=-1)]: Using backend LokyBackend with 32 concurrent workers.\n",
      "[Parallel(n_jobs=-1)]: Done 165 tasks      | elapsed:    5.3s\n"
     ]
    },
    {
     "name": "stdout",
     "output_type": "stream",
     "text": [
      "  Calculating similarity matrix... \n"
     ]
    },
    {
     "name": "stderr",
     "output_type": "stream",
     "text": [
      "[Parallel(n_jobs=-1)]: Done 500 out of 500 | elapsed:    6.2s finished\n"
     ]
    },
    {
     "name": "stdout",
     "output_type": "stream",
     "text": [
      "Calculating distance vector for BigRF\n",
      "  Applying forest to results... \n"
     ]
    },
    {
     "name": "stderr",
     "output_type": "stream",
     "text": [
      "[Parallel(n_jobs=-1)]: Using backend ThreadingBackend with 32 concurrent workers.\n",
      "[Parallel(n_jobs=-1)]: Done 136 tasks      | elapsed:    0.2s\n",
      "[Parallel(n_jobs=-1)]: Done 386 tasks      | elapsed:    0.4s\n",
      "[Parallel(n_jobs=-1)]: Done 500 out of 500 | elapsed:    0.4s finished\n",
      "[Parallel(n_jobs=-1)]: Using backend LokyBackend with 32 concurrent workers.\n"
     ]
    },
    {
     "name": "stdout",
     "output_type": "stream",
     "text": [
      "  Max leaf index: \n",
      "360\n",
      "  Calculating real leafs... \n"
     ]
    },
    {
     "name": "stderr",
     "output_type": "stream",
     "text": [
      "[Parallel(n_jobs=-1)]: Done 226 tasks      | elapsed:    0.3s\n"
     ]
    },
    {
     "name": "stdout",
     "output_type": "stream",
     "text": [
      "  Calculating similarity matrix... \n"
     ]
    },
    {
     "name": "stderr",
     "output_type": "stream",
     "text": [
      "[Parallel(n_jobs=-1)]: Done 500 out of 500 | elapsed:    0.6s finished\n"
     ]
    },
    {
     "name": "stdout",
     "output_type": "stream",
     "text": [
      "----- SNR:4.0 -----\n",
      "creating a noisy copy\n",
      "Calculating distance vector for NN\n",
      "8/8 [==============================] - 0s 29ms/step\n",
      "Calculating distance vector for SmallRF\n",
      "  Applying forest to results... \n"
     ]
    },
    {
     "name": "stderr",
     "output_type": "stream",
     "text": [
      "[Parallel(n_jobs=-1)]: Using backend ThreadingBackend with 32 concurrent workers.\n",
      "[Parallel(n_jobs=-1)]: Done 136 tasks      | elapsed:    0.1s\n",
      "[Parallel(n_jobs=-1)]: Done 386 tasks      | elapsed:    0.2s\n",
      "[Parallel(n_jobs=-1)]: Done 500 out of 500 | elapsed:    0.2s finished\n",
      "[Parallel(n_jobs=-1)]: Using backend LokyBackend with 32 concurrent workers.\n"
     ]
    },
    {
     "name": "stdout",
     "output_type": "stream",
     "text": [
      "  Max leaf index: \n",
      "74\n",
      "  Calculating real leafs... \n"
     ]
    },
    {
     "name": "stderr",
     "output_type": "stream",
     "text": [
      "[Parallel(n_jobs=-1)]: Done 224 tasks      | elapsed:    0.4s\n"
     ]
    },
    {
     "name": "stdout",
     "output_type": "stream",
     "text": [
      "  Calculating similarity matrix... \n"
     ]
    },
    {
     "name": "stderr",
     "output_type": "stream",
     "text": [
      "[Parallel(n_jobs=-1)]: Done 500 out of 500 | elapsed:    0.6s finished\n"
     ]
    },
    {
     "name": "stdout",
     "output_type": "stream",
     "text": [
      "Calculating distance vector for BigRF\n",
      "  Applying forest to results... \n"
     ]
    },
    {
     "name": "stderr",
     "output_type": "stream",
     "text": [
      "[Parallel(n_jobs=-1)]: Using backend ThreadingBackend with 32 concurrent workers.\n",
      "[Parallel(n_jobs=-1)]: Done 136 tasks      | elapsed:    0.1s\n",
      "[Parallel(n_jobs=-1)]: Done 386 tasks      | elapsed:    0.3s\n",
      "[Parallel(n_jobs=-1)]: Done 500 out of 500 | elapsed:    0.3s finished\n",
      "[Parallel(n_jobs=-1)]: Using backend LokyBackend with 32 concurrent workers.\n"
     ]
    },
    {
     "name": "stdout",
     "output_type": "stream",
     "text": [
      "  Max leaf index: \n",
      "360\n",
      "  Calculating real leafs... \n"
     ]
    },
    {
     "name": "stderr",
     "output_type": "stream",
     "text": [
      "[Parallel(n_jobs=-1)]: Done 224 tasks      | elapsed:    0.3s\n",
      "[Parallel(n_jobs=-1)]: Done 437 out of 500 | elapsed:    0.5s remaining:    0.1s\n"
     ]
    },
    {
     "name": "stdout",
     "output_type": "stream",
     "text": [
      "  Calculating similarity matrix... \n"
     ]
    },
    {
     "name": "stderr",
     "output_type": "stream",
     "text": [
      "[Parallel(n_jobs=-1)]: Done 500 out of 500 | elapsed:    0.6s finished\n"
     ]
    },
    {
     "name": "stdout",
     "output_type": "stream",
     "text": [
      "----- SNR:6.0 -----\n",
      "creating a noisy copy\n",
      "Calculating distance vector for NN\n",
      "8/8 [==============================] - 0s 27ms/step\n",
      "Calculating distance vector for SmallRF\n",
      "  Applying forest to results... \n"
     ]
    },
    {
     "name": "stderr",
     "output_type": "stream",
     "text": [
      "[Parallel(n_jobs=-1)]: Using backend ThreadingBackend with 32 concurrent workers.\n",
      "[Parallel(n_jobs=-1)]: Done 136 tasks      | elapsed:    0.1s\n",
      "[Parallel(n_jobs=-1)]: Done 386 tasks      | elapsed:    0.3s\n",
      "[Parallel(n_jobs=-1)]: Done 500 out of 500 | elapsed:    0.3s finished\n",
      "[Parallel(n_jobs=-1)]: Using backend LokyBackend with 32 concurrent workers.\n"
     ]
    },
    {
     "name": "stdout",
     "output_type": "stream",
     "text": [
      "  Max leaf index: \n",
      "74\n",
      "  Calculating real leafs... \n"
     ]
    },
    {
     "name": "stderr",
     "output_type": "stream",
     "text": [
      "[Parallel(n_jobs=-1)]: Done 226 tasks      | elapsed:    0.3s\n",
      "[Parallel(n_jobs=-1)]: Done 500 out of 500 | elapsed:    0.5s finished\n"
     ]
    },
    {
     "name": "stdout",
     "output_type": "stream",
     "text": [
      "  Calculating similarity matrix... \n",
      "Calculating distance vector for BigRF\n",
      "  Applying forest to results... \n"
     ]
    },
    {
     "name": "stderr",
     "output_type": "stream",
     "text": [
      "[Parallel(n_jobs=-1)]: Using backend ThreadingBackend with 32 concurrent workers.\n",
      "[Parallel(n_jobs=-1)]: Done 136 tasks      | elapsed:    0.7s\n",
      "[Parallel(n_jobs=-1)]: Done 386 tasks      | elapsed:    0.8s\n",
      "[Parallel(n_jobs=-1)]: Done 500 out of 500 | elapsed:    0.9s finished\n"
     ]
    },
    {
     "name": "stdout",
     "output_type": "stream",
     "text": [
      "  Max leaf index: \n",
      "360\n",
      "  Calculating real leafs... \n"
     ]
    },
    {
     "name": "stderr",
     "output_type": "stream",
     "text": [
      "[Parallel(n_jobs=-1)]: Using backend LokyBackend with 32 concurrent workers.\n"
     ]
    },
    {
     "name": "stdout",
     "output_type": "stream",
     "text": [
      "  Calculating similarity matrix... \n"
     ]
    },
    {
     "name": "stderr",
     "output_type": "stream",
     "text": [
      "[Parallel(n_jobs=-1)]: Done 230 tasks      | elapsed:    0.3s\n",
      "[Parallel(n_jobs=-1)]: Done 437 out of 500 | elapsed:    0.4s remaining:    0.1s\n",
      "[Parallel(n_jobs=-1)]: Done 500 out of 500 | elapsed:    0.5s finished\n"
     ]
    },
    {
     "name": "stdout",
     "output_type": "stream",
     "text": [
      "----- SNR:8.0 -----\n",
      "creating a noisy copy\n",
      "Calculating distance vector for NN\n",
      "8/8 [==============================] - 0s 26ms/step\n",
      "Calculating distance vector for SmallRF\n",
      "  Applying forest to results... \n"
     ]
    },
    {
     "name": "stderr",
     "output_type": "stream",
     "text": [
      "[Parallel(n_jobs=-1)]: Using backend ThreadingBackend with 32 concurrent workers.\n",
      "[Parallel(n_jobs=-1)]: Done 139 tasks      | elapsed:    0.2s\n",
      "[Parallel(n_jobs=-1)]: Done 389 tasks      | elapsed:    0.3s\n",
      "[Parallel(n_jobs=-1)]: Done 500 out of 500 | elapsed:    0.3s finished\n",
      "[Parallel(n_jobs=-1)]: Using backend LokyBackend with 32 concurrent workers.\n"
     ]
    },
    {
     "name": "stdout",
     "output_type": "stream",
     "text": [
      "  Max leaf index: \n",
      "74\n",
      "  Calculating real leafs... \n",
      "  Calculating similarity matrix... \n"
     ]
    },
    {
     "name": "stderr",
     "output_type": "stream",
     "text": [
      "[Parallel(n_jobs=-1)]: Done 224 tasks      | elapsed:    0.3s\n",
      "[Parallel(n_jobs=-1)]: Done 437 out of 500 | elapsed:    0.5s remaining:    0.1s\n",
      "[Parallel(n_jobs=-1)]: Done 500 out of 500 | elapsed:    0.5s finished\n"
     ]
    },
    {
     "name": "stdout",
     "output_type": "stream",
     "text": [
      "Calculating distance vector for BigRF\n",
      "  Applying forest to results... \n"
     ]
    },
    {
     "name": "stderr",
     "output_type": "stream",
     "text": [
      "[Parallel(n_jobs=-1)]: Using backend ThreadingBackend with 32 concurrent workers.\n",
      "[Parallel(n_jobs=-1)]: Done 136 tasks      | elapsed:    0.1s\n",
      "[Parallel(n_jobs=-1)]: Done 386 tasks      | elapsed:    0.2s\n",
      "[Parallel(n_jobs=-1)]: Done 500 out of 500 | elapsed:    0.3s finished\n",
      "[Parallel(n_jobs=-1)]: Using backend LokyBackend with 32 concurrent workers.\n"
     ]
    },
    {
     "name": "stdout",
     "output_type": "stream",
     "text": [
      "  Max leaf index: \n",
      "360\n",
      "  Calculating real leafs... \n"
     ]
    },
    {
     "name": "stderr",
     "output_type": "stream",
     "text": [
      "[Parallel(n_jobs=-1)]: Done 224 tasks      | elapsed:    0.3s\n"
     ]
    },
    {
     "name": "stdout",
     "output_type": "stream",
     "text": [
      "  Calculating similarity matrix... \n"
     ]
    },
    {
     "name": "stderr",
     "output_type": "stream",
     "text": [
      "[Parallel(n_jobs=-1)]: Done 500 out of 500 | elapsed:    0.6s finished\n"
     ]
    },
    {
     "name": "stdout",
     "output_type": "stream",
     "text": [
      "----- SNR:10.0 -----\n",
      "creating a noisy copy\n",
      "Calculating distance vector for NN\n",
      "8/8 [==============================] - 0s 23ms/step\n",
      "Calculating distance vector for SmallRF\n",
      "  Applying forest to results... \n"
     ]
    },
    {
     "name": "stderr",
     "output_type": "stream",
     "text": [
      "[Parallel(n_jobs=-1)]: Using backend ThreadingBackend with 32 concurrent workers.\n",
      "[Parallel(n_jobs=-1)]: Done 136 tasks      | elapsed:    0.2s\n",
      "[Parallel(n_jobs=-1)]: Done 386 tasks      | elapsed:    0.4s\n",
      "[Parallel(n_jobs=-1)]: Done 500 out of 500 | elapsed:    0.4s finished\n",
      "[Parallel(n_jobs=-1)]: Using backend LokyBackend with 32 concurrent workers.\n"
     ]
    },
    {
     "name": "stdout",
     "output_type": "stream",
     "text": [
      "  Max leaf index: \n",
      "74\n",
      "  Calculating real leafs... \n"
     ]
    },
    {
     "name": "stderr",
     "output_type": "stream",
     "text": [
      "[Parallel(n_jobs=-1)]: Done 230 tasks      | elapsed:    0.3s\n"
     ]
    },
    {
     "name": "stdout",
     "output_type": "stream",
     "text": [
      "  Calculating similarity matrix... \n"
     ]
    },
    {
     "name": "stderr",
     "output_type": "stream",
     "text": [
      "[Parallel(n_jobs=-1)]: Done 500 out of 500 | elapsed:    0.5s finished\n"
     ]
    },
    {
     "name": "stdout",
     "output_type": "stream",
     "text": [
      "Calculating distance vector for BigRF\n",
      "  Applying forest to results... \n"
     ]
    },
    {
     "name": "stderr",
     "output_type": "stream",
     "text": [
      "[Parallel(n_jobs=-1)]: Using backend ThreadingBackend with 32 concurrent workers.\n",
      "[Parallel(n_jobs=-1)]: Done 136 tasks      | elapsed:    0.1s\n",
      "[Parallel(n_jobs=-1)]: Done 386 tasks      | elapsed:    0.3s\n",
      "[Parallel(n_jobs=-1)]: Done 500 out of 500 | elapsed:    0.3s finished\n",
      "[Parallel(n_jobs=-1)]: Using backend LokyBackend with 32 concurrent workers.\n"
     ]
    },
    {
     "name": "stdout",
     "output_type": "stream",
     "text": [
      "  Max leaf index: \n",
      "360\n",
      "  Calculating real leafs... \n"
     ]
    },
    {
     "name": "stderr",
     "output_type": "stream",
     "text": [
      "[Parallel(n_jobs=-1)]: Done 224 tasks      | elapsed:    0.3s\n"
     ]
    },
    {
     "name": "stdout",
     "output_type": "stream",
     "text": [
      "  Calculating similarity matrix... \n"
     ]
    },
    {
     "name": "stderr",
     "output_type": "stream",
     "text": [
      "[Parallel(n_jobs=-1)]: Done 500 out of 500 | elapsed:    0.5s finished\n"
     ]
    },
    {
     "name": "stdout",
     "output_type": "stream",
     "text": [
      "----- SNR:15.0 -----\n",
      "creating a noisy copy\n",
      "Calculating distance vector for NN\n",
      "8/8 [==============================] - 0s 22ms/step\n",
      "Calculating distance vector for SmallRF\n",
      "  Applying forest to results... \n",
      "  Max leaf index: \n",
      "74\n",
      "  Calculating real leafs... \n"
     ]
    },
    {
     "name": "stderr",
     "output_type": "stream",
     "text": [
      "[Parallel(n_jobs=-1)]: Using backend ThreadingBackend with 32 concurrent workers.\n",
      "[Parallel(n_jobs=-1)]: Done 136 tasks      | elapsed:    0.0s\n",
      "[Parallel(n_jobs=-1)]: Done 386 tasks      | elapsed:    0.1s\n",
      "[Parallel(n_jobs=-1)]: Done 500 out of 500 | elapsed:    0.1s finished\n",
      "[Parallel(n_jobs=-1)]: Using backend LokyBackend with 32 concurrent workers.\n"
     ]
    },
    {
     "name": "stdout",
     "output_type": "stream",
     "text": [
      "  Calculating similarity matrix... \n"
     ]
    },
    {
     "name": "stderr",
     "output_type": "stream",
     "text": [
      "[Parallel(n_jobs=-1)]: Done 228 tasks      | elapsed:    0.2s\n",
      "[Parallel(n_jobs=-1)]: Done 500 out of 500 | elapsed:    0.3s finished\n"
     ]
    },
    {
     "name": "stdout",
     "output_type": "stream",
     "text": [
      "Calculating distance vector for BigRF\n",
      "  Applying forest to results... \n",
      "  Max leaf index: \n",
      "360\n",
      "  Calculating real leafs... \n"
     ]
    },
    {
     "name": "stderr",
     "output_type": "stream",
     "text": [
      "[Parallel(n_jobs=-1)]: Using backend ThreadingBackend with 32 concurrent workers.\n",
      "[Parallel(n_jobs=-1)]: Done 136 tasks      | elapsed:    0.0s\n",
      "[Parallel(n_jobs=-1)]: Done 386 tasks      | elapsed:    0.0s\n",
      "[Parallel(n_jobs=-1)]: Done 500 out of 500 | elapsed:    0.1s finished\n",
      "[Parallel(n_jobs=-1)]: Using backend LokyBackend with 32 concurrent workers.\n",
      "[Parallel(n_jobs=-1)]: Done 224 tasks      | elapsed:    0.1s\n"
     ]
    },
    {
     "name": "stdout",
     "output_type": "stream",
     "text": [
      "  Calculating similarity matrix... \n"
     ]
    },
    {
     "name": "stderr",
     "output_type": "stream",
     "text": [
      "[Parallel(n_jobs=-1)]: Done 500 out of 500 | elapsed:    0.2s finished\n"
     ]
    },
    {
     "name": "stdout",
     "output_type": "stream",
     "text": [
      "----- SNR:20.0 -----\n",
      "creating a noisy copy\n",
      "Calculating distance vector for NN\n",
      "8/8 [==============================] - 0s 20ms/step\n",
      "Calculating distance vector for SmallRF\n",
      "  Applying forest to results... \n",
      "  Max leaf index: \n",
      "74\n",
      "  Calculating real leafs... \n"
     ]
    },
    {
     "name": "stderr",
     "output_type": "stream",
     "text": [
      "[Parallel(n_jobs=-1)]: Using backend ThreadingBackend with 32 concurrent workers.\n",
      "[Parallel(n_jobs=-1)]: Done 136 tasks      | elapsed:    0.0s\n",
      "[Parallel(n_jobs=-1)]: Done 386 tasks      | elapsed:    0.0s\n",
      "[Parallel(n_jobs=-1)]: Done 500 out of 500 | elapsed:    0.1s finished\n",
      "[Parallel(n_jobs=-1)]: Using backend LokyBackend with 32 concurrent workers.\n",
      "[Parallel(n_jobs=-1)]: Done 224 tasks      | elapsed:    0.1s\n"
     ]
    },
    {
     "name": "stdout",
     "output_type": "stream",
     "text": [
      "  Calculating similarity matrix... \n"
     ]
    },
    {
     "name": "stderr",
     "output_type": "stream",
     "text": [
      "[Parallel(n_jobs=-1)]: Done 500 out of 500 | elapsed:    0.2s finished\n"
     ]
    },
    {
     "name": "stdout",
     "output_type": "stream",
     "text": [
      "Calculating distance vector for BigRF\n",
      "  Applying forest to results... \n",
      "  Max leaf index: \n",
      "360\n",
      "  Calculating real leafs... \n"
     ]
    },
    {
     "name": "stderr",
     "output_type": "stream",
     "text": [
      "[Parallel(n_jobs=-1)]: Using backend ThreadingBackend with 32 concurrent workers.\n",
      "[Parallel(n_jobs=-1)]: Done 136 tasks      | elapsed:    0.0s\n",
      "[Parallel(n_jobs=-1)]: Done 386 tasks      | elapsed:    0.0s\n",
      "[Parallel(n_jobs=-1)]: Done 500 out of 500 | elapsed:    0.1s finished\n",
      "[Parallel(n_jobs=-1)]: Using backend LokyBackend with 32 concurrent workers.\n",
      "[Parallel(n_jobs=-1)]: Done 224 tasks      | elapsed:    0.1s\n"
     ]
    },
    {
     "name": "stdout",
     "output_type": "stream",
     "text": [
      "  Calculating similarity matrix... \n"
     ]
    },
    {
     "name": "stderr",
     "output_type": "stream",
     "text": [
      "[Parallel(n_jobs=-1)]: Done 437 out of 500 | elapsed:    0.2s remaining:    0.0s\n",
      "[Parallel(n_jobs=-1)]: Done 500 out of 500 | elapsed:    0.2s finished\n"
     ]
    },
    {
     "name": "stdout",
     "output_type": "stream",
     "text": [
      "----- SNR:25.0 -----\n",
      "creating a noisy copy\n",
      "Calculating distance vector for NN\n",
      "8/8 [==============================] - 0s 20ms/step\n",
      "Calculating distance vector for SmallRF\n",
      "  Applying forest to results... \n",
      "  Max leaf index: \n",
      "74\n",
      "  Calculating real leafs... \n"
     ]
    },
    {
     "name": "stderr",
     "output_type": "stream",
     "text": [
      "[Parallel(n_jobs=-1)]: Using backend ThreadingBackend with 32 concurrent workers.\n",
      "[Parallel(n_jobs=-1)]: Done 136 tasks      | elapsed:    0.0s\n",
      "[Parallel(n_jobs=-1)]: Done 386 tasks      | elapsed:    0.1s\n",
      "[Parallel(n_jobs=-1)]: Done 500 out of 500 | elapsed:    0.1s finished\n",
      "[Parallel(n_jobs=-1)]: Using backend LokyBackend with 32 concurrent workers.\n",
      "[Parallel(n_jobs=-1)]: Done 226 tasks      | elapsed:    0.1s\n"
     ]
    },
    {
     "name": "stdout",
     "output_type": "stream",
     "text": [
      "  Calculating similarity matrix... \n"
     ]
    },
    {
     "name": "stderr",
     "output_type": "stream",
     "text": [
      "[Parallel(n_jobs=-1)]: Done 500 out of 500 | elapsed:    0.2s finished\n"
     ]
    },
    {
     "name": "stdout",
     "output_type": "stream",
     "text": [
      "Calculating distance vector for BigRF\n",
      "  Applying forest to results... \n",
      "  Max leaf index: \n",
      "360\n",
      "  Calculating real leafs... \n"
     ]
    },
    {
     "name": "stderr",
     "output_type": "stream",
     "text": [
      "[Parallel(n_jobs=-1)]: Using backend ThreadingBackend with 32 concurrent workers.\n",
      "[Parallel(n_jobs=-1)]: Done 136 tasks      | elapsed:    0.0s\n",
      "[Parallel(n_jobs=-1)]: Done 386 tasks      | elapsed:    0.0s\n",
      "[Parallel(n_jobs=-1)]: Done 500 out of 500 | elapsed:    0.1s finished\n",
      "[Parallel(n_jobs=-1)]: Using backend LokyBackend with 32 concurrent workers.\n",
      "[Parallel(n_jobs=-1)]: Done 224 tasks      | elapsed:    0.1s\n"
     ]
    },
    {
     "name": "stdout",
     "output_type": "stream",
     "text": [
      "  Calculating similarity matrix... \n"
     ]
    },
    {
     "name": "stderr",
     "output_type": "stream",
     "text": [
      "[Parallel(n_jobs=-1)]: Done 437 out of 500 | elapsed:    0.2s remaining:    0.0s\n",
      "[Parallel(n_jobs=-1)]: Done 500 out of 500 | elapsed:    0.2s finished\n"
     ]
    },
    {
     "name": "stdout",
     "output_type": "stream",
     "text": [
      "----- SNR:30.0 -----\n",
      "creating a noisy copy\n",
      "Calculating distance vector for NN\n",
      "8/8 [==============================] - 0s 20ms/step\n",
      "Calculating distance vector for SmallRF\n",
      "  Applying forest to results... \n",
      "  Max leaf index: \n",
      "74\n",
      "  Calculating real leafs... \n"
     ]
    },
    {
     "name": "stderr",
     "output_type": "stream",
     "text": [
      "[Parallel(n_jobs=-1)]: Using backend ThreadingBackend with 32 concurrent workers.\n",
      "[Parallel(n_jobs=-1)]: Done 137 tasks      | elapsed:    0.0s\n",
      "[Parallel(n_jobs=-1)]: Done 387 tasks      | elapsed:    0.1s\n",
      "[Parallel(n_jobs=-1)]: Done 500 out of 500 | elapsed:    0.1s finished\n",
      "[Parallel(n_jobs=-1)]: Using backend LokyBackend with 32 concurrent workers.\n"
     ]
    },
    {
     "name": "stdout",
     "output_type": "stream",
     "text": [
      "  Calculating similarity matrix... \n"
     ]
    },
    {
     "name": "stderr",
     "output_type": "stream",
     "text": [
      "[Parallel(n_jobs=-1)]: Done 224 tasks      | elapsed:    0.1s\n",
      "[Parallel(n_jobs=-1)]: Done 437 out of 500 | elapsed:    0.2s remaining:    0.0s\n",
      "[Parallel(n_jobs=-1)]: Done 500 out of 500 | elapsed:    0.2s finished\n"
     ]
    },
    {
     "name": "stdout",
     "output_type": "stream",
     "text": [
      "Calculating distance vector for BigRF\n",
      "  Applying forest to results... \n",
      "  Max leaf index: \n",
      "360\n",
      "  Calculating real leafs... \n"
     ]
    },
    {
     "name": "stderr",
     "output_type": "stream",
     "text": [
      "[Parallel(n_jobs=-1)]: Using backend ThreadingBackend with 32 concurrent workers.\n",
      "[Parallel(n_jobs=-1)]: Done 136 tasks      | elapsed:    0.0s\n",
      "[Parallel(n_jobs=-1)]: Done 386 tasks      | elapsed:    0.1s\n",
      "[Parallel(n_jobs=-1)]: Done 500 out of 500 | elapsed:    0.1s finished\n",
      "[Parallel(n_jobs=-1)]: Using backend LokyBackend with 32 concurrent workers.\n",
      "[Parallel(n_jobs=-1)]: Done 224 tasks      | elapsed:    0.1s\n"
     ]
    },
    {
     "name": "stdout",
     "output_type": "stream",
     "text": [
      "  Calculating similarity matrix... \n"
     ]
    },
    {
     "name": "stderr",
     "output_type": "stream",
     "text": [
      "[Parallel(n_jobs=-1)]: Done 437 out of 500 | elapsed:    0.2s remaining:    0.0s\n",
      "[Parallel(n_jobs=-1)]: Done 500 out of 500 | elapsed:    0.2s finished\n"
     ]
    },
    {
     "name": "stdout",
     "output_type": "stream",
     "text": [
      "----- SNR:40.0 -----\n",
      "creating a noisy copy\n",
      "Calculating distance vector for NN\n",
      "8/8 [==============================] - 0s 20ms/step\n",
      "Calculating distance vector for SmallRF\n",
      "  Applying forest to results... \n",
      "  Max leaf index: \n",
      "74\n",
      "  Calculating real leafs... \n"
     ]
    },
    {
     "name": "stderr",
     "output_type": "stream",
     "text": [
      "[Parallel(n_jobs=-1)]: Using backend ThreadingBackend with 32 concurrent workers.\n",
      "[Parallel(n_jobs=-1)]: Done 136 tasks      | elapsed:    0.0s\n",
      "[Parallel(n_jobs=-1)]: Done 386 tasks      | elapsed:    0.1s\n",
      "[Parallel(n_jobs=-1)]: Done 500 out of 500 | elapsed:    0.1s finished\n",
      "[Parallel(n_jobs=-1)]: Using backend LokyBackend with 32 concurrent workers.\n"
     ]
    },
    {
     "name": "stdout",
     "output_type": "stream",
     "text": [
      "  Calculating similarity matrix... \n"
     ]
    },
    {
     "name": "stderr",
     "output_type": "stream",
     "text": [
      "[Parallel(n_jobs=-1)]: Done 226 tasks      | elapsed:    0.1s\n",
      "[Parallel(n_jobs=-1)]: Done 500 out of 500 | elapsed:    0.2s finished\n"
     ]
    },
    {
     "name": "stdout",
     "output_type": "stream",
     "text": [
      "Calculating distance vector for BigRF\n",
      "  Applying forest to results... \n",
      "  Max leaf index: \n",
      "360\n",
      "  Calculating real leafs... \n"
     ]
    },
    {
     "name": "stderr",
     "output_type": "stream",
     "text": [
      "[Parallel(n_jobs=-1)]: Using backend ThreadingBackend with 32 concurrent workers.\n",
      "[Parallel(n_jobs=-1)]: Done 136 tasks      | elapsed:    0.0s\n",
      "[Parallel(n_jobs=-1)]: Done 386 tasks      | elapsed:    0.0s\n",
      "[Parallel(n_jobs=-1)]: Done 500 out of 500 | elapsed:    0.1s finished\n",
      "[Parallel(n_jobs=-1)]: Using backend LokyBackend with 32 concurrent workers.\n",
      "[Parallel(n_jobs=-1)]: Done 224 tasks      | elapsed:    0.1s\n"
     ]
    },
    {
     "name": "stdout",
     "output_type": "stream",
     "text": [
      "  Calculating similarity matrix... \n"
     ]
    },
    {
     "name": "stderr",
     "output_type": "stream",
     "text": [
      "[Parallel(n_jobs=-1)]: Done 437 out of 500 | elapsed:    0.2s remaining:    0.0s\n",
      "[Parallel(n_jobs=-1)]: Done 500 out of 500 | elapsed:    0.2s finished\n"
     ]
    },
    {
     "name": "stdout",
     "output_type": "stream",
     "text": [
      "----- SNR:100.0 -----\n",
      "creating a noisy copy\n",
      "Calculating distance vector for NN\n",
      "8/8 [==============================] - 0s 20ms/step\n",
      "Calculating distance vector for SmallRF\n",
      "  Applying forest to results... \n",
      "  Max leaf index: \n",
      "74\n",
      "  Calculating real leafs... \n"
     ]
    },
    {
     "name": "stderr",
     "output_type": "stream",
     "text": [
      "[Parallel(n_jobs=-1)]: Using backend ThreadingBackend with 32 concurrent workers.\n",
      "[Parallel(n_jobs=-1)]: Done 136 tasks      | elapsed:    0.0s\n",
      "[Parallel(n_jobs=-1)]: Done 386 tasks      | elapsed:    0.0s\n",
      "[Parallel(n_jobs=-1)]: Done 500 out of 500 | elapsed:    0.1s finished\n",
      "[Parallel(n_jobs=-1)]: Using backend LokyBackend with 32 concurrent workers.\n",
      "[Parallel(n_jobs=-1)]: Done 226 tasks      | elapsed:    0.1s\n"
     ]
    },
    {
     "name": "stdout",
     "output_type": "stream",
     "text": [
      "  Calculating similarity matrix... \n"
     ]
    },
    {
     "name": "stderr",
     "output_type": "stream",
     "text": [
      "[Parallel(n_jobs=-1)]: Done 437 out of 500 | elapsed:    0.2s remaining:    0.0s\n",
      "[Parallel(n_jobs=-1)]: Done 500 out of 500 | elapsed:    0.2s finished\n"
     ]
    },
    {
     "name": "stdout",
     "output_type": "stream",
     "text": [
      "Calculating distance vector for BigRF\n",
      "  Applying forest to results... \n",
      "  Max leaf index: \n",
      "360\n",
      "  Calculating real leafs... \n"
     ]
    },
    {
     "name": "stderr",
     "output_type": "stream",
     "text": [
      "[Parallel(n_jobs=-1)]: Using backend ThreadingBackend with 32 concurrent workers.\n",
      "[Parallel(n_jobs=-1)]: Done 136 tasks      | elapsed:    0.0s\n",
      "[Parallel(n_jobs=-1)]: Done 386 tasks      | elapsed:    0.0s\n",
      "[Parallel(n_jobs=-1)]: Done 500 out of 500 | elapsed:    0.1s finished\n",
      "[Parallel(n_jobs=-1)]: Using backend LokyBackend with 32 concurrent workers.\n",
      "[Parallel(n_jobs=-1)]: Done 224 tasks      | elapsed:    0.1s\n"
     ]
    },
    {
     "name": "stdout",
     "output_type": "stream",
     "text": [
      "  Calculating similarity matrix... \n"
     ]
    },
    {
     "name": "stderr",
     "output_type": "stream",
     "text": [
      "[Parallel(n_jobs=-1)]: Done 500 out of 500 | elapsed:    0.2s finished\n"
     ]
    },
    {
     "name": "stdout",
     "output_type": "stream",
     "text": [
      "----- SNR:inf -----\n",
      "creating a noisy copy\n",
      "Calculating distance vector for NN\n",
      "8/8 [==============================] - 0s 20ms/step\n",
      "Calculating distance vector for SmallRF\n",
      "  Applying forest to results... \n",
      "  Max leaf index: \n",
      "74\n",
      "  Calculating real leafs... \n"
     ]
    },
    {
     "name": "stderr",
     "output_type": "stream",
     "text": [
      "[Parallel(n_jobs=-1)]: Using backend ThreadingBackend with 32 concurrent workers.\n",
      "[Parallel(n_jobs=-1)]: Done 136 tasks      | elapsed:    0.0s\n",
      "[Parallel(n_jobs=-1)]: Done 386 tasks      | elapsed:    0.1s\n",
      "[Parallel(n_jobs=-1)]: Done 500 out of 500 | elapsed:    0.1s finished\n",
      "[Parallel(n_jobs=-1)]: Using backend LokyBackend with 32 concurrent workers.\n",
      "[Parallel(n_jobs=-1)]: Done 224 tasks      | elapsed:    0.1s\n"
     ]
    },
    {
     "name": "stdout",
     "output_type": "stream",
     "text": [
      "  Calculating similarity matrix... \n"
     ]
    },
    {
     "name": "stderr",
     "output_type": "stream",
     "text": [
      "[Parallel(n_jobs=-1)]: Done 500 out of 500 | elapsed:    0.2s finished\n"
     ]
    },
    {
     "name": "stdout",
     "output_type": "stream",
     "text": [
      "Calculating distance vector for BigRF\n",
      "  Applying forest to results... \n",
      "  Max leaf index: \n",
      "360\n",
      "  Calculating real leafs... \n"
     ]
    },
    {
     "name": "stderr",
     "output_type": "stream",
     "text": [
      "[Parallel(n_jobs=-1)]: Using backend ThreadingBackend with 32 concurrent workers.\n",
      "[Parallel(n_jobs=-1)]: Done 136 tasks      | elapsed:    0.0s\n",
      "[Parallel(n_jobs=-1)]: Done 386 tasks      | elapsed:    0.0s\n",
      "[Parallel(n_jobs=-1)]: Done 500 out of 500 | elapsed:    0.1s finished\n",
      "[Parallel(n_jobs=-1)]: Using backend LokyBackend with 32 concurrent workers.\n",
      "[Parallel(n_jobs=-1)]: Done 224 tasks      | elapsed:    0.1s\n"
     ]
    },
    {
     "name": "stdout",
     "output_type": "stream",
     "text": [
      "  Calculating similarity matrix... \n"
     ]
    },
    {
     "name": "stderr",
     "output_type": "stream",
     "text": [
      "[Parallel(n_jobs=-1)]: Done 437 out of 500 | elapsed:    0.2s remaining:    0.0s\n",
      "[Parallel(n_jobs=-1)]: Done 500 out of 500 | elapsed:    0.2s finished\n"
     ]
    },
    {
     "name": "stdout",
     "output_type": "stream",
     "text": [
      "Plotting\n",
      "saving to uri: s3://tau-astro/almogh/thesis2/eval/DistToNoisySelf/NN_val_alt.png\n",
      "====== data:SmallRF_val =====\n",
      "loading from uri: s3://tau-astro/almogh/thesis2/data/SmallRF/val/spec.npy\n",
      "----- SNR:2.0 -----\n",
      "creating a noisy copy\n",
      "Calculating distance vector for NN\n",
      "9/9 [==============================] - 0s 30ms/step\n",
      "Calculating distance vector for SmallRF\n",
      "  Applying forest to results... \n",
      "  Max leaf index: \n",
      "74\n",
      "  Calculating real leafs... \n"
     ]
    },
    {
     "name": "stderr",
     "output_type": "stream",
     "text": [
      "[Parallel(n_jobs=-1)]: Using backend ThreadingBackend with 32 concurrent workers.\n",
      "[Parallel(n_jobs=-1)]: Done   1 tasks      | elapsed:    0.0s\n",
      "[Parallel(n_jobs=-1)]: Done 137 tasks      | elapsed:    0.0s\n",
      "[Parallel(n_jobs=-1)]: Done 387 tasks      | elapsed:    0.0s\n",
      "[Parallel(n_jobs=-1)]: Done 500 out of 500 | elapsed:    0.1s finished\n",
      "[Parallel(n_jobs=-1)]: Using backend LokyBackend with 32 concurrent workers.\n",
      "[Parallel(n_jobs=-1)]: Done 224 tasks      | elapsed:    0.1s\n"
     ]
    },
    {
     "name": "stdout",
     "output_type": "stream",
     "text": [
      "  Calculating similarity matrix... \n"
     ]
    },
    {
     "name": "stderr",
     "output_type": "stream",
     "text": [
      "[Parallel(n_jobs=-1)]: Done 437 out of 500 | elapsed:    0.2s remaining:    0.0s\n",
      "[Parallel(n_jobs=-1)]: Done 500 out of 500 | elapsed:    0.2s finished\n"
     ]
    },
    {
     "name": "stdout",
     "output_type": "stream",
     "text": [
      "Calculating distance vector for BigRF\n",
      "  Applying forest to results... \n",
      "  Max leaf index: \n",
      "360\n",
      "  Calculating real leafs... \n"
     ]
    },
    {
     "name": "stderr",
     "output_type": "stream",
     "text": [
      "[Parallel(n_jobs=-1)]: Using backend ThreadingBackend with 32 concurrent workers.\n",
      "[Parallel(n_jobs=-1)]: Done 136 tasks      | elapsed:    0.0s\n",
      "[Parallel(n_jobs=-1)]: Done 386 tasks      | elapsed:    0.0s\n",
      "[Parallel(n_jobs=-1)]: Done 500 out of 500 | elapsed:    0.1s finished\n",
      "[Parallel(n_jobs=-1)]: Using backend LokyBackend with 32 concurrent workers.\n",
      "[Parallel(n_jobs=-1)]: Done 224 tasks      | elapsed:    0.1s\n"
     ]
    },
    {
     "name": "stdout",
     "output_type": "stream",
     "text": [
      "  Calculating similarity matrix... \n"
     ]
    },
    {
     "name": "stderr",
     "output_type": "stream",
     "text": [
      "[Parallel(n_jobs=-1)]: Done 500 out of 500 | elapsed:    0.2s finished\n"
     ]
    },
    {
     "name": "stdout",
     "output_type": "stream",
     "text": [
      "----- SNR:4.0 -----\n",
      "creating a noisy copy\n",
      "Calculating distance vector for NN\n",
      "9/9 [==============================] - 0s 20ms/step\n",
      "Calculating distance vector for SmallRF\n",
      "  Applying forest to results... \n",
      "  Max leaf index: \n",
      "74\n",
      "  Calculating real leafs... \n"
     ]
    },
    {
     "name": "stderr",
     "output_type": "stream",
     "text": [
      "[Parallel(n_jobs=-1)]: Using backend ThreadingBackend with 32 concurrent workers.\n",
      "[Parallel(n_jobs=-1)]: Done 137 tasks      | elapsed:    0.0s\n",
      "[Parallel(n_jobs=-1)]: Done 387 tasks      | elapsed:    0.0s\n",
      "[Parallel(n_jobs=-1)]: Done 500 out of 500 | elapsed:    0.1s finished\n",
      "[Parallel(n_jobs=-1)]: Using backend LokyBackend with 32 concurrent workers.\n"
     ]
    },
    {
     "name": "stdout",
     "output_type": "stream",
     "text": [
      "  Calculating similarity matrix... \n"
     ]
    },
    {
     "name": "stderr",
     "output_type": "stream",
     "text": [
      "[Parallel(n_jobs=-1)]: Done 226 tasks      | elapsed:    0.2s\n",
      "[Parallel(n_jobs=-1)]: Done 437 out of 500 | elapsed:    0.2s remaining:    0.0s\n",
      "[Parallel(n_jobs=-1)]: Done 500 out of 500 | elapsed:    0.2s finished\n"
     ]
    },
    {
     "name": "stdout",
     "output_type": "stream",
     "text": [
      "Calculating distance vector for BigRF\n",
      "  Applying forest to results... \n",
      "  Max leaf index: \n",
      "360\n",
      "  Calculating real leafs... \n"
     ]
    },
    {
     "name": "stderr",
     "output_type": "stream",
     "text": [
      "[Parallel(n_jobs=-1)]: Using backend ThreadingBackend with 32 concurrent workers.\n",
      "[Parallel(n_jobs=-1)]: Done 136 tasks      | elapsed:    0.0s\n",
      "[Parallel(n_jobs=-1)]: Done 386 tasks      | elapsed:    0.1s\n",
      "[Parallel(n_jobs=-1)]: Done 500 out of 500 | elapsed:    0.1s finished\n",
      "[Parallel(n_jobs=-1)]: Using backend LokyBackend with 32 concurrent workers.\n",
      "[Parallel(n_jobs=-1)]: Done 224 tasks      | elapsed:    0.1s\n"
     ]
    },
    {
     "name": "stdout",
     "output_type": "stream",
     "text": [
      "  Calculating similarity matrix... \n"
     ]
    },
    {
     "name": "stderr",
     "output_type": "stream",
     "text": [
      "[Parallel(n_jobs=-1)]: Done 500 out of 500 | elapsed:    0.2s finished\n"
     ]
    },
    {
     "name": "stdout",
     "output_type": "stream",
     "text": [
      "----- SNR:6.0 -----\n",
      "creating a noisy copy\n",
      "Calculating distance vector for NN\n",
      "9/9 [==============================] - 0s 20ms/step\n",
      "Calculating distance vector for SmallRF\n",
      "  Applying forest to results... \n",
      "  Max leaf index: \n",
      "74\n",
      "  Calculating real leafs... \n"
     ]
    },
    {
     "name": "stderr",
     "output_type": "stream",
     "text": [
      "[Parallel(n_jobs=-1)]: Using backend ThreadingBackend with 32 concurrent workers.\n",
      "[Parallel(n_jobs=-1)]: Done 136 tasks      | elapsed:    0.0s\n",
      "[Parallel(n_jobs=-1)]: Done 386 tasks      | elapsed:    0.1s\n",
      "[Parallel(n_jobs=-1)]: Done 500 out of 500 | elapsed:    0.1s finished\n",
      "[Parallel(n_jobs=-1)]: Using backend LokyBackend with 32 concurrent workers.\n"
     ]
    },
    {
     "name": "stdout",
     "output_type": "stream",
     "text": [
      "  Calculating similarity matrix... \n"
     ]
    },
    {
     "name": "stderr",
     "output_type": "stream",
     "text": [
      "[Parallel(n_jobs=-1)]: Done 226 tasks      | elapsed:    0.1s\n",
      "[Parallel(n_jobs=-1)]: Done 500 out of 500 | elapsed:    0.2s finished\n"
     ]
    },
    {
     "name": "stdout",
     "output_type": "stream",
     "text": [
      "Calculating distance vector for BigRF\n",
      "  Applying forest to results... \n",
      "  Max leaf index: \n",
      "360\n",
      "  Calculating real leafs... \n"
     ]
    },
    {
     "name": "stderr",
     "output_type": "stream",
     "text": [
      "[Parallel(n_jobs=-1)]: Using backend ThreadingBackend with 32 concurrent workers.\n",
      "[Parallel(n_jobs=-1)]: Done 136 tasks      | elapsed:    0.0s\n",
      "[Parallel(n_jobs=-1)]: Done 386 tasks      | elapsed:    0.0s\n",
      "[Parallel(n_jobs=-1)]: Done 500 out of 500 | elapsed:    0.1s finished\n",
      "[Parallel(n_jobs=-1)]: Using backend LokyBackend with 32 concurrent workers.\n",
      "[Parallel(n_jobs=-1)]: Done 224 tasks      | elapsed:    0.1s\n"
     ]
    },
    {
     "name": "stdout",
     "output_type": "stream",
     "text": [
      "  Calculating similarity matrix... \n"
     ]
    },
    {
     "name": "stderr",
     "output_type": "stream",
     "text": [
      "[Parallel(n_jobs=-1)]: Done 437 out of 500 | elapsed:    0.2s remaining:    0.0s\n",
      "[Parallel(n_jobs=-1)]: Done 500 out of 500 | elapsed:    0.2s finished\n"
     ]
    },
    {
     "name": "stdout",
     "output_type": "stream",
     "text": [
      "----- SNR:8.0 -----\n",
      "creating a noisy copy\n",
      "Calculating distance vector for NN\n",
      "9/9 [==============================] - 0s 20ms/step\n",
      "Calculating distance vector for SmallRF\n",
      "  Applying forest to results... \n",
      "  Max leaf index: \n",
      "74\n",
      "  Calculating real leafs... \n"
     ]
    },
    {
     "name": "stderr",
     "output_type": "stream",
     "text": [
      "[Parallel(n_jobs=-1)]: Using backend ThreadingBackend with 32 concurrent workers.\n",
      "[Parallel(n_jobs=-1)]: Done 136 tasks      | elapsed:    0.0s\n",
      "[Parallel(n_jobs=-1)]: Done 386 tasks      | elapsed:    0.1s\n",
      "[Parallel(n_jobs=-1)]: Done 500 out of 500 | elapsed:    0.1s finished\n",
      "[Parallel(n_jobs=-1)]: Using backend LokyBackend with 32 concurrent workers.\n",
      "[Parallel(n_jobs=-1)]: Done 224 tasks      | elapsed:    0.1s\n"
     ]
    },
    {
     "name": "stdout",
     "output_type": "stream",
     "text": [
      "  Calculating similarity matrix... \n"
     ]
    },
    {
     "name": "stderr",
     "output_type": "stream",
     "text": [
      "[Parallel(n_jobs=-1)]: Done 437 out of 500 | elapsed:    0.2s remaining:    0.0s\n",
      "[Parallel(n_jobs=-1)]: Done 500 out of 500 | elapsed:    0.2s finished\n"
     ]
    },
    {
     "name": "stdout",
     "output_type": "stream",
     "text": [
      "Calculating distance vector for BigRF\n",
      "  Applying forest to results... \n",
      "  Max leaf index: \n",
      "360\n",
      "  Calculating real leafs... \n"
     ]
    },
    {
     "name": "stderr",
     "output_type": "stream",
     "text": [
      "[Parallel(n_jobs=-1)]: Using backend ThreadingBackend with 32 concurrent workers.\n",
      "[Parallel(n_jobs=-1)]: Done 136 tasks      | elapsed:    0.0s\n",
      "[Parallel(n_jobs=-1)]: Done 386 tasks      | elapsed:    0.0s\n",
      "[Parallel(n_jobs=-1)]: Done 500 out of 500 | elapsed:    0.1s finished\n",
      "[Parallel(n_jobs=-1)]: Using backend LokyBackend with 32 concurrent workers.\n",
      "[Parallel(n_jobs=-1)]: Done 224 tasks      | elapsed:    0.1s\n"
     ]
    },
    {
     "name": "stdout",
     "output_type": "stream",
     "text": [
      "  Calculating similarity matrix... \n"
     ]
    },
    {
     "name": "stderr",
     "output_type": "stream",
     "text": [
      "[Parallel(n_jobs=-1)]: Done 500 out of 500 | elapsed:    0.2s finished\n"
     ]
    },
    {
     "name": "stdout",
     "output_type": "stream",
     "text": [
      "----- SNR:10.0 -----\n",
      "creating a noisy copy\n",
      "Calculating distance vector for NN\n",
      "9/9 [==============================] - 0s 20ms/step\n",
      "Calculating distance vector for SmallRF\n",
      "  Applying forest to results... \n",
      "  Max leaf index: \n",
      "74\n",
      "  Calculating real leafs... \n"
     ]
    },
    {
     "name": "stderr",
     "output_type": "stream",
     "text": [
      "[Parallel(n_jobs=-1)]: Using backend ThreadingBackend with 32 concurrent workers.\n",
      "[Parallel(n_jobs=-1)]: Done 136 tasks      | elapsed:    0.0s\n",
      "[Parallel(n_jobs=-1)]: Done 386 tasks      | elapsed:    0.1s\n",
      "[Parallel(n_jobs=-1)]: Done 500 out of 500 | elapsed:    0.1s finished\n",
      "[Parallel(n_jobs=-1)]: Using backend LokyBackend with 32 concurrent workers.\n"
     ]
    },
    {
     "name": "stdout",
     "output_type": "stream",
     "text": [
      "  Calculating similarity matrix... \n"
     ]
    },
    {
     "name": "stderr",
     "output_type": "stream",
     "text": [
      "[Parallel(n_jobs=-1)]: Done 224 tasks      | elapsed:    0.1s\n",
      "[Parallel(n_jobs=-1)]: Done 437 out of 500 | elapsed:    0.2s remaining:    0.0s\n",
      "[Parallel(n_jobs=-1)]: Done 500 out of 500 | elapsed:    0.2s finished\n"
     ]
    },
    {
     "name": "stdout",
     "output_type": "stream",
     "text": [
      "Calculating distance vector for BigRF\n",
      "  Applying forest to results... \n",
      "  Max leaf index: \n",
      "360\n",
      "  Calculating real leafs... \n"
     ]
    },
    {
     "name": "stderr",
     "output_type": "stream",
     "text": [
      "[Parallel(n_jobs=-1)]: Using backend ThreadingBackend with 32 concurrent workers.\n",
      "[Parallel(n_jobs=-1)]: Done 136 tasks      | elapsed:    0.0s\n",
      "[Parallel(n_jobs=-1)]: Done 386 tasks      | elapsed:    0.1s\n",
      "[Parallel(n_jobs=-1)]: Done 500 out of 500 | elapsed:    0.1s finished\n",
      "[Parallel(n_jobs=-1)]: Using backend LokyBackend with 32 concurrent workers.\n",
      "[Parallel(n_jobs=-1)]: Done 224 tasks      | elapsed:    0.1s\n"
     ]
    },
    {
     "name": "stdout",
     "output_type": "stream",
     "text": [
      "  Calculating similarity matrix... \n"
     ]
    },
    {
     "name": "stderr",
     "output_type": "stream",
     "text": [
      "[Parallel(n_jobs=-1)]: Done 500 out of 500 | elapsed:    0.2s finished\n"
     ]
    },
    {
     "name": "stdout",
     "output_type": "stream",
     "text": [
      "----- SNR:15.0 -----\n",
      "creating a noisy copy\n",
      "Calculating distance vector for NN\n",
      "9/9 [==============================] - 0s 20ms/step\n",
      "Calculating distance vector for SmallRF\n",
      "  Applying forest to results... \n"
     ]
    },
    {
     "name": "stderr",
     "output_type": "stream",
     "text": [
      "[Parallel(n_jobs=-1)]: Using backend ThreadingBackend with 32 concurrent workers.\n",
      "[Parallel(n_jobs=-1)]: Done 136 tasks      | elapsed:    0.0s\n"
     ]
    },
    {
     "name": "stdout",
     "output_type": "stream",
     "text": [
      "  Max leaf index: \n",
      "74\n",
      "  Calculating real leafs... \n",
      "  Calculating similarity matrix... \n"
     ]
    },
    {
     "name": "stderr",
     "output_type": "stream",
     "text": [
      "[Parallel(n_jobs=-1)]: Done 386 tasks      | elapsed:    0.3s\n",
      "[Parallel(n_jobs=-1)]: Done 500 out of 500 | elapsed:    0.3s finished\n",
      "[Parallel(n_jobs=-1)]: Using backend LokyBackend with 32 concurrent workers.\n",
      "[Parallel(n_jobs=-1)]: Done 224 tasks      | elapsed:    0.1s\n",
      "[Parallel(n_jobs=-1)]: Done 500 out of 500 | elapsed:    0.2s finished\n"
     ]
    },
    {
     "name": "stdout",
     "output_type": "stream",
     "text": [
      "Calculating distance vector for BigRF\n",
      "  Applying forest to results... \n",
      "  Max leaf index: \n",
      "360\n",
      "  Calculating real leafs... \n"
     ]
    },
    {
     "name": "stderr",
     "output_type": "stream",
     "text": [
      "[Parallel(n_jobs=-1)]: Using backend ThreadingBackend with 32 concurrent workers.\n",
      "[Parallel(n_jobs=-1)]: Done 136 tasks      | elapsed:    0.0s\n",
      "[Parallel(n_jobs=-1)]: Done 386 tasks      | elapsed:    0.0s\n",
      "[Parallel(n_jobs=-1)]: Done 500 out of 500 | elapsed:    0.1s finished\n",
      "[Parallel(n_jobs=-1)]: Using backend LokyBackend with 32 concurrent workers.\n",
      "[Parallel(n_jobs=-1)]: Done 224 tasks      | elapsed:    0.1s\n"
     ]
    },
    {
     "name": "stdout",
     "output_type": "stream",
     "text": [
      "  Calculating similarity matrix... \n"
     ]
    },
    {
     "name": "stderr",
     "output_type": "stream",
     "text": [
      "[Parallel(n_jobs=-1)]: Done 437 out of 500 | elapsed:    0.2s remaining:    0.0s\n",
      "[Parallel(n_jobs=-1)]: Done 500 out of 500 | elapsed:    0.2s finished\n"
     ]
    },
    {
     "name": "stdout",
     "output_type": "stream",
     "text": [
      "----- SNR:20.0 -----\n",
      "creating a noisy copy\n",
      "Calculating distance vector for NN\n",
      "9/9 [==============================] - 0s 20ms/step\n",
      "Calculating distance vector for SmallRF\n",
      "  Applying forest to results... \n",
      "  Max leaf index: \n",
      "74\n",
      "  Calculating real leafs... \n"
     ]
    },
    {
     "name": "stderr",
     "output_type": "stream",
     "text": [
      "[Parallel(n_jobs=-1)]: Using backend ThreadingBackend with 32 concurrent workers.\n",
      "[Parallel(n_jobs=-1)]: Done 136 tasks      | elapsed:    0.0s\n",
      "[Parallel(n_jobs=-1)]: Done 386 tasks      | elapsed:    0.0s\n",
      "[Parallel(n_jobs=-1)]: Done 500 out of 500 | elapsed:    0.1s finished\n",
      "[Parallel(n_jobs=-1)]: Using backend LokyBackend with 32 concurrent workers.\n"
     ]
    },
    {
     "name": "stdout",
     "output_type": "stream",
     "text": [
      "  Calculating similarity matrix... \n"
     ]
    },
    {
     "name": "stderr",
     "output_type": "stream",
     "text": [
      "[Parallel(n_jobs=-1)]: Done 224 tasks      | elapsed:    0.1s\n",
      "[Parallel(n_jobs=-1)]: Done 437 out of 500 | elapsed:    0.2s remaining:    0.0s\n",
      "[Parallel(n_jobs=-1)]: Done 500 out of 500 | elapsed:    0.2s finished\n"
     ]
    },
    {
     "name": "stdout",
     "output_type": "stream",
     "text": [
      "Calculating distance vector for BigRF\n",
      "  Applying forest to results... \n",
      "  Max leaf index: \n",
      "360\n",
      "  Calculating real leafs... \n"
     ]
    },
    {
     "name": "stderr",
     "output_type": "stream",
     "text": [
      "[Parallel(n_jobs=-1)]: Using backend ThreadingBackend with 32 concurrent workers.\n",
      "[Parallel(n_jobs=-1)]: Done 136 tasks      | elapsed:    0.0s\n",
      "[Parallel(n_jobs=-1)]: Done 386 tasks      | elapsed:    0.0s\n",
      "[Parallel(n_jobs=-1)]: Done 500 out of 500 | elapsed:    0.1s finished\n",
      "[Parallel(n_jobs=-1)]: Using backend LokyBackend with 32 concurrent workers.\n",
      "[Parallel(n_jobs=-1)]: Done 224 tasks      | elapsed:    0.1s\n"
     ]
    },
    {
     "name": "stdout",
     "output_type": "stream",
     "text": [
      "  Calculating similarity matrix... \n"
     ]
    },
    {
     "name": "stderr",
     "output_type": "stream",
     "text": [
      "[Parallel(n_jobs=-1)]: Done 500 out of 500 | elapsed:    0.2s finished\n"
     ]
    },
    {
     "name": "stdout",
     "output_type": "stream",
     "text": [
      "----- SNR:25.0 -----\n",
      "creating a noisy copy\n",
      "Calculating distance vector for NN\n",
      "9/9 [==============================] - 0s 21ms/step\n",
      "Calculating distance vector for SmallRF\n",
      "  Applying forest to results... \n",
      "  Max leaf index: \n",
      "74\n",
      "  Calculating real leafs... \n"
     ]
    },
    {
     "name": "stderr",
     "output_type": "stream",
     "text": [
      "[Parallel(n_jobs=-1)]: Using backend ThreadingBackend with 32 concurrent workers.\n",
      "[Parallel(n_jobs=-1)]: Done 136 tasks      | elapsed:    0.0s\n",
      "[Parallel(n_jobs=-1)]: Done 386 tasks      | elapsed:    0.0s\n",
      "[Parallel(n_jobs=-1)]: Done 500 out of 500 | elapsed:    0.1s finished\n",
      "[Parallel(n_jobs=-1)]: Using backend LokyBackend with 32 concurrent workers.\n"
     ]
    },
    {
     "name": "stdout",
     "output_type": "stream",
     "text": [
      "  Calculating similarity matrix... \n"
     ]
    },
    {
     "name": "stderr",
     "output_type": "stream",
     "text": [
      "[Parallel(n_jobs=-1)]: Done 224 tasks      | elapsed:    0.1s\n",
      "[Parallel(n_jobs=-1)]: Done 437 out of 500 | elapsed:    0.2s remaining:    0.0s\n",
      "[Parallel(n_jobs=-1)]: Done 500 out of 500 | elapsed:    0.2s finished\n"
     ]
    },
    {
     "name": "stdout",
     "output_type": "stream",
     "text": [
      "Calculating distance vector for BigRF\n",
      "  Applying forest to results... \n",
      "  Max leaf index: \n",
      "360\n",
      "  Calculating real leafs... \n"
     ]
    },
    {
     "name": "stderr",
     "output_type": "stream",
     "text": [
      "[Parallel(n_jobs=-1)]: Using backend ThreadingBackend with 32 concurrent workers.\n",
      "[Parallel(n_jobs=-1)]: Done 136 tasks      | elapsed:    0.0s\n",
      "[Parallel(n_jobs=-1)]: Done 386 tasks      | elapsed:    0.0s\n",
      "[Parallel(n_jobs=-1)]: Done 500 out of 500 | elapsed:    0.1s finished\n",
      "[Parallel(n_jobs=-1)]: Using backend LokyBackend with 32 concurrent workers.\n",
      "[Parallel(n_jobs=-1)]: Done 224 tasks      | elapsed:    0.1s\n"
     ]
    },
    {
     "name": "stdout",
     "output_type": "stream",
     "text": [
      "  Calculating similarity matrix... \n"
     ]
    },
    {
     "name": "stderr",
     "output_type": "stream",
     "text": [
      "[Parallel(n_jobs=-1)]: Done 437 out of 500 | elapsed:    0.2s remaining:    0.0s\n",
      "[Parallel(n_jobs=-1)]: Done 500 out of 500 | elapsed:    0.2s finished\n"
     ]
    },
    {
     "name": "stdout",
     "output_type": "stream",
     "text": [
      "----- SNR:30.0 -----\n",
      "creating a noisy copy\n",
      "Calculating distance vector for NN\n",
      "9/9 [==============================] - 0s 20ms/step\n",
      "Calculating distance vector for SmallRF\n",
      "  Applying forest to results... \n",
      "  Max leaf index: \n",
      "74\n",
      "  Calculating real leafs... \n"
     ]
    },
    {
     "name": "stderr",
     "output_type": "stream",
     "text": [
      "[Parallel(n_jobs=-1)]: Using backend ThreadingBackend with 32 concurrent workers.\n",
      "[Parallel(n_jobs=-1)]: Done 136 tasks      | elapsed:    0.0s\n",
      "[Parallel(n_jobs=-1)]: Done 386 tasks      | elapsed:    0.0s\n",
      "[Parallel(n_jobs=-1)]: Done 500 out of 500 | elapsed:    0.1s finished\n",
      "[Parallel(n_jobs=-1)]: Using backend LokyBackend with 32 concurrent workers.\n"
     ]
    },
    {
     "name": "stdout",
     "output_type": "stream",
     "text": [
      "  Calculating similarity matrix... \n"
     ]
    },
    {
     "name": "stderr",
     "output_type": "stream",
     "text": [
      "[Parallel(n_jobs=-1)]: Done 226 tasks      | elapsed:    0.1s\n",
      "[Parallel(n_jobs=-1)]: Done 437 out of 500 | elapsed:    0.2s remaining:    0.0s\n",
      "[Parallel(n_jobs=-1)]: Done 500 out of 500 | elapsed:    0.2s finished\n"
     ]
    },
    {
     "name": "stdout",
     "output_type": "stream",
     "text": [
      "Calculating distance vector for BigRF\n",
      "  Applying forest to results... \n",
      "  Max leaf index: \n",
      "360\n",
      "  Calculating real leafs... \n"
     ]
    },
    {
     "name": "stderr",
     "output_type": "stream",
     "text": [
      "[Parallel(n_jobs=-1)]: Using backend ThreadingBackend with 32 concurrent workers.\n",
      "[Parallel(n_jobs=-1)]: Done 136 tasks      | elapsed:    0.0s\n",
      "[Parallel(n_jobs=-1)]: Done 386 tasks      | elapsed:    0.1s\n",
      "[Parallel(n_jobs=-1)]: Done 500 out of 500 | elapsed:    0.1s finished\n",
      "[Parallel(n_jobs=-1)]: Using backend LokyBackend with 32 concurrent workers.\n",
      "[Parallel(n_jobs=-1)]: Done 224 tasks      | elapsed:    0.1s\n"
     ]
    },
    {
     "name": "stdout",
     "output_type": "stream",
     "text": [
      "  Calculating similarity matrix... \n"
     ]
    },
    {
     "name": "stderr",
     "output_type": "stream",
     "text": [
      "[Parallel(n_jobs=-1)]: Done 437 out of 500 | elapsed:    0.2s remaining:    0.0s\n",
      "[Parallel(n_jobs=-1)]: Done 500 out of 500 | elapsed:    0.2s finished\n"
     ]
    },
    {
     "name": "stdout",
     "output_type": "stream",
     "text": [
      "----- SNR:40.0 -----\n",
      "creating a noisy copy\n",
      "Calculating distance vector for NN\n",
      "9/9 [==============================] - 0s 20ms/step\n",
      "Calculating distance vector for SmallRF\n",
      "  Applying forest to results... \n",
      "  Max leaf index: \n",
      "74\n",
      "  Calculating real leafs... \n"
     ]
    },
    {
     "name": "stderr",
     "output_type": "stream",
     "text": [
      "[Parallel(n_jobs=-1)]: Using backend ThreadingBackend with 32 concurrent workers.\n",
      "[Parallel(n_jobs=-1)]: Done 136 tasks      | elapsed:    0.0s\n",
      "[Parallel(n_jobs=-1)]: Done 386 tasks      | elapsed:    0.0s\n",
      "[Parallel(n_jobs=-1)]: Done 500 out of 500 | elapsed:    0.1s finished\n",
      "[Parallel(n_jobs=-1)]: Using backend LokyBackend with 32 concurrent workers.\n"
     ]
    },
    {
     "name": "stdout",
     "output_type": "stream",
     "text": [
      "  Calculating similarity matrix... \n"
     ]
    },
    {
     "name": "stderr",
     "output_type": "stream",
     "text": [
      "[Parallel(n_jobs=-1)]: Done 224 tasks      | elapsed:    0.1s\n",
      "[Parallel(n_jobs=-1)]: Done 437 out of 500 | elapsed:    0.2s remaining:    0.0s\n",
      "[Parallel(n_jobs=-1)]: Done 500 out of 500 | elapsed:    0.2s finished\n"
     ]
    },
    {
     "name": "stdout",
     "output_type": "stream",
     "text": [
      "Calculating distance vector for BigRF\n",
      "  Applying forest to results... \n",
      "  Max leaf index: \n",
      "360\n",
      "  Calculating real leafs... \n"
     ]
    },
    {
     "name": "stderr",
     "output_type": "stream",
     "text": [
      "[Parallel(n_jobs=-1)]: Using backend ThreadingBackend with 32 concurrent workers.\n",
      "[Parallel(n_jobs=-1)]: Done 136 tasks      | elapsed:    0.0s\n",
      "[Parallel(n_jobs=-1)]: Done 386 tasks      | elapsed:    0.0s\n",
      "[Parallel(n_jobs=-1)]: Done 500 out of 500 | elapsed:    0.1s finished\n",
      "[Parallel(n_jobs=-1)]: Using backend LokyBackend with 32 concurrent workers.\n",
      "[Parallel(n_jobs=-1)]: Done 224 tasks      | elapsed:    0.1s\n"
     ]
    },
    {
     "name": "stdout",
     "output_type": "stream",
     "text": [
      "  Calculating similarity matrix... \n"
     ]
    },
    {
     "name": "stderr",
     "output_type": "stream",
     "text": [
      "[Parallel(n_jobs=-1)]: Done 437 out of 500 | elapsed:    0.1s remaining:    0.0s\n",
      "[Parallel(n_jobs=-1)]: Done 500 out of 500 | elapsed:    0.2s finished\n"
     ]
    },
    {
     "name": "stdout",
     "output_type": "stream",
     "text": [
      "----- SNR:100.0 -----\n",
      "creating a noisy copy\n",
      "Calculating distance vector for NN\n",
      "9/9 [==============================] - 0s 20ms/step\n",
      "Calculating distance vector for SmallRF\n",
      "  Applying forest to results... \n",
      "  Max leaf index: \n",
      "74\n",
      "  Calculating real leafs... \n"
     ]
    },
    {
     "name": "stderr",
     "output_type": "stream",
     "text": [
      "[Parallel(n_jobs=-1)]: Using backend ThreadingBackend with 32 concurrent workers.\n",
      "[Parallel(n_jobs=-1)]: Done 136 tasks      | elapsed:    0.0s\n",
      "[Parallel(n_jobs=-1)]: Done 386 tasks      | elapsed:    0.1s\n",
      "[Parallel(n_jobs=-1)]: Done 500 out of 500 | elapsed:    0.1s finished\n",
      "[Parallel(n_jobs=-1)]: Using backend LokyBackend with 32 concurrent workers.\n"
     ]
    },
    {
     "name": "stdout",
     "output_type": "stream",
     "text": [
      "  Calculating similarity matrix... \n"
     ]
    },
    {
     "name": "stderr",
     "output_type": "stream",
     "text": [
      "[Parallel(n_jobs=-1)]: Done 226 tasks      | elapsed:    0.1s\n",
      "[Parallel(n_jobs=-1)]: Done 500 out of 500 | elapsed:    0.2s finished\n"
     ]
    },
    {
     "name": "stdout",
     "output_type": "stream",
     "text": [
      "Calculating distance vector for BigRF\n",
      "  Applying forest to results... \n",
      "  Max leaf index: \n",
      "360\n",
      "  Calculating real leafs... \n"
     ]
    },
    {
     "name": "stderr",
     "output_type": "stream",
     "text": [
      "[Parallel(n_jobs=-1)]: Using backend ThreadingBackend with 32 concurrent workers.\n",
      "[Parallel(n_jobs=-1)]: Done 136 tasks      | elapsed:    0.0s\n",
      "[Parallel(n_jobs=-1)]: Done 386 tasks      | elapsed:    0.1s\n",
      "[Parallel(n_jobs=-1)]: Done 500 out of 500 | elapsed:    0.1s finished\n",
      "[Parallel(n_jobs=-1)]: Using backend LokyBackend with 32 concurrent workers.\n"
     ]
    },
    {
     "name": "stdout",
     "output_type": "stream",
     "text": [
      "  Calculating similarity matrix... \n"
     ]
    },
    {
     "name": "stderr",
     "output_type": "stream",
     "text": [
      "[Parallel(n_jobs=-1)]: Done 224 tasks      | elapsed:    0.1s\n",
      "[Parallel(n_jobs=-1)]: Done 500 out of 500 | elapsed:    0.2s finished\n"
     ]
    },
    {
     "name": "stdout",
     "output_type": "stream",
     "text": [
      "----- SNR:inf -----\n",
      "creating a noisy copy\n",
      "Calculating distance vector for NN\n",
      "9/9 [==============================] - 0s 20ms/step\n",
      "Calculating distance vector for SmallRF\n",
      "  Applying forest to results... \n",
      "  Max leaf index: \n",
      "74\n",
      "  Calculating real leafs... \n"
     ]
    },
    {
     "name": "stderr",
     "output_type": "stream",
     "text": [
      "[Parallel(n_jobs=-1)]: Using backend ThreadingBackend with 32 concurrent workers.\n",
      "[Parallel(n_jobs=-1)]: Done 136 tasks      | elapsed:    0.0s\n",
      "[Parallel(n_jobs=-1)]: Done 386 tasks      | elapsed:    0.0s\n",
      "[Parallel(n_jobs=-1)]: Done 500 out of 500 | elapsed:    0.1s finished\n",
      "[Parallel(n_jobs=-1)]: Using backend LokyBackend with 32 concurrent workers.\n"
     ]
    },
    {
     "name": "stdout",
     "output_type": "stream",
     "text": [
      "  Calculating similarity matrix... \n"
     ]
    },
    {
     "name": "stderr",
     "output_type": "stream",
     "text": [
      "[Parallel(n_jobs=-1)]: Done 224 tasks      | elapsed:    0.1s\n",
      "[Parallel(n_jobs=-1)]: Done 500 out of 500 | elapsed:    0.2s finished\n"
     ]
    },
    {
     "name": "stdout",
     "output_type": "stream",
     "text": [
      "Calculating distance vector for BigRF\n",
      "  Applying forest to results... \n",
      "  Max leaf index: \n",
      "360\n",
      "  Calculating real leafs... \n"
     ]
    },
    {
     "name": "stderr",
     "output_type": "stream",
     "text": [
      "[Parallel(n_jobs=-1)]: Using backend ThreadingBackend with 32 concurrent workers.\n",
      "[Parallel(n_jobs=-1)]: Done 136 tasks      | elapsed:    0.0s\n",
      "[Parallel(n_jobs=-1)]: Done 386 tasks      | elapsed:    0.0s\n",
      "[Parallel(n_jobs=-1)]: Done 500 out of 500 | elapsed:    0.1s finished\n",
      "[Parallel(n_jobs=-1)]: Using backend LokyBackend with 32 concurrent workers.\n",
      "[Parallel(n_jobs=-1)]: Done 224 tasks      | elapsed:    0.1s\n"
     ]
    },
    {
     "name": "stdout",
     "output_type": "stream",
     "text": [
      "  Calculating similarity matrix... \n"
     ]
    },
    {
     "name": "stderr",
     "output_type": "stream",
     "text": [
      "[Parallel(n_jobs=-1)]: Done 500 out of 500 | elapsed:    0.2s finished\n"
     ]
    },
    {
     "name": "stdout",
     "output_type": "stream",
     "text": [
      "Plotting\n",
      "saving to uri: s3://tau-astro/almogh/thesis2/eval/DistToNoisySelf/SmallRF_val_alt.png\n",
      "====== data:SmallRF_test =====\n",
      "loading from uri: s3://tau-astro/almogh/thesis2/data/SmallRF/test-topSNR/spec.npy\n",
      "----- SNR:2.0 -----\n",
      "creating a noisy copy\n",
      "Calculating distance vector for NN\n",
      "8/8 [==============================] - 0s 20ms/step\n",
      "Calculating distance vector for SmallRF\n",
      "  Applying forest to results... \n",
      "  Max leaf index: \n",
      "74\n",
      "  Calculating real leafs... \n"
     ]
    },
    {
     "name": "stderr",
     "output_type": "stream",
     "text": [
      "[Parallel(n_jobs=-1)]: Using backend ThreadingBackend with 32 concurrent workers.\n",
      "[Parallel(n_jobs=-1)]: Done 137 tasks      | elapsed:    0.0s\n",
      "[Parallel(n_jobs=-1)]: Done 387 tasks      | elapsed:    0.0s\n",
      "[Parallel(n_jobs=-1)]: Done 500 out of 500 | elapsed:    0.1s finished\n",
      "[Parallel(n_jobs=-1)]: Using backend LokyBackend with 32 concurrent workers.\n",
      "[Parallel(n_jobs=-1)]: Done 224 tasks      | elapsed:    0.1s\n"
     ]
    },
    {
     "name": "stdout",
     "output_type": "stream",
     "text": [
      "  Calculating similarity matrix... \n"
     ]
    },
    {
     "name": "stderr",
     "output_type": "stream",
     "text": [
      "[Parallel(n_jobs=-1)]: Done 500 out of 500 | elapsed:    0.2s finished\n"
     ]
    },
    {
     "name": "stdout",
     "output_type": "stream",
     "text": [
      "Calculating distance vector for BigRF\n",
      "  Applying forest to results... \n",
      "  Max leaf index: \n",
      "360\n",
      "  Calculating real leafs... \n"
     ]
    },
    {
     "name": "stderr",
     "output_type": "stream",
     "text": [
      "[Parallel(n_jobs=-1)]: Using backend ThreadingBackend with 32 concurrent workers.\n",
      "[Parallel(n_jobs=-1)]: Done 136 tasks      | elapsed:    0.0s\n",
      "[Parallel(n_jobs=-1)]: Done 386 tasks      | elapsed:    0.0s\n",
      "[Parallel(n_jobs=-1)]: Done 500 out of 500 | elapsed:    0.1s finished\n",
      "[Parallel(n_jobs=-1)]: Using backend LokyBackend with 32 concurrent workers.\n",
      "[Parallel(n_jobs=-1)]: Done 224 tasks      | elapsed:    0.1s\n"
     ]
    },
    {
     "name": "stdout",
     "output_type": "stream",
     "text": [
      "  Calculating similarity matrix... \n"
     ]
    },
    {
     "name": "stderr",
     "output_type": "stream",
     "text": [
      "[Parallel(n_jobs=-1)]: Done 500 out of 500 | elapsed:    0.2s finished\n"
     ]
    },
    {
     "name": "stdout",
     "output_type": "stream",
     "text": [
      "----- SNR:4.0 -----\n",
      "creating a noisy copy\n",
      "Calculating distance vector for NN\n",
      "8/8 [==============================] - 0s 20ms/step\n",
      "Calculating distance vector for SmallRF\n",
      "  Applying forest to results... \n",
      "  Max leaf index: \n",
      "74\n",
      "  Calculating real leafs... \n"
     ]
    },
    {
     "name": "stderr",
     "output_type": "stream",
     "text": [
      "[Parallel(n_jobs=-1)]: Using backend ThreadingBackend with 32 concurrent workers.\n",
      "[Parallel(n_jobs=-1)]: Done 136 tasks      | elapsed:    0.0s\n",
      "[Parallel(n_jobs=-1)]: Done 386 tasks      | elapsed:    0.1s\n",
      "[Parallel(n_jobs=-1)]: Done 500 out of 500 | elapsed:    0.1s finished\n",
      "[Parallel(n_jobs=-1)]: Using backend LokyBackend with 32 concurrent workers.\n",
      "[Parallel(n_jobs=-1)]: Done 224 tasks      | elapsed:    0.1s\n"
     ]
    },
    {
     "name": "stdout",
     "output_type": "stream",
     "text": [
      "  Calculating similarity matrix... \n"
     ]
    },
    {
     "name": "stderr",
     "output_type": "stream",
     "text": [
      "[Parallel(n_jobs=-1)]: Done 437 out of 500 | elapsed:    0.2s remaining:    0.0s\n",
      "[Parallel(n_jobs=-1)]: Done 500 out of 500 | elapsed:    0.2s finished\n"
     ]
    },
    {
     "name": "stdout",
     "output_type": "stream",
     "text": [
      "Calculating distance vector for BigRF\n",
      "  Applying forest to results... \n",
      "  Max leaf index: \n",
      "360\n",
      "  Calculating real leafs... \n"
     ]
    },
    {
     "name": "stderr",
     "output_type": "stream",
     "text": [
      "[Parallel(n_jobs=-1)]: Using backend ThreadingBackend with 32 concurrent workers.\n",
      "[Parallel(n_jobs=-1)]: Done 136 tasks      | elapsed:    0.0s\n",
      "[Parallel(n_jobs=-1)]: Done 386 tasks      | elapsed:    0.0s\n",
      "[Parallel(n_jobs=-1)]: Done 500 out of 500 | elapsed:    0.1s finished\n",
      "[Parallel(n_jobs=-1)]: Using backend LokyBackend with 32 concurrent workers.\n",
      "[Parallel(n_jobs=-1)]: Done 224 tasks      | elapsed:    0.1s\n"
     ]
    },
    {
     "name": "stdout",
     "output_type": "stream",
     "text": [
      "  Calculating similarity matrix... \n"
     ]
    },
    {
     "name": "stderr",
     "output_type": "stream",
     "text": [
      "[Parallel(n_jobs=-1)]: Done 437 out of 500 | elapsed:    0.2s remaining:    0.0s\n",
      "[Parallel(n_jobs=-1)]: Done 500 out of 500 | elapsed:    0.2s finished\n"
     ]
    },
    {
     "name": "stdout",
     "output_type": "stream",
     "text": [
      "----- SNR:6.0 -----\n",
      "creating a noisy copy\n",
      "Calculating distance vector for NN\n",
      "8/8 [==============================] - 0s 20ms/step\n",
      "Calculating distance vector for SmallRF\n",
      "  Applying forest to results... \n",
      "  Max leaf index: \n",
      "74\n",
      "  Calculating real leafs... \n"
     ]
    },
    {
     "name": "stderr",
     "output_type": "stream",
     "text": [
      "[Parallel(n_jobs=-1)]: Using backend ThreadingBackend with 32 concurrent workers.\n",
      "[Parallel(n_jobs=-1)]: Done 136 tasks      | elapsed:    0.0s\n",
      "[Parallel(n_jobs=-1)]: Done 386 tasks      | elapsed:    0.1s\n",
      "[Parallel(n_jobs=-1)]: Done 500 out of 500 | elapsed:    0.1s finished\n",
      "[Parallel(n_jobs=-1)]: Using backend LokyBackend with 32 concurrent workers.\n",
      "[Parallel(n_jobs=-1)]: Done 224 tasks      | elapsed:    0.1s\n"
     ]
    },
    {
     "name": "stdout",
     "output_type": "stream",
     "text": [
      "  Calculating similarity matrix... \n"
     ]
    },
    {
     "name": "stderr",
     "output_type": "stream",
     "text": [
      "[Parallel(n_jobs=-1)]: Done 437 out of 500 | elapsed:    0.2s remaining:    0.0s\n",
      "[Parallel(n_jobs=-1)]: Done 500 out of 500 | elapsed:    0.2s finished\n"
     ]
    },
    {
     "name": "stdout",
     "output_type": "stream",
     "text": [
      "Calculating distance vector for BigRF\n",
      "  Applying forest to results... \n",
      "  Max leaf index: \n",
      "360\n",
      "  Calculating real leafs... \n"
     ]
    },
    {
     "name": "stderr",
     "output_type": "stream",
     "text": [
      "[Parallel(n_jobs=-1)]: Using backend ThreadingBackend with 32 concurrent workers.\n",
      "[Parallel(n_jobs=-1)]: Done 136 tasks      | elapsed:    0.0s\n",
      "[Parallel(n_jobs=-1)]: Done 386 tasks      | elapsed:    0.1s\n",
      "[Parallel(n_jobs=-1)]: Done 500 out of 500 | elapsed:    0.1s finished\n",
      "[Parallel(n_jobs=-1)]: Using backend LokyBackend with 32 concurrent workers.\n",
      "[Parallel(n_jobs=-1)]: Done 224 tasks      | elapsed:    0.1s\n"
     ]
    },
    {
     "name": "stdout",
     "output_type": "stream",
     "text": [
      "  Calculating similarity matrix... \n"
     ]
    },
    {
     "name": "stderr",
     "output_type": "stream",
     "text": [
      "[Parallel(n_jobs=-1)]: Done 437 out of 500 | elapsed:    0.2s remaining:    0.0s\n",
      "[Parallel(n_jobs=-1)]: Done 500 out of 500 | elapsed:    0.2s finished\n"
     ]
    },
    {
     "name": "stdout",
     "output_type": "stream",
     "text": [
      "----- SNR:8.0 -----\n",
      "creating a noisy copy\n",
      "Calculating distance vector for NN\n",
      "8/8 [==============================] - 0s 21ms/step\n",
      "Calculating distance vector for SmallRF\n",
      "  Applying forest to results... \n",
      "  Max leaf index: \n",
      "74\n",
      "  Calculating real leafs... \n"
     ]
    },
    {
     "name": "stderr",
     "output_type": "stream",
     "text": [
      "[Parallel(n_jobs=-1)]: Using backend ThreadingBackend with 32 concurrent workers.\n",
      "[Parallel(n_jobs=-1)]: Done 136 tasks      | elapsed:    0.0s\n",
      "[Parallel(n_jobs=-1)]: Done 386 tasks      | elapsed:    0.1s\n",
      "[Parallel(n_jobs=-1)]: Done 500 out of 500 | elapsed:    0.1s finished\n",
      "[Parallel(n_jobs=-1)]: Using backend LokyBackend with 32 concurrent workers.\n"
     ]
    },
    {
     "name": "stdout",
     "output_type": "stream",
     "text": [
      "  Calculating similarity matrix... \n"
     ]
    },
    {
     "name": "stderr",
     "output_type": "stream",
     "text": [
      "[Parallel(n_jobs=-1)]: Done 224 tasks      | elapsed:    0.1s\n",
      "[Parallel(n_jobs=-1)]: Done 500 out of 500 | elapsed:    0.2s finished\n"
     ]
    },
    {
     "name": "stdout",
     "output_type": "stream",
     "text": [
      "Calculating distance vector for BigRF\n",
      "  Applying forest to results... \n",
      "  Max leaf index: \n",
      "360\n",
      "  Calculating real leafs... \n"
     ]
    },
    {
     "name": "stderr",
     "output_type": "stream",
     "text": [
      "[Parallel(n_jobs=-1)]: Using backend ThreadingBackend with 32 concurrent workers.\n",
      "[Parallel(n_jobs=-1)]: Done 136 tasks      | elapsed:    0.0s\n",
      "[Parallel(n_jobs=-1)]: Done 386 tasks      | elapsed:    0.0s\n",
      "[Parallel(n_jobs=-1)]: Done 500 out of 500 | elapsed:    0.1s finished\n",
      "[Parallel(n_jobs=-1)]: Using backend LokyBackend with 32 concurrent workers.\n",
      "[Parallel(n_jobs=-1)]: Done 224 tasks      | elapsed:    0.1s\n"
     ]
    },
    {
     "name": "stdout",
     "output_type": "stream",
     "text": [
      "  Calculating similarity matrix... \n"
     ]
    },
    {
     "name": "stderr",
     "output_type": "stream",
     "text": [
      "[Parallel(n_jobs=-1)]: Done 500 out of 500 | elapsed:    0.2s finished\n"
     ]
    },
    {
     "name": "stdout",
     "output_type": "stream",
     "text": [
      "----- SNR:10.0 -----\n",
      "creating a noisy copy\n",
      "Calculating distance vector for NN\n",
      "8/8 [==============================] - 0s 20ms/step\n",
      "Calculating distance vector for SmallRF\n",
      "  Applying forest to results... \n",
      "  Max leaf index: \n",
      "74\n",
      "  Calculating real leafs... \n"
     ]
    },
    {
     "name": "stderr",
     "output_type": "stream",
     "text": [
      "[Parallel(n_jobs=-1)]: Using backend ThreadingBackend with 32 concurrent workers.\n",
      "[Parallel(n_jobs=-1)]: Done 136 tasks      | elapsed:    0.0s\n",
      "[Parallel(n_jobs=-1)]: Done 386 tasks      | elapsed:    0.1s\n",
      "[Parallel(n_jobs=-1)]: Done 500 out of 500 | elapsed:    0.1s finished\n",
      "[Parallel(n_jobs=-1)]: Using backend LokyBackend with 32 concurrent workers.\n",
      "[Parallel(n_jobs=-1)]: Done 228 tasks      | elapsed:    0.1s\n"
     ]
    },
    {
     "name": "stdout",
     "output_type": "stream",
     "text": [
      "  Calculating similarity matrix... \n"
     ]
    },
    {
     "name": "stderr",
     "output_type": "stream",
     "text": [
      "[Parallel(n_jobs=-1)]: Done 437 out of 500 | elapsed:    0.2s remaining:    0.0s\n",
      "[Parallel(n_jobs=-1)]: Done 500 out of 500 | elapsed:    0.2s finished\n"
     ]
    },
    {
     "name": "stdout",
     "output_type": "stream",
     "text": [
      "Calculating distance vector for BigRF\n",
      "  Applying forest to results... \n",
      "  Max leaf index: \n",
      "360\n",
      "  Calculating real leafs... \n"
     ]
    },
    {
     "name": "stderr",
     "output_type": "stream",
     "text": [
      "[Parallel(n_jobs=-1)]: Using backend ThreadingBackend with 32 concurrent workers.\n",
      "[Parallel(n_jobs=-1)]: Done 136 tasks      | elapsed:    0.0s\n",
      "[Parallel(n_jobs=-1)]: Done 386 tasks      | elapsed:    0.1s\n",
      "[Parallel(n_jobs=-1)]: Done 500 out of 500 | elapsed:    0.1s finished\n",
      "[Parallel(n_jobs=-1)]: Using backend LokyBackend with 32 concurrent workers.\n",
      "[Parallel(n_jobs=-1)]: Done 224 tasks      | elapsed:    0.1s\n"
     ]
    },
    {
     "name": "stdout",
     "output_type": "stream",
     "text": [
      "  Calculating similarity matrix... \n"
     ]
    },
    {
     "name": "stderr",
     "output_type": "stream",
     "text": [
      "[Parallel(n_jobs=-1)]: Done 437 out of 500 | elapsed:    0.2s remaining:    0.0s\n",
      "[Parallel(n_jobs=-1)]: Done 500 out of 500 | elapsed:    0.2s finished\n"
     ]
    },
    {
     "name": "stdout",
     "output_type": "stream",
     "text": [
      "----- SNR:15.0 -----\n",
      "creating a noisy copy\n",
      "Calculating distance vector for NN\n",
      "8/8 [==============================] - 0s 20ms/step\n",
      "Calculating distance vector for SmallRF\n",
      "  Applying forest to results... \n",
      "  Max leaf index: \n",
      "74\n",
      "  Calculating real leafs... \n"
     ]
    },
    {
     "name": "stderr",
     "output_type": "stream",
     "text": [
      "[Parallel(n_jobs=-1)]: Using backend ThreadingBackend with 32 concurrent workers.\n",
      "[Parallel(n_jobs=-1)]: Done 136 tasks      | elapsed:    0.0s\n",
      "[Parallel(n_jobs=-1)]: Done 386 tasks      | elapsed:    0.0s\n",
      "[Parallel(n_jobs=-1)]: Done 500 out of 500 | elapsed:    0.1s finished\n",
      "[Parallel(n_jobs=-1)]: Using backend LokyBackend with 32 concurrent workers.\n"
     ]
    },
    {
     "name": "stdout",
     "output_type": "stream",
     "text": [
      "  Calculating similarity matrix... \n"
     ]
    },
    {
     "name": "stderr",
     "output_type": "stream",
     "text": [
      "[Parallel(n_jobs=-1)]: Done 224 tasks      | elapsed:    0.1s\n",
      "[Parallel(n_jobs=-1)]: Done 437 out of 500 | elapsed:    0.2s remaining:    0.0s\n",
      "[Parallel(n_jobs=-1)]: Done 500 out of 500 | elapsed:    0.2s finished\n"
     ]
    },
    {
     "name": "stdout",
     "output_type": "stream",
     "text": [
      "Calculating distance vector for BigRF\n",
      "  Applying forest to results... \n",
      "  Max leaf index: \n",
      "360\n",
      "  Calculating real leafs... \n"
     ]
    },
    {
     "name": "stderr",
     "output_type": "stream",
     "text": [
      "[Parallel(n_jobs=-1)]: Using backend ThreadingBackend with 32 concurrent workers.\n",
      "[Parallel(n_jobs=-1)]: Done 136 tasks      | elapsed:    0.0s\n",
      "[Parallel(n_jobs=-1)]: Done 386 tasks      | elapsed:    0.0s\n",
      "[Parallel(n_jobs=-1)]: Done 500 out of 500 | elapsed:    0.1s finished\n",
      "[Parallel(n_jobs=-1)]: Using backend LokyBackend with 32 concurrent workers.\n",
      "[Parallel(n_jobs=-1)]: Done 224 tasks      | elapsed:    0.1s\n"
     ]
    },
    {
     "name": "stdout",
     "output_type": "stream",
     "text": [
      "  Calculating similarity matrix... \n"
     ]
    },
    {
     "name": "stderr",
     "output_type": "stream",
     "text": [
      "[Parallel(n_jobs=-1)]: Done 500 out of 500 | elapsed:    0.2s finished\n"
     ]
    },
    {
     "name": "stdout",
     "output_type": "stream",
     "text": [
      "----- SNR:20.0 -----\n",
      "creating a noisy copy\n",
      "Calculating distance vector for NN\n",
      "8/8 [==============================] - 0s 20ms/step\n",
      "Calculating distance vector for SmallRF\n",
      "  Applying forest to results... \n",
      "  Max leaf index: \n",
      "74\n",
      "  Calculating real leafs... \n"
     ]
    },
    {
     "name": "stderr",
     "output_type": "stream",
     "text": [
      "[Parallel(n_jobs=-1)]: Using backend ThreadingBackend with 32 concurrent workers.\n",
      "[Parallel(n_jobs=-1)]: Done 136 tasks      | elapsed:    0.0s\n",
      "[Parallel(n_jobs=-1)]: Done 386 tasks      | elapsed:    0.0s\n",
      "[Parallel(n_jobs=-1)]: Done 500 out of 500 | elapsed:    0.1s finished\n",
      "[Parallel(n_jobs=-1)]: Using backend LokyBackend with 32 concurrent workers.\n",
      "[Parallel(n_jobs=-1)]: Done 224 tasks      | elapsed:    0.1s\n"
     ]
    },
    {
     "name": "stdout",
     "output_type": "stream",
     "text": [
      "  Calculating similarity matrix... \n"
     ]
    },
    {
     "name": "stderr",
     "output_type": "stream",
     "text": [
      "[Parallel(n_jobs=-1)]: Done 500 out of 500 | elapsed:    0.2s finished\n"
     ]
    },
    {
     "name": "stdout",
     "output_type": "stream",
     "text": [
      "Calculating distance vector for BigRF\n",
      "  Applying forest to results... \n",
      "  Max leaf index: \n",
      "360\n",
      "  Calculating real leafs... \n"
     ]
    },
    {
     "name": "stderr",
     "output_type": "stream",
     "text": [
      "[Parallel(n_jobs=-1)]: Using backend ThreadingBackend with 32 concurrent workers.\n",
      "[Parallel(n_jobs=-1)]: Done 136 tasks      | elapsed:    0.0s\n",
      "[Parallel(n_jobs=-1)]: Done 386 tasks      | elapsed:    0.0s\n",
      "[Parallel(n_jobs=-1)]: Done 500 out of 500 | elapsed:    0.1s finished\n",
      "[Parallel(n_jobs=-1)]: Using backend LokyBackend with 32 concurrent workers.\n",
      "[Parallel(n_jobs=-1)]: Done 224 tasks      | elapsed:    0.1s\n"
     ]
    },
    {
     "name": "stdout",
     "output_type": "stream",
     "text": [
      "  Calculating similarity matrix... \n"
     ]
    },
    {
     "name": "stderr",
     "output_type": "stream",
     "text": [
      "[Parallel(n_jobs=-1)]: Done 500 out of 500 | elapsed:    0.2s finished\n"
     ]
    },
    {
     "name": "stdout",
     "output_type": "stream",
     "text": [
      "----- SNR:25.0 -----\n",
      "creating a noisy copy\n",
      "Calculating distance vector for NN\n",
      "8/8 [==============================] - 0s 20ms/step\n",
      "Calculating distance vector for SmallRF\n",
      "  Applying forest to results... \n",
      "  Max leaf index: \n",
      "74\n",
      "  Calculating real leafs... \n"
     ]
    },
    {
     "name": "stderr",
     "output_type": "stream",
     "text": [
      "[Parallel(n_jobs=-1)]: Using backend ThreadingBackend with 32 concurrent workers.\n",
      "[Parallel(n_jobs=-1)]: Done 136 tasks      | elapsed:    0.0s\n",
      "[Parallel(n_jobs=-1)]: Done 386 tasks      | elapsed:    0.1s\n",
      "[Parallel(n_jobs=-1)]: Done 500 out of 500 | elapsed:    0.1s finished\n",
      "[Parallel(n_jobs=-1)]: Using backend LokyBackend with 32 concurrent workers.\n",
      "[Parallel(n_jobs=-1)]: Done 226 tasks      | elapsed:    0.1s\n"
     ]
    },
    {
     "name": "stdout",
     "output_type": "stream",
     "text": [
      "  Calculating similarity matrix... \n"
     ]
    },
    {
     "name": "stderr",
     "output_type": "stream",
     "text": [
      "[Parallel(n_jobs=-1)]: Done 437 out of 500 | elapsed:    0.2s remaining:    0.0s\n",
      "[Parallel(n_jobs=-1)]: Done 500 out of 500 | elapsed:    0.2s finished\n"
     ]
    },
    {
     "name": "stdout",
     "output_type": "stream",
     "text": [
      "Calculating distance vector for BigRF\n",
      "  Applying forest to results... \n",
      "  Max leaf index: \n",
      "360\n",
      "  Calculating real leafs... \n"
     ]
    },
    {
     "name": "stderr",
     "output_type": "stream",
     "text": [
      "[Parallel(n_jobs=-1)]: Using backend ThreadingBackend with 32 concurrent workers.\n",
      "[Parallel(n_jobs=-1)]: Done 136 tasks      | elapsed:    0.0s\n",
      "[Parallel(n_jobs=-1)]: Done 386 tasks      | elapsed:    0.1s\n",
      "[Parallel(n_jobs=-1)]: Done 500 out of 500 | elapsed:    0.1s finished\n",
      "[Parallel(n_jobs=-1)]: Using backend LokyBackend with 32 concurrent workers.\n",
      "[Parallel(n_jobs=-1)]: Done 224 tasks      | elapsed:    0.1s\n"
     ]
    },
    {
     "name": "stdout",
     "output_type": "stream",
     "text": [
      "  Calculating similarity matrix... \n"
     ]
    },
    {
     "name": "stderr",
     "output_type": "stream",
     "text": [
      "[Parallel(n_jobs=-1)]: Done 437 out of 500 | elapsed:    0.2s remaining:    0.0s\n",
      "[Parallel(n_jobs=-1)]: Done 500 out of 500 | elapsed:    0.2s finished\n"
     ]
    },
    {
     "name": "stdout",
     "output_type": "stream",
     "text": [
      "----- SNR:30.0 -----\n",
      "creating a noisy copy\n",
      "Calculating distance vector for NN\n",
      "8/8 [==============================] - 0s 20ms/step\n",
      "Calculating distance vector for SmallRF\n",
      "  Applying forest to results... \n",
      "  Max leaf index: \n",
      "74\n",
      "  Calculating real leafs... \n"
     ]
    },
    {
     "name": "stderr",
     "output_type": "stream",
     "text": [
      "[Parallel(n_jobs=-1)]: Using backend ThreadingBackend with 32 concurrent workers.\n",
      "[Parallel(n_jobs=-1)]: Done 138 tasks      | elapsed:    0.0s\n",
      "[Parallel(n_jobs=-1)]: Done 388 tasks      | elapsed:    0.0s\n",
      "[Parallel(n_jobs=-1)]: Done 500 out of 500 | elapsed:    0.1s finished\n",
      "[Parallel(n_jobs=-1)]: Using backend LokyBackend with 32 concurrent workers.\n",
      "[Parallel(n_jobs=-1)]: Done 226 tasks      | elapsed:    0.1s\n"
     ]
    },
    {
     "name": "stdout",
     "output_type": "stream",
     "text": [
      "  Calculating similarity matrix... \n"
     ]
    },
    {
     "name": "stderr",
     "output_type": "stream",
     "text": [
      "[Parallel(n_jobs=-1)]: Done 437 out of 500 | elapsed:    0.2s remaining:    0.0s\n",
      "[Parallel(n_jobs=-1)]: Done 500 out of 500 | elapsed:    0.2s finished\n"
     ]
    },
    {
     "name": "stdout",
     "output_type": "stream",
     "text": [
      "Calculating distance vector for BigRF\n",
      "  Applying forest to results... \n",
      "  Max leaf index: \n",
      "360\n",
      "  Calculating real leafs... \n"
     ]
    },
    {
     "name": "stderr",
     "output_type": "stream",
     "text": [
      "[Parallel(n_jobs=-1)]: Using backend ThreadingBackend with 32 concurrent workers.\n",
      "[Parallel(n_jobs=-1)]: Done 136 tasks      | elapsed:    0.0s\n",
      "[Parallel(n_jobs=-1)]: Done 386 tasks      | elapsed:    0.0s\n",
      "[Parallel(n_jobs=-1)]: Done 500 out of 500 | elapsed:    0.1s finished\n",
      "[Parallel(n_jobs=-1)]: Using backend LokyBackend with 32 concurrent workers.\n",
      "[Parallel(n_jobs=-1)]: Done 224 tasks      | elapsed:    0.1s\n"
     ]
    },
    {
     "name": "stdout",
     "output_type": "stream",
     "text": [
      "  Calculating similarity matrix... \n"
     ]
    },
    {
     "name": "stderr",
     "output_type": "stream",
     "text": [
      "[Parallel(n_jobs=-1)]: Done 437 out of 500 | elapsed:    0.2s remaining:    0.0s\n",
      "[Parallel(n_jobs=-1)]: Done 500 out of 500 | elapsed:    0.2s finished\n"
     ]
    },
    {
     "name": "stdout",
     "output_type": "stream",
     "text": [
      "----- SNR:40.0 -----\n",
      "creating a noisy copy\n",
      "Calculating distance vector for NN\n",
      "8/8 [==============================] - 0s 20ms/step\n",
      "Calculating distance vector for SmallRF\n",
      "  Applying forest to results... \n"
     ]
    },
    {
     "name": "stderr",
     "output_type": "stream",
     "text": [
      "[Parallel(n_jobs=-1)]: Using backend ThreadingBackend with 32 concurrent workers.\n",
      "[Parallel(n_jobs=-1)]: Done 136 tasks      | elapsed:    0.0s\n"
     ]
    },
    {
     "name": "stdout",
     "output_type": "stream",
     "text": [
      "  Max leaf index: \n",
      "74\n",
      "  Calculating real leafs... \n",
      "  Calculating similarity matrix... \n"
     ]
    },
    {
     "name": "stderr",
     "output_type": "stream",
     "text": [
      "[Parallel(n_jobs=-1)]: Done 386 tasks      | elapsed:    0.3s\n",
      "[Parallel(n_jobs=-1)]: Done 500 out of 500 | elapsed:    0.3s finished\n",
      "[Parallel(n_jobs=-1)]: Using backend LokyBackend with 32 concurrent workers.\n",
      "[Parallel(n_jobs=-1)]: Done 224 tasks      | elapsed:    0.1s\n",
      "[Parallel(n_jobs=-1)]: Done 437 out of 500 | elapsed:    0.2s remaining:    0.0s\n",
      "[Parallel(n_jobs=-1)]: Done 500 out of 500 | elapsed:    0.2s finished\n"
     ]
    },
    {
     "name": "stdout",
     "output_type": "stream",
     "text": [
      "Calculating distance vector for BigRF\n",
      "  Applying forest to results... \n",
      "  Max leaf index: \n",
      "360\n",
      "  Calculating real leafs... \n"
     ]
    },
    {
     "name": "stderr",
     "output_type": "stream",
     "text": [
      "[Parallel(n_jobs=-1)]: Using backend ThreadingBackend with 32 concurrent workers.\n",
      "[Parallel(n_jobs=-1)]: Done 136 tasks      | elapsed:    0.0s\n",
      "[Parallel(n_jobs=-1)]: Done 386 tasks      | elapsed:    0.0s\n",
      "[Parallel(n_jobs=-1)]: Done 500 out of 500 | elapsed:    0.1s finished\n",
      "[Parallel(n_jobs=-1)]: Using backend LokyBackend with 32 concurrent workers.\n",
      "[Parallel(n_jobs=-1)]: Done 224 tasks      | elapsed:    0.1s\n"
     ]
    },
    {
     "name": "stdout",
     "output_type": "stream",
     "text": [
      "  Calculating similarity matrix... \n"
     ]
    },
    {
     "name": "stderr",
     "output_type": "stream",
     "text": [
      "[Parallel(n_jobs=-1)]: Done 500 out of 500 | elapsed:    0.2s finished\n"
     ]
    },
    {
     "name": "stdout",
     "output_type": "stream",
     "text": [
      "----- SNR:100.0 -----\n",
      "creating a noisy copy\n",
      "Calculating distance vector for NN\n",
      "8/8 [==============================] - 0s 20ms/step\n",
      "Calculating distance vector for SmallRF\n",
      "  Applying forest to results... \n",
      "  Max leaf index: \n",
      "73\n",
      "  Calculating real leafs... \n"
     ]
    },
    {
     "name": "stderr",
     "output_type": "stream",
     "text": [
      "[Parallel(n_jobs=-1)]: Using backend ThreadingBackend with 32 concurrent workers.\n",
      "[Parallel(n_jobs=-1)]: Done 136 tasks      | elapsed:    0.0s\n",
      "[Parallel(n_jobs=-1)]: Done 386 tasks      | elapsed:    0.1s\n",
      "[Parallel(n_jobs=-1)]: Done 500 out of 500 | elapsed:    0.1s finished\n",
      "[Parallel(n_jobs=-1)]: Using backend LokyBackend with 32 concurrent workers.\n"
     ]
    },
    {
     "name": "stdout",
     "output_type": "stream",
     "text": [
      "  Calculating similarity matrix... \n"
     ]
    },
    {
     "name": "stderr",
     "output_type": "stream",
     "text": [
      "[Parallel(n_jobs=-1)]: Done 224 tasks      | elapsed:    0.1s\n",
      "[Parallel(n_jobs=-1)]: Done 500 out of 500 | elapsed:    0.2s finished\n"
     ]
    },
    {
     "name": "stdout",
     "output_type": "stream",
     "text": [
      "Calculating distance vector for BigRF\n",
      "  Applying forest to results... \n",
      "  Max leaf index: \n",
      "360\n",
      "  Calculating real leafs... \n"
     ]
    },
    {
     "name": "stderr",
     "output_type": "stream",
     "text": [
      "[Parallel(n_jobs=-1)]: Using backend ThreadingBackend with 32 concurrent workers.\n",
      "[Parallel(n_jobs=-1)]: Done 136 tasks      | elapsed:    0.0s\n",
      "[Parallel(n_jobs=-1)]: Done 386 tasks      | elapsed:    0.0s\n",
      "[Parallel(n_jobs=-1)]: Done 500 out of 500 | elapsed:    0.1s finished\n",
      "[Parallel(n_jobs=-1)]: Using backend LokyBackend with 32 concurrent workers.\n",
      "[Parallel(n_jobs=-1)]: Done 224 tasks      | elapsed:    0.1s\n"
     ]
    },
    {
     "name": "stdout",
     "output_type": "stream",
     "text": [
      "  Calculating similarity matrix... \n"
     ]
    },
    {
     "name": "stderr",
     "output_type": "stream",
     "text": [
      "[Parallel(n_jobs=-1)]: Done 437 out of 500 | elapsed:    0.2s remaining:    0.0s\n",
      "[Parallel(n_jobs=-1)]: Done 500 out of 500 | elapsed:    0.2s finished\n"
     ]
    },
    {
     "name": "stdout",
     "output_type": "stream",
     "text": [
      "----- SNR:inf -----\n",
      "creating a noisy copy\n",
      "Calculating distance vector for NN\n",
      "8/8 [==============================] - 0s 21ms/step\n",
      "Calculating distance vector for SmallRF\n",
      "  Applying forest to results... \n",
      "  Max leaf index: \n",
      "73\n",
      "  Calculating real leafs... \n"
     ]
    },
    {
     "name": "stderr",
     "output_type": "stream",
     "text": [
      "[Parallel(n_jobs=-1)]: Using backend ThreadingBackend with 32 concurrent workers.\n",
      "[Parallel(n_jobs=-1)]: Done 136 tasks      | elapsed:    0.0s\n",
      "[Parallel(n_jobs=-1)]: Done 386 tasks      | elapsed:    0.1s\n",
      "[Parallel(n_jobs=-1)]: Done 500 out of 500 | elapsed:    0.1s finished\n",
      "[Parallel(n_jobs=-1)]: Using backend LokyBackend with 32 concurrent workers.\n"
     ]
    },
    {
     "name": "stdout",
     "output_type": "stream",
     "text": [
      "  Calculating similarity matrix... \n"
     ]
    },
    {
     "name": "stderr",
     "output_type": "stream",
     "text": [
      "[Parallel(n_jobs=-1)]: Done 224 tasks      | elapsed:    0.1s\n",
      "[Parallel(n_jobs=-1)]: Done 437 out of 500 | elapsed:    0.2s remaining:    0.0s\n",
      "[Parallel(n_jobs=-1)]: Done 500 out of 500 | elapsed:    0.2s finished\n"
     ]
    },
    {
     "name": "stdout",
     "output_type": "stream",
     "text": [
      "Calculating distance vector for BigRF\n",
      "  Applying forest to results... \n",
      "  Max leaf index: \n",
      "360\n",
      "  Calculating real leafs... \n"
     ]
    },
    {
     "name": "stderr",
     "output_type": "stream",
     "text": [
      "[Parallel(n_jobs=-1)]: Using backend ThreadingBackend with 32 concurrent workers.\n",
      "[Parallel(n_jobs=-1)]: Done 136 tasks      | elapsed:    0.0s\n",
      "[Parallel(n_jobs=-1)]: Done 386 tasks      | elapsed:    0.0s\n",
      "[Parallel(n_jobs=-1)]: Done 500 out of 500 | elapsed:    0.1s finished\n",
      "[Parallel(n_jobs=-1)]: Using backend LokyBackend with 32 concurrent workers.\n",
      "[Parallel(n_jobs=-1)]: Done 224 tasks      | elapsed:    0.1s\n"
     ]
    },
    {
     "name": "stdout",
     "output_type": "stream",
     "text": [
      "  Calculating similarity matrix... \n"
     ]
    },
    {
     "name": "stderr",
     "output_type": "stream",
     "text": [
      "[Parallel(n_jobs=-1)]: Done 500 out of 500 | elapsed:    0.2s finished\n"
     ]
    },
    {
     "name": "stdout",
     "output_type": "stream",
     "text": [
      "Plotting\n",
      "saving to uri: s3://tau-astro/almogh/thesis2/eval/DistToNoisySelf/SmallRF_test_alt.png\n"
     ]
    },
    {
     "data": {
      "image/png": "[encoded data removed]",
      "text/plain": [
       "<Figure size 800x600 with 1 Axes>"
      ]
     },
     "metadata": {},
     "output_type": "display_data"
    },
    {
     "data": {
      "image/png": "[encoded data removed]",
      "text/plain": [
       "<Figure size 800x600 with 1 Axes>"
      ]
     },
     "metadata": {},
     "output_type": "display_data"
    },
    {
     "data": {
      "image/png": "[encoded data removed]",
      "text/plain": [
       "<Figure size 800x600 with 1 Axes>"
      ]
     },
     "metadata": {},
     "output_type": "display_data"
    }
   ],
   "source": [
    "from uRF_SDSS import calcDisMat\n",
    "for data_name, data_dir in data.items():\n",
    "    print('====== data:{0} ====='.format(data_name))\n",
    "    \n",
    "    X = from_s3_npy(s3_client = s3_client,\n",
    "                    bucket_name = bucket_name,\n",
    "                    path_in_bucket = os.path.join(data_dir, 'spec.npy'))\n",
    "    \n",
    "    D_NN = np.zeros(shape=(len(SNRs),X.shape[0]))\n",
    "    D_SmallRF = np.zeros(shape=(len(SNRs),X.shape[0]))\n",
    "    D_BigRF = np.zeros(shape=(len(SNRs),X.shape[0]))\n",
    "\n",
    "    for i,snr in enumerate(SNRs):\n",
    "        print('----- SNR:{0} -----'.format(snr))\n",
    "        \n",
    "        print('creating a noisy copy')\n",
    "        X_noisy = X.copy()\n",
    "        if snr!=np.inf:\n",
    "            N_std_x = np.sqrt((np.std(X,axis=1)**2)/snr)\n",
    "            X_noisy += N_std_x.reshape(-1,1)*np.random.randn(X.shape[0],X.shape[1])\n",
    "        \n",
    "        print('Calculating distance vector for NN')\n",
    "        D_NN[i] = NN.siamese_network.predict([X,X_noisy], batch_size=batch_size)\n",
    "        \n",
    "        print('Calculating distance vector for SmallRF')\n",
    "        D_tmp = calcDisMat(SmallRF, np.concatenate([X, X_noisy]))\n",
    "        D_SmallRF[i] = np.diag(D_tmp, X.shape[0])\n",
    "        \n",
    "        print('Calculating distance vector for BigRF')\n",
    "        D_tmp = calcDisMat(BigRF, np.concatenate([X, X_noisy]))\n",
    "        D_BigRF[i] = np.diag(D_tmp, X.shape[0])\n",
    "        \n",
    "    print('Plotting')\n",
    "\n",
    "    d_NN = np.mean(D_NN, axis=1)\n",
    "    d_SmallRF = np.mean(D_SmallRF, axis=1)\n",
    "    d_BigRF = np.mean(D_BigRF, axis=1)\n",
    "\n",
    "    fig,ax = plt.subplots(figsize=(8,6))\n",
    "\n",
    "    ax.plot(SNRs[:-1], d_NN[:-1], 'tab:blue', label='NN')\n",
    "    ax.plot(SNRs[:-1], d_SmallRF[:-1], 'tab:orange', label='SmallRF')\n",
    "    ax.plot(SNRs[:-1], d_BigRF[:-1], 'tab:green', label='BigRF')\n",
    "\n",
    "    ax.axhline(y=d_NN[-1], color='tab:blue', linestyle='--', label='NN - SNR=inf')\n",
    "    ax.axhline(y=d_SmallRF[-1], color='tab:orange', linestyle='--', label='SmallRF - SNR=inf')\n",
    "    ax.axhline(y=d_BigRF[-1], color='tab:green', linestyle='--', label='BigRF - SNR=inf')\n",
    "\n",
    "    ax.set_xlabel('SNR')\n",
    "    ax.set_ylabel('distance')\n",
    "    ax.set_title('Distance to noisy self - '+data_name)\n",
    "    ax.legend()\n",
    "    plt.grid()\n",
    "\n",
    "    to_s3_fig(fig, s3_client, bucket_name, os.path.join('almogh/thesis2/eval/DistToNoisySelf','{0}.png'.format(data_name)))"
   ]
  }
 ],
 "metadata": {
  "kernelspec": {
   "display_name": "Python 3 (ipykernel)",
   "language": "python",
   "name": "python3"
  },
  "language_info": {
   "codemirror_mode": {
    "name": "ipython",
    "version": 3
   },
   "file_extension": ".py",
   "mimetype": "text/x-python",
   "name": "python",
   "nbconvert_exporter": "python",
   "pygments_lexer": "ipython3",
   "version": "3.10.9"
  }
 },
 "nbformat": 4,
 "nbformat_minor": 5
}
