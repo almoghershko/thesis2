{
 "cells": [
  {
   "cell_type": "markdown",
   "id": "ae38375f-5fe4-4e85-885e-5af7f9308c56",
   "metadata": {},
   "source": [
    "# Initialization"
   ]
  },
  {
   "cell_type": "code",
   "execution_count": 1,
   "id": "d2a9e11d-6268-406a-8678-3775daa85a72",
   "metadata": {},
   "outputs": [
    {
     "name": "stderr",
     "output_type": "stream",
     "text": [
      "/tmp/ipykernel_94/3777615979.py:1: DeprecationWarning: Importing display from IPython.core.display is deprecated since IPython 7.14, please import from IPython display\n",
      "  from IPython.core.display import display, HTML\n"
     ]
    },
    {
     "data": {
      "text/html": [
       "<style>.container { width:100% !important; }</style>"
      ],
      "text/plain": [
       "<IPython.core.display.HTML object>"
      ]
     },
     "metadata": {},
     "output_type": "display_data"
    }
   ],
   "source": [
    "from IPython.core.display import display, HTML\n",
    "display(HTML(\"<style>.container { width:100% !important; }</style>\"))"
   ]
  },
  {
   "cell_type": "code",
   "execution_count": 2,
   "id": "cb7aa070-2816-4212-b905-9b9059a7215b",
   "metadata": {},
   "outputs": [
    {
     "name": "stdout",
     "output_type": "stream",
     "text": [
      "Collecting boto3\n",
      "  Using cached boto3-1.26.114-py3-none-any.whl (135 kB)\n",
      "Requirement already satisfied: astropy in /opt/conda/lib/python3.10/site-packages (5.2.2)\n",
      "Collecting sfdmap\n",
      "  Using cached sfdmap-0.1.1-py3-none-any.whl\n",
      "Collecting progressbar2\n",
      "  Using cached progressbar2-4.2.0-py2.py3-none-any.whl (27 kB)\n",
      "Collecting GPUtil\n",
      "  Using cached GPUtil-1.4.0-py3-none-any.whl\n",
      "Collecting parse\n",
      "  Using cached parse-1.19.0-py3-none-any.whl\n",
      "Collecting s3transfer<0.7.0,>=0.6.0\n",
      "  Using cached s3transfer-0.6.0-py3-none-any.whl (79 kB)\n",
      "Collecting jmespath<2.0.0,>=0.7.1\n",
      "  Using cached jmespath-1.0.1-py3-none-any.whl (20 kB)\n",
      "Collecting botocore<1.30.0,>=1.29.114\n",
      "  Using cached botocore-1.29.114-py3-none-any.whl (10.6 MB)\n",
      "Requirement already satisfied: packaging>=19.0 in /opt/conda/lib/python3.10/site-packages (from astropy) (23.0)\n",
      "Requirement already satisfied: pyerfa>=2.0 in /opt/conda/lib/python3.10/site-packages (from astropy) (2.0.0.3)\n",
      "Requirement already satisfied: numpy>=1.20 in /opt/conda/lib/python3.10/site-packages (from astropy) (1.23.5)\n",
      "Requirement already satisfied: PyYAML>=3.13 in /opt/conda/lib/python3.10/site-packages (from astropy) (6.0)\n",
      "Collecting python-utils>=3.0.0\n",
      "  Using cached python_utils-3.5.2-py2.py3-none-any.whl (24 kB)\n",
      "Requirement already satisfied: urllib3<1.27,>=1.25.4 in /opt/conda/lib/python3.10/site-packages (from botocore<1.30.0,>=1.29.114->boto3) (1.26.15)\n",
      "Requirement already satisfied: python-dateutil<3.0.0,>=2.1 in /opt/conda/lib/python3.10/site-packages (from botocore<1.30.0,>=1.29.114->boto3) (2.8.2)\n",
      "Requirement already satisfied: six>=1.5 in /opt/conda/lib/python3.10/site-packages (from python-dateutil<3.0.0,>=2.1->botocore<1.30.0,>=1.29.114->boto3) (1.16.0)\n",
      "Installing collected packages: parse, GPUtil, sfdmap, python-utils, jmespath, progressbar2, botocore, s3transfer, boto3\n",
      "Successfully installed GPUtil-1.4.0 boto3-1.26.114 botocore-1.29.114 jmespath-1.0.1 parse-1.19.0 progressbar2-4.2.0 python-utils-3.5.2 s3transfer-0.6.0 sfdmap-0.1.1\n"
     ]
    }
   ],
   "source": [
    "!pip install boto3 astropy sfdmap progressbar2 GPUtil parse"
   ]
  },
  {
   "cell_type": "code",
   "execution_count": 3,
   "id": "b743fa12-4668-400a-85a0-26df9afa223d",
   "metadata": {},
   "outputs": [
    {
     "name": "stderr",
     "output_type": "stream",
     "text": [
      "2023-04-15 09:38:10.302807: I tensorflow/core/util/port.cc:110] oneDNN custom operations are on. You may see slightly different numerical results due to floating-point round-off errors from different computation orders. To turn them off, set the environment variable `TF_ENABLE_ONEDNN_OPTS=0`.\n",
      "2023-04-15 09:38:10.343020: I tensorflow/core/platform/cpu_feature_guard.cc:182] This TensorFlow binary is optimized to use available CPU instructions in performance-critical operations.\n",
      "To enable the following instructions: AVX2 AVX512F AVX512_VNNI FMA, in other operations, rebuild TensorFlow with the appropriate compiler flags.\n",
      "2023-04-15 09:38:11.014705: W tensorflow/compiler/tf2tensorrt/utils/py_utils.cc:38] TF-TRT Warning: Could not find TensorRT\n"
     ]
    }
   ],
   "source": [
    "# imports\n",
    "import pandas as pd\n",
    "import numpy as np\n",
    "import os\n",
    "import sys\n",
    "import pickle\n",
    "import boto3\n",
    "from matplotlib import pyplot as plt\n",
    "import time\n",
    "\n",
    "# random seed\n",
    "seed = 42\n",
    "np.random.seed(seed)\n",
    "\n",
    "# local files paths\n",
    "local_home_dir_path = os.path.expanduser(\"~\")\n",
    "local_work_dir_path = os.path.join(local_home_dir_path, 'thesis2')\n",
    "local_code_dir_path = os.path.join(local_work_dir_path , 'code')\n",
    "\n",
    "# S3 file paths\n",
    "endpoint_url = 'https://s3-west.nrp-nautilus.io'\n",
    "bucket_name = 'tau-astro'\n",
    "prefix = 'almogh'\n",
    "s3_work_dir_path = os.path.join(prefix, 'thesis2')\n",
    "s3_data_dir_path = os.path.join(s3_work_dir_path , 'data')\n",
    "s3_models_dir_path = os.path.join(s3_work_dir_path , 'models')\n",
    "s3_final_table_csv_path = os.path.join(s3_data_dir_path, 'SDSS_DR16_all.csv')\n",
    "\n",
    "s3_client = boto3.client(\"s3\", endpoint_url=endpoint_url)\n",
    "\n",
    "# adding code folder to path\n",
    "sys.path.insert(1, local_code_dir_path)\n",
    "from s3 import to_s3_npy, to_s3_pkl, from_s3_npy, from_s3_pkl, to_s3_fig, from_s3_parquet, from_s3_csv, from_s3_pickle"
   ]
  },
  {
   "cell_type": "markdown",
   "id": "865d51eb-06a2-43c5-a50e-bcc8ed437787",
   "metadata": {},
   "source": [
    "# Load Data"
   ]
  },
  {
   "cell_type": "markdown",
   "id": "a7d258af",
   "metadata": {},
   "source": [
    "## Load the dataset"
   ]
  },
  {
   "cell_type": "code",
   "execution_count": 4,
   "id": "2b9126d0-7a25-4895-94b3-8a8c3b0fce03",
   "metadata": {},
   "outputs": [
    {
     "name": "stdout",
     "output_type": "stream",
     "text": [
      "loading from uri: s3://tau-astro/almogh/thesis2/data/BigRF/train/spec.npy\n",
      "loading from uri: s3://tau-astro/almogh/thesis2/data/BigRF/train/wl_grid.npy\n",
      "loading from uri: s3://tau-astro/almogh/thesis2/data/BigRF/train/ivar.npy\n"
     ]
    }
   ],
   "source": [
    "s3_data_dir_path_in_bucket = 'almogh/thesis2/data/BigRF/train/'\n",
    "X = from_s3_npy(s3_client = s3_client, bucket_name = bucket_name,\n",
    "    path_in_bucket = os.path.join(s3_data_dir_path_in_bucket,'spec.npy'))\n",
    "wl_grid = from_s3_npy(s3_client = s3_client, bucket_name = bucket_name,\n",
    "    path_in_bucket = os.path.join(s3_data_dir_path_in_bucket,'wl_grid.npy'))\n",
    "ivar = from_s3_npy(s3_client = s3_client, bucket_name = bucket_name,\n",
    "    path_in_bucket = os.path.join(s3_data_dir_path_in_bucket,'ivar.npy'))"
   ]
  },
  {
   "cell_type": "code",
   "execution_count": 5,
   "id": "c1c16dfc",
   "metadata": {},
   "outputs": [
    {
     "name": "stdout",
     "output_type": "stream",
     "text": [
      "loading from uri: s3://tau-astro/almogh/thesis2/data/BigRF/train/gs.pkl\n"
     ]
    }
   ],
   "source": [
    "gs = from_s3_pickle(s3_client = s3_client, bucket_name = bucket_name,\n",
    "    path_in_bucket = os.path.join(s3_data_dir_path_in_bucket,'gs.pkl'))"
   ]
  },
  {
   "cell_type": "markdown",
   "id": "18602336",
   "metadata": {},
   "source": [
    "## Load the Distance Matrices"
   ]
  },
  {
   "cell_type": "code",
   "execution_count": 6,
   "id": "b3753afb-9875-4e49-a29c-9fc1fedac1ba",
   "metadata": {},
   "outputs": [
    {
     "name": "stdout",
     "output_type": "stream",
     "text": [
      "loading from uri: s3://tau-astro/almogh/thesis2/eval/inference/D_NN2.npy\n",
      "loading from uri: s3://tau-astro/almogh/thesis2/eval/inference/D_BigRF.npy\n",
      "loading from uri: s3://tau-astro/almogh/thesis2/eval/inference/D_SmallRF.npy\n"
     ]
    }
   ],
   "source": [
    "s3_inference_dir_path_in_bucket = 'almogh/thesis2/eval/inference'\n",
    "D_NN = from_s3_npy(s3_client = s3_client, bucket_name = bucket_name,\n",
    "    path_in_bucket = os.path.join(s3_inference_dir_path_in_bucket,'D_NN2.npy'))\n",
    "D_BigRF = from_s3_npy(s3_client = s3_client, bucket_name = bucket_name,\n",
    "    path_in_bucket = os.path.join(s3_inference_dir_path_in_bucket,'D_BigRF.npy'))\n",
    "D_SmallRF = from_s3_npy(s3_client = s3_client, bucket_name = bucket_name,\n",
    "    path_in_bucket = os.path.join(s3_inference_dir_path_in_bucket,'D_SmallRF.npy'))"
   ]
  },
  {
   "cell_type": "markdown",
   "id": "64ef3843",
   "metadata": {},
   "source": [
    "## Calculate weirdness scores"
   ]
  },
  {
   "cell_type": "code",
   "execution_count": 9,
   "id": "8bdaff4f",
   "metadata": {},
   "outputs": [],
   "source": [
    "NN_scores = np.mean(D_NN, axis=1)\n",
    "SmallRF_scores = np.mean(D_SmallRF, axis=1)\n",
    "BigRF_scores = np.mean(D_BigRF, axis=1)"
   ]
  },
  {
   "cell_type": "code",
   "execution_count": 10,
   "id": "2ad24b7c",
   "metadata": {},
   "outputs": [],
   "source": [
    "gs['NN score'] = NN_scores\n",
    "gs['SmallRF score'] = SmallRF_scores\n",
    "gs['BigRF score'] = BigRF_scores"
   ]
  },
  {
   "cell_type": "code",
   "execution_count": 11,
   "id": "67edcc65",
   "metadata": {},
   "outputs": [],
   "source": [
    "from joblib import Parallel, delayed\n",
    "\n",
    "def mean_distance_to_KNN_i(i, d, K):\n",
    "    return i,np.mean(np.sort(d)[:K])\n",
    "    \n",
    "def mean_distance_to_KNN(D, K):\n",
    "    res = Parallel(n_jobs=-1, verbose=5)(delayed(mean_distance_to_KNN_i)(i, D[i], K) for i in range(len(D)))\n",
    "    res = np.array(sorted(res, key=lambda x: x[0]))\n",
    "    return np.array([x[1] for x in res])"
   ]
  },
  {
   "cell_type": "code",
   "execution_count": 12,
   "id": "2f9d0a6b",
   "metadata": {},
   "outputs": [
    {
     "name": "stderr",
     "output_type": "stream",
     "text": [
      "[Parallel(n_jobs=-1)]: Using backend LokyBackend with 16 concurrent workers.\n",
      "[Parallel(n_jobs=-1)]: Done  40 tasks      | elapsed:    0.8s\n",
      "[Parallel(n_jobs=-1)]: Done 384 tasks      | elapsed:    1.2s\n",
      "[Parallel(n_jobs=-1)]: Done 2288 tasks      | elapsed:    3.3s\n",
      "[Parallel(n_jobs=-1)]: Done 4880 tasks      | elapsed:    6.2s\n",
      "[Parallel(n_jobs=-1)]: Done 8048 tasks      | elapsed:    9.1s\n",
      "[Parallel(n_jobs=-1)]: Done 11792 tasks      | elapsed:   13.5s\n",
      "[Parallel(n_jobs=-1)]: Done 16112 tasks      | elapsed:   17.7s\n",
      "[Parallel(n_jobs=-1)]: Done 21008 tasks      | elapsed:   22.1s\n",
      "[Parallel(n_jobs=-1)]: Done 26480 tasks      | elapsed:   27.4s\n",
      "[Parallel(n_jobs=-1)]: Done 32528 tasks      | elapsed:   32.8s\n",
      "[Parallel(n_jobs=-1)]: Done 39152 tasks      | elapsed:   38.8s\n",
      "[Parallel(n_jobs=-1)]: Done 46352 tasks      | elapsed:   45.6s\n",
      "[Parallel(n_jobs=-1)]: Done 54128 tasks      | elapsed:   53.6s\n",
      "[Parallel(n_jobs=-1)]: Done 62480 tasks      | elapsed:  1.0min\n",
      "[Parallel(n_jobs=-1)]: Done 71408 tasks      | elapsed:  1.2min\n",
      "[Parallel(n_jobs=-1)]: Done 80912 tasks      | elapsed:  1.3min\n",
      "[Parallel(n_jobs=-1)]: Done 90992 tasks      | elapsed:  1.5min\n",
      "[Parallel(n_jobs=-1)]: Done 99938 tasks      | elapsed:  1.6min\n",
      "[Parallel(n_jobs=-1)]: Done 100000 out of 100000 | elapsed:  1.6min finished\n",
      "[Parallel(n_jobs=-1)]: Using backend LokyBackend with 16 concurrent workers.\n",
      "[Parallel(n_jobs=-1)]: Done  48 tasks      | elapsed:    0.1s\n",
      "[Parallel(n_jobs=-1)]: Done 512 tasks      | elapsed:    0.4s\n",
      "[Parallel(n_jobs=-1)]: Done 4064 tasks      | elapsed:    1.9s\n",
      "[Parallel(n_jobs=-1)]: Done 9248 tasks      | elapsed:    4.1s\n",
      "[Parallel(n_jobs=-1)]: Done 15584 tasks      | elapsed:    6.9s\n",
      "[Parallel(n_jobs=-1)]: Done 23072 tasks      | elapsed:   10.0s\n",
      "[Parallel(n_jobs=-1)]: Done 31712 tasks      | elapsed:   13.6s\n",
      "[Parallel(n_jobs=-1)]: Done 41504 tasks      | elapsed:   17.9s\n",
      "[Parallel(n_jobs=-1)]: Done 52448 tasks      | elapsed:   22.4s\n",
      "[Parallel(n_jobs=-1)]: Done 64544 tasks      | elapsed:   27.6s\n",
      "[Parallel(n_jobs=-1)]: Done 77792 tasks      | elapsed:   32.9s\n",
      "[Parallel(n_jobs=-1)]: Done 92192 tasks      | elapsed:   38.8s\n",
      "[Parallel(n_jobs=-1)]: Done 100000 out of 100000 | elapsed:   42.0s finished\n",
      "[Parallel(n_jobs=-1)]: Using backend LokyBackend with 16 concurrent workers.\n",
      "[Parallel(n_jobs=-1)]: Done  48 tasks      | elapsed:    0.1s\n",
      "[Parallel(n_jobs=-1)]: Done 512 tasks      | elapsed:    0.4s\n",
      "[Parallel(n_jobs=-1)]: Done 4064 tasks      | elapsed:    1.9s\n",
      "[Parallel(n_jobs=-1)]: Done 9248 tasks      | elapsed:    4.1s\n",
      "[Parallel(n_jobs=-1)]: Done 15584 tasks      | elapsed:    6.7s\n",
      "[Parallel(n_jobs=-1)]: Done 23072 tasks      | elapsed:    9.8s\n",
      "[Parallel(n_jobs=-1)]: Done 31712 tasks      | elapsed:   13.3s\n",
      "[Parallel(n_jobs=-1)]: Done 41504 tasks      | elapsed:   17.5s\n",
      "[Parallel(n_jobs=-1)]: Done 52448 tasks      | elapsed:   21.9s\n",
      "[Parallel(n_jobs=-1)]: Done 64544 tasks      | elapsed:   27.2s\n",
      "[Parallel(n_jobs=-1)]: Done 77792 tasks      | elapsed:   32.7s\n",
      "[Parallel(n_jobs=-1)]: Done 92192 tasks      | elapsed:   38.9s\n",
      "[Parallel(n_jobs=-1)]: Done 100000 out of 100000 | elapsed:   42.2s finished\n"
     ]
    }
   ],
   "source": [
    "K = 100\n",
    "NN_scores_knn = mean_distance_to_KNN(D_NN, K)\n",
    "SmallRF_scores_knn = mean_distance_to_KNN(D_SmallRF, K)\n",
    "BigRF_scores_knn = mean_distance_to_KNN(D_BigRF, K)"
   ]
  },
  {
   "cell_type": "code",
   "execution_count": 13,
   "id": "469fcefc",
   "metadata": {},
   "outputs": [],
   "source": [
    "gs['NN score knn'] = NN_scores_knn\n",
    "gs['SmallRF score knn'] = SmallRF_scores_knn\n",
    "gs['BigRF score knn'] = BigRF_scores_knn"
   ]
  },
  {
   "cell_type": "markdown",
   "id": "3fb9a5f6",
   "metadata": {},
   "source": [
    "## pearson correlation coefficient"
   ]
  },
  {
   "cell_type": "code",
   "execution_count": 14,
   "id": "5e5570a7",
   "metadata": {},
   "outputs": [],
   "source": [
    "from scipy import stats"
   ]
  },
  {
   "cell_type": "code",
   "execution_count": 15,
   "id": "aa37184c",
   "metadata": {},
   "outputs": [
    {
     "data": {
      "text/plain": [
       "PearsonRResult(statistic=0.19803002864222763, pvalue=0.0)"
      ]
     },
     "execution_count": 15,
     "metadata": {},
     "output_type": "execute_result"
    }
   ],
   "source": [
    "stats.pearsonr(gs['snMedian'],gs['weirdness'])"
   ]
  },
  {
   "cell_type": "code",
   "execution_count": 16,
   "id": "f298f352",
   "metadata": {},
   "outputs": [
    {
     "data": {
      "text/plain": [
       "PearsonRResult(statistic=-0.34904273036290856, pvalue=0.0)"
      ]
     },
     "execution_count": 16,
     "metadata": {},
     "output_type": "execute_result"
    }
   ],
   "source": [
    "stats.pearsonr(gs['snMedian'],gs['BigRF score'])"
   ]
  },
  {
   "cell_type": "code",
   "execution_count": 17,
   "id": "bda73578",
   "metadata": {},
   "outputs": [
    {
     "data": {
      "text/plain": [
       "PearsonRResult(statistic=-0.14945449036424593, pvalue=0.0)"
      ]
     },
     "execution_count": 17,
     "metadata": {},
     "output_type": "execute_result"
    }
   ],
   "source": [
    "stats.pearsonr(gs['snMedian'],gs['SmallRF score'])"
   ]
  },
  {
   "cell_type": "code",
   "execution_count": 18,
   "id": "be594f0a",
   "metadata": {},
   "outputs": [
    {
     "data": {
      "text/plain": [
       "PearsonRResult(statistic=-0.09499440041077321, pvalue=3.8542338780205277e-199)"
      ]
     },
     "execution_count": 18,
     "metadata": {},
     "output_type": "execute_result"
    }
   ],
   "source": [
    "stats.pearsonr(gs['snMedian'],gs['NN score'])"
   ]
  },
  {
   "cell_type": "code",
   "execution_count": 19,
   "id": "4d4a6c2e",
   "metadata": {},
   "outputs": [
    {
     "data": {
      "text/plain": [
       "PearsonRResult(statistic=-0.5686678883111068, pvalue=0.0)"
      ]
     },
     "execution_count": 19,
     "metadata": {},
     "output_type": "execute_result"
    }
   ],
   "source": [
    "stats.pearsonr(gs['snMedian'],gs['BigRF score knn'])"
   ]
  },
  {
   "cell_type": "code",
   "execution_count": 20,
   "id": "e7bf368a",
   "metadata": {},
   "outputs": [
    {
     "data": {
      "text/plain": [
       "PearsonRResult(statistic=-0.11267954618019943, pvalue=7.676771149119366e-280)"
      ]
     },
     "execution_count": 20,
     "metadata": {},
     "output_type": "execute_result"
    }
   ],
   "source": [
    "stats.pearsonr(gs['snMedian'],gs['SmallRF score knn'])"
   ]
  },
  {
   "cell_type": "code",
   "execution_count": 21,
   "id": "504483e5",
   "metadata": {},
   "outputs": [
    {
     "data": {
      "text/plain": [
       "PearsonRResult(statistic=0.093363938438752, pvalue=2.0980847588309888e-192)"
      ]
     },
     "execution_count": 21,
     "metadata": {},
     "output_type": "execute_result"
    }
   ],
   "source": [
    "stats.pearsonr(gs['snMedian'],gs['NN score knn'])"
   ]
  },
  {
   "cell_type": "markdown",
   "id": "a939e5b9",
   "metadata": {},
   "source": [
    "## mean score vs SNR"
   ]
  },
  {
   "cell_type": "code",
   "execution_count": 22,
   "id": "77862a4b",
   "metadata": {},
   "outputs": [],
   "source": [
    "N_bins = 20"
   ]
  },
  {
   "cell_type": "code",
   "execution_count": 23,
   "id": "fb1c32cb",
   "metadata": {},
   "outputs": [],
   "source": [
    "I_bins = np.linspace(0,len(gs),N_bins).astype(int)\n",
    "gs_snr_sorted = gs.sort_values(by='snMedian')\n",
    "gs_snr_sorted.index = np.arange(len(gs_snr_sorted))"
   ]
  },
  {
   "cell_type": "code",
   "execution_count": 24,
   "id": "d7eaecbc",
   "metadata": {},
   "outputs": [],
   "source": [
    "def calc_bins_mean_over_col(df_sorted, col_name, I_bins):\n",
    "    return np.array([np.mean(df_sorted[I_bins[i]:I_bins[i+1]][col_name]) for i in range(len(I_bins)-1)])\n",
    "    \n",
    "def calc_bins_std_over_col(df_sorted, col_name, I_bins):\n",
    "    return np.array([np.std(df_sorted[I_bins[i]:I_bins[i+1]][col_name]) for i in range(len(I_bins)-1)])"
   ]
  },
  {
   "cell_type": "code",
   "execution_count": 25,
   "id": "5393990f",
   "metadata": {},
   "outputs": [],
   "source": [
    "snr_mean =  calc_bins_mean_over_col(gs_snr_sorted, 'snMedian', I_bins)\n",
    "snr_std =  calc_bins_std_over_col(gs_snr_sorted, 'snMedian', I_bins)"
   ]
  },
  {
   "cell_type": "code",
   "execution_count": 26,
   "id": "cad0f482",
   "metadata": {},
   "outputs": [],
   "source": [
    "weirdness_mean =  calc_bins_mean_over_col(gs_snr_sorted, 'weirdness', I_bins)\n",
    "weirdness_std =  calc_bins_std_over_col(gs_snr_sorted, 'weirdness', I_bins)"
   ]
  },
  {
   "cell_type": "code",
   "execution_count": 27,
   "id": "fe9a19ab",
   "metadata": {},
   "outputs": [],
   "source": [
    "BigRF_score_mean =  calc_bins_mean_over_col(gs_snr_sorted, 'BigRF score', I_bins)\n",
    "BigRF_score_std =  calc_bins_std_over_col(gs_snr_sorted, 'BigRF score', I_bins)"
   ]
  },
  {
   "cell_type": "code",
   "execution_count": 28,
   "id": "f211158d",
   "metadata": {},
   "outputs": [],
   "source": [
    "SmallRF_score_mean =  calc_bins_mean_over_col(gs_snr_sorted, 'SmallRF score', I_bins)\n",
    "SmallRF_score_std =  calc_bins_std_over_col(gs_snr_sorted, 'SmallRF score', I_bins)"
   ]
  },
  {
   "cell_type": "code",
   "execution_count": 29,
   "id": "c3721de2",
   "metadata": {},
   "outputs": [],
   "source": [
    "NN_score_mean =  calc_bins_mean_over_col(gs_snr_sorted, 'NN score', I_bins)\n",
    "NN_score_std =  calc_bins_std_over_col(gs_snr_sorted, 'NN score', I_bins)"
   ]
  },
  {
   "cell_type": "code",
   "execution_count": 30,
   "id": "dd5b374c",
   "metadata": {},
   "outputs": [],
   "source": [
    "BigRF_score_knn_mean =  calc_bins_mean_over_col(gs_snr_sorted, 'BigRF score knn', I_bins)\n",
    "BigRF_score_knn_std =  calc_bins_std_over_col(gs_snr_sorted, 'BigRF score knn', I_bins)"
   ]
  },
  {
   "cell_type": "code",
   "execution_count": 31,
   "id": "1e083ee0",
   "metadata": {},
   "outputs": [],
   "source": [
    "SmallRF_score_knn_mean =  calc_bins_mean_over_col(gs_snr_sorted, 'SmallRF score knn', I_bins)\n",
    "SmallRF_score_knn_std =  calc_bins_std_over_col(gs_snr_sorted, 'SmallRF score knn', I_bins)"
   ]
  },
  {
   "cell_type": "code",
   "execution_count": 32,
   "id": "1e989caf",
   "metadata": {},
   "outputs": [],
   "source": [
    "NN_score_knn_mean =  calc_bins_mean_over_col(gs_snr_sorted, 'NN score knn', I_bins)\n",
    "NN_score_knn_std =  calc_bins_std_over_col(gs_snr_sorted, 'NN score knn', I_bins)"
   ]
  },
  {
   "cell_type": "code",
   "execution_count": 33,
   "id": "e5e6be00",
   "metadata": {},
   "outputs": [
    {
     "data": {
      "text/plain": [
       "Text(0, 0.5, 'Mean Score')"
      ]
     },
     "execution_count": 33,
     "metadata": {},
     "output_type": "execute_result"
    },
    {
     "data": {
      "image/png": "[encoded data removed]",
      "text/plain": [
       "<Figure size 640x480 with 1 Axes>"
      ]
     },
     "metadata": {},
     "output_type": "display_data"
    }
   ],
   "source": [
    "plt.plot(snr_mean,weirdness_mean,label='weirdness')\n",
    "plt.plot(snr_mean,BigRF_score_mean,label='BigRF')\n",
    "plt.plot(snr_mean,SmallRF_score_mean,label='SmallRF')\n",
    "plt.plot(snr_mean,NN_score_mean,label='NN')\n",
    "plt.plot(snr_mean,BigRF_score_knn_mean,label='BigRF (KNN)')\n",
    "plt.plot(snr_mean,SmallRF_score_knn_mean,label='SmallRF (KNN)')\n",
    "plt.plot(snr_mean,NN_score_knn_mean,label='NN (KNN)')\n",
    "plt.legend(loc='center left', bbox_to_anchor=(1, 0.5))\n",
    "plt.grid()\n",
    "plt.title('Mean Score vs Mean SNR (For 20 SNR bins)')\n",
    "plt.xlabel('Mean SNR')\n",
    "plt.ylabel('Mean Score')"
   ]
  },
  {
   "cell_type": "markdown",
   "id": "7db61008",
   "metadata": {},
   "source": [
    "plt.errorbar(snr_mean,weirdness_mean,xerr=None,yerr=weirdness_std,label='weirdness')\n",
    "plt.errorbar(snr_mean,BigRF_score_mean,xerr=None,yerr=BigRF_score_std,label='BigRF')\n",
    "plt.errorbar(snr_mean,SmallRF_score_mean,xerr=None,yerr=SmallRF_score_std,label='SmallRF')\n",
    "plt.errorbar(snr_mean,NN_score_mean,xerr=None,yerr=NN_score_std,label='NN')\n",
    "plt.errorbar(snr_mean,BigRF_score_knn_mean,xerr=None,yerr=BigRF_score_knn_std,label='BigRF (KNN)')\n",
    "plt.errorbar(snr_mean,SmallRF_score_knn_mean,xerr=None,yerr=SmallRF_score_knn_std,label='SmallRF (KNN)')\n",
    "plt.errorbar(snr_mean,NN_score_knn_mean,xerr=None,yerr=NN_score_knn_std,label='NN (KNN)')\n",
    "plt.legend()\n",
    "plt.grid()"
   ]
  }
 ],
 "metadata": {
  "kernelspec": {
   "display_name": "Python 3 (ipykernel)",
   "language": "python",
   "name": "python3"
  },
  "language_info": {
   "codemirror_mode": {
    "name": "ipython",
    "version": 3
   },
   "file_extension": ".py",
   "mimetype": "text/x-python",
   "name": "python",
   "nbconvert_exporter": "python",
   "pygments_lexer": "ipython3",
   "version": "3.10.10"
  }
 },
 "nbformat": 4,
 "nbformat_minor": 5
}
