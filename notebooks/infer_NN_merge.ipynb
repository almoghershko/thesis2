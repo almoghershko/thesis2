{
 "cells": [
  {
   "cell_type": "markdown",
   "id": "0159525f-3015-4703-b0f8-d69f95e75470",
   "metadata": {},
   "source": [
    "# Pip Install"
   ]
  },
  {
   "cell_type": "code",
   "execution_count": 1,
   "id": "2248f3c4-29e2-4f5b-9b81-663c3239be7e",
   "metadata": {
    "tags": []
   },
   "outputs": [
    {
     "name": "stdout",
     "output_type": "stream",
     "text": [
      "Collecting boto3\n",
      "  Using cached boto3-1.26.78-py3-none-any.whl (132 kB)\n",
      "Collecting astropy\n",
      "  Using cached astropy-5.2.1-cp310-cp310-manylinux_2_12_x86_64.manylinux2010_x86_64.whl (11.2 MB)\n",
      "Collecting sfdmap\n",
      "  Using cached sfdmap-0.1.1-py3-none-any.whl\n",
      "Collecting progressbar2\n",
      "  Using cached progressbar2-4.2.0-py2.py3-none-any.whl (27 kB)\n",
      "Collecting jmespath<2.0.0,>=0.7.1\n",
      "  Using cached jmespath-1.0.1-py3-none-any.whl (20 kB)\n",
      "Collecting botocore<1.30.0,>=1.29.78\n",
      "  Using cached botocore-1.29.78-py3-none-any.whl (10.4 MB)\n",
      "Collecting s3transfer<0.7.0,>=0.6.0\n",
      "  Using cached s3transfer-0.6.0-py3-none-any.whl (79 kB)\n",
      "Requirement already satisfied: numpy>=1.20 in /opt/conda/lib/python3.10/site-packages (from astropy) (1.23.5)\n",
      "Requirement already satisfied: PyYAML>=3.13 in /opt/conda/lib/python3.10/site-packages (from astropy) (6.0)\n",
      "Collecting pyerfa>=2.0\n",
      "  Using cached pyerfa-2.0.0.1-cp310-cp310-manylinux_2_5_x86_64.manylinux1_x86_64.manylinux_2_12_x86_64.manylinux2010_x86_64.whl (743 kB)\n",
      "Requirement already satisfied: packaging>=19.0 in /opt/conda/lib/python3.10/site-packages (from astropy) (23.0)\n",
      "Collecting python-utils>=3.0.0\n",
      "  Using cached python_utils-3.5.2-py2.py3-none-any.whl (24 kB)\n",
      "Requirement already satisfied: urllib3<1.27,>=1.25.4 in /opt/conda/lib/python3.10/site-packages (from botocore<1.30.0,>=1.29.78->boto3) (1.26.14)\n",
      "Requirement already satisfied: python-dateutil<3.0.0,>=2.1 in /opt/conda/lib/python3.10/site-packages (from botocore<1.30.0,>=1.29.78->boto3) (2.8.2)\n",
      "Requirement already satisfied: six>=1.5 in /opt/conda/lib/python3.10/site-packages (from python-dateutil<3.0.0,>=2.1->botocore<1.30.0,>=1.29.78->boto3) (1.16.0)\n",
      "Installing collected packages: sfdmap, python-utils, pyerfa, jmespath, progressbar2, botocore, astropy, s3transfer, boto3\n",
      "Successfully installed astropy-5.2.1 boto3-1.26.78 botocore-1.29.78 jmespath-1.0.1 progressbar2-4.2.0 pyerfa-2.0.0.1 python-utils-3.5.2 s3transfer-0.6.0 sfdmap-0.1.1\n"
     ]
    }
   ],
   "source": [
    "!pip install boto3 astropy sfdmap progressbar2"
   ]
  },
  {
   "cell_type": "markdown",
   "id": "cc988e7a-efa3-435b-94d9-8b63b2c21b65",
   "metadata": {},
   "source": [
    "# Initialization"
   ]
  },
  {
   "cell_type": "code",
   "execution_count": 2,
   "id": "444251f1-fff2-46af-9d08-65b951d990fb",
   "metadata": {
    "tags": []
   },
   "outputs": [],
   "source": [
    "# imports\n",
    "import pandas as pd\n",
    "import numpy as np\n",
    "import os\n",
    "import sys\n",
    "import pickle\n",
    "import boto3\n",
    "from matplotlib import pyplot as plt\n",
    "import time\n",
    "\n",
    "# random seed\n",
    "seed = 42\n",
    "np.random.seed(seed)\n",
    "\n",
    "# local files paths\n",
    "local_home_dir_path = os.path.expanduser(\"~\")\n",
    "local_work_dir_path = os.path.join(local_home_dir_path, 'thesis2')\n",
    "local_code_dir_path = os.path.join(local_work_dir_path , 'code')\n",
    "\n",
    "# S3 file paths\n",
    "endpoint_url = 'https://s3-west.nrp-nautilus.io'\n",
    "bucket_name = 'tau-astro'\n",
    "prefix = 'almogh'\n",
    "s3_work_dir_path = os.path.join(prefix, 'thesis2')\n",
    "s3_data_dir_path = os.path.join(s3_work_dir_path , 'data')\n",
    "s3_models_dir_path = os.path.join(s3_work_dir_path , 'models')\n",
    "s3_final_table_csv_path = os.path.join(s3_data_dir_path, 'SDSS_DR16_all.csv')\n",
    "\n",
    "s3_client = boto3.client(\"s3\", endpoint_url=endpoint_url)\n",
    "\n",
    "# adding code folder to path\n",
    "sys.path.insert(1, local_code_dir_path)\n",
    "from s3 import to_s3_npy, to_s3_pkl, from_s3_npy, from_s3_pkl, to_s3_fig"
   ]
  },
  {
   "cell_type": "markdown",
   "id": "fe292f0a-6cd0-4f42-91a4-f51788268b6d",
   "metadata": {},
   "source": [
    "# Load Data"
   ]
  },
  {
   "cell_type": "code",
   "execution_count": 3,
   "id": "1a48b80c-1e4f-47e9-9824-673954096130",
   "metadata": {
    "tags": []
   },
   "outputs": [],
   "source": [
    "n_slices = 16"
   ]
  },
  {
   "cell_type": "code",
   "execution_count": 4,
   "id": "474abfc2-a1f4-4ee0-8afb-bec165369cd3",
   "metadata": {
    "tags": []
   },
   "outputs": [
    {
     "name": "stdout",
     "output_type": "stream",
     "text": [
      "loading from uri: s3://tau-astro/almogh/thesis2/eval/inference/Z_NN_i0_n16.npy\n",
      "loading from uri: s3://tau-astro/almogh/thesis2/eval/inference/Z_NN_i1_n16.npy\n",
      "loading from uri: s3://tau-astro/almogh/thesis2/eval/inference/Z_NN_i2_n16.npy\n",
      "loading from uri: s3://tau-astro/almogh/thesis2/eval/inference/Z_NN_i3_n16.npy\n",
      "loading from uri: s3://tau-astro/almogh/thesis2/eval/inference/Z_NN_i4_n16.npy\n",
      "loading from uri: s3://tau-astro/almogh/thesis2/eval/inference/Z_NN_i5_n16.npy\n",
      "loading from uri: s3://tau-astro/almogh/thesis2/eval/inference/Z_NN_i6_n16.npy\n",
      "loading from uri: s3://tau-astro/almogh/thesis2/eval/inference/Z_NN_i7_n16.npy\n",
      "loading from uri: s3://tau-astro/almogh/thesis2/eval/inference/Z_NN_i8_n16.npy\n",
      "loading from uri: s3://tau-astro/almogh/thesis2/eval/inference/Z_NN_i9_n16.npy\n",
      "loading from uri: s3://tau-astro/almogh/thesis2/eval/inference/Z_NN_i10_n16.npy\n",
      "loading from uri: s3://tau-astro/almogh/thesis2/eval/inference/Z_NN_i11_n16.npy\n",
      "loading from uri: s3://tau-astro/almogh/thesis2/eval/inference/Z_NN_i12_n16.npy\n",
      "loading from uri: s3://tau-astro/almogh/thesis2/eval/inference/Z_NN_i13_n16.npy\n",
      "loading from uri: s3://tau-astro/almogh/thesis2/eval/inference/Z_NN_i14_n16.npy\n",
      "loading from uri: s3://tau-astro/almogh/thesis2/eval/inference/Z_NN_i15_n16.npy\n"
     ]
    }
   ],
   "source": [
    "data_path_in_bucket = 'almogh/thesis2/eval/inference/Z_NN_i{0}_n{1}.npy'\n",
    "Z = [from_s3_npy(s3_client = s3_client,\n",
    "                 bucket_name = bucket_name,\n",
    "                 path_in_bucket = data_path_in_bucket.format(i,n_slices)) for i in range(n_slices)]"
   ]
  },
  {
   "cell_type": "markdown",
   "id": "534f91e4-2dfa-4396-9eae-0720557c6931",
   "metadata": {},
   "source": [
    "# Build the distance matrix"
   ]
  },
  {
   "cell_type": "code",
   "execution_count": 5,
   "id": "df9dbef2-5cd9-4999-8bab-7651710dccc7",
   "metadata": {
    "tags": []
   },
   "outputs": [],
   "source": [
    "N = int((-1+np.sqrt(1+8*sum([len(z) for z in Z])))/2)"
   ]
  },
  {
   "cell_type": "code",
   "execution_count": 6,
   "id": "824aea4f-95e7-4101-a24e-7253e8f1db9c",
   "metadata": {
    "tags": []
   },
   "outputs": [],
   "source": [
    "D = np.zeros(shape=(N,N), dtype=np.float16)"
   ]
  },
  {
   "cell_type": "code",
   "execution_count": 7,
   "id": "6c5e92e8-ab26-434e-8a35-1dca95a817be",
   "metadata": {
    "tags": []
   },
   "outputs": [],
   "source": [
    "triu = np.triu_indices(N)\n",
    "tmp = np.linspace(0,len(triu[0]),n_slices+1).astype(int)"
   ]
  },
  {
   "cell_type": "code",
   "execution_count": 8,
   "id": "2d931838-1d71-4477-82e9-e53fb331359b",
   "metadata": {
    "tags": []
   },
   "outputs": [
    {
     "name": "stdout",
     "output_type": "stream",
     "text": [
      "i_slice = 0\n",
      "slice index 0 takes couples 0-312503125 (non-inclusive) out of 5000050000\n",
      "i_slice = 1\n",
      "slice index 1 takes couples 312503125-625006250 (non-inclusive) out of 5000050000\n",
      "i_slice = 2\n",
      "slice index 2 takes couples 625006250-937509375 (non-inclusive) out of 5000050000\n",
      "i_slice = 3\n",
      "slice index 3 takes couples 937509375-1250012500 (non-inclusive) out of 5000050000\n",
      "i_slice = 4\n",
      "slice index 4 takes couples 1250012500-1562515625 (non-inclusive) out of 5000050000\n",
      "i_slice = 5\n",
      "slice index 5 takes couples 1562515625-1875018750 (non-inclusive) out of 5000050000\n",
      "i_slice = 6\n",
      "slice index 6 takes couples 1875018750-2187521875 (non-inclusive) out of 5000050000\n",
      "i_slice = 7\n",
      "slice index 7 takes couples 2187521875-2500025000 (non-inclusive) out of 5000050000\n",
      "i_slice = 8\n",
      "slice index 8 takes couples 2500025000-2812528125 (non-inclusive) out of 5000050000\n",
      "i_slice = 9\n",
      "slice index 9 takes couples 2812528125-3125031250 (non-inclusive) out of 5000050000\n",
      "i_slice = 10\n",
      "slice index 10 takes couples 3125031250-3437534375 (non-inclusive) out of 5000050000\n",
      "i_slice = 11\n",
      "slice index 11 takes couples 3437534375-3750037500 (non-inclusive) out of 5000050000\n",
      "i_slice = 12\n",
      "slice index 12 takes couples 3750037500-4062540625 (non-inclusive) out of 5000050000\n",
      "i_slice = 13\n",
      "slice index 13 takes couples 4062540625-4375043750 (non-inclusive) out of 5000050000\n",
      "i_slice = 14\n",
      "slice index 14 takes couples 4375043750-4687546875 (non-inclusive) out of 5000050000\n",
      "i_slice = 15\n",
      "slice index 15 takes couples 4687546875-5000050000 (non-inclusive) out of 5000050000\n"
     ]
    }
   ],
   "source": [
    "for i_slice,z in enumerate(Z):\n",
    "    print('i_slice = {0}'.format(i_slice))\n",
    "    i_start = tmp[i_slice]\n",
    "    i_end = tmp[i_slice+1]\n",
    "    print('slice index {0} takes couples {1}-{2} (non-inclusive) out of {3}'.format(i_slice, i_start, i_end, len(triu[0])))\n",
    "    triu_i = (triu[0][i_start:i_end].astype(np.int32),triu[1][i_start:i_end].astype(np.int32))\n",
    "    D[triu_i] = z"
   ]
  },
  {
   "cell_type": "code",
   "execution_count": 9,
   "id": "15de1d22-73d2-4dc6-9152-57c499eb5897",
   "metadata": {},
   "outputs": [],
   "source": [
    "D = D.T\n",
    "D[triu] = D.T[triu]"
   ]
  },
  {
   "cell_type": "markdown",
   "id": "c5778770-6e46-4579-905e-8327f45c4d6c",
   "metadata": {},
   "source": [
    "# Save to S3"
   ]
  },
  {
   "cell_type": "code",
   "execution_count": 10,
   "id": "e70010db-069e-4c7b-9b31-c1969a1767b4",
   "metadata": {
    "tags": []
   },
   "outputs": [
    {
     "name": "stdout",
     "output_type": "stream",
     "text": [
      "saving to uri: s3://tau-astro/almogh/thesis2/eval/inference/D_NN.npy\n"
     ]
    },
    {
     "data": {
      "text/plain": [
       "True"
      ]
     },
     "execution_count": 10,
     "metadata": {},
     "output_type": "execute_result"
    }
   ],
   "source": [
    "to_s3_npy(D,\n",
    "          s3_client = s3_client,\n",
    "          bucket_name = bucket_name,\n",
    "          path_in_bucket = 'almogh/thesis2/eval/inference/D_NN.npy')"
   ]
  }
 ],
 "metadata": {
  "kernelspec": {
   "display_name": "Python 3 (ipykernel)",
   "language": "python",
   "name": "python3"
  },
  "language_info": {
   "codemirror_mode": {
    "name": "ipython",
    "version": 3
   },
   "file_extension": ".py",
   "mimetype": "text/x-python",
   "name": "python",
   "nbconvert_exporter": "python",
   "pygments_lexer": "ipython3",
   "version": "3.10.9"
  }
 },
 "nbformat": 4,
 "nbformat_minor": 5
}
